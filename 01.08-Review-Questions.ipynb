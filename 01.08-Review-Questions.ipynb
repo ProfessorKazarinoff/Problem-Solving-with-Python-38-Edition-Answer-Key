{
 "cells": [
  {
   "cell_type": "markdown",
   "metadata": {},
   "source": [
    "## Review Questions"
   ]
  },
  {
   "cell_type": "markdown",
   "metadata": {
    "latex": {
     "environment": "problems"
    }
   },
   "source": [
    "Q01.01 What is Python? How is the Python language different than the Python Interpreter?\n",
    "\n",
    "Q01.02 What is the difference between the version of Python at python.org and the version of Python at Anaconda.com?\n",
    "\n",
    "Q01.03 What are the advantages and disadvantages of using the Anaconda distribution of Python compared to using the version of Python at python.org?\n",
    "\n",
    "Q01.04 There are many different applications to edit Python code. Some examples include: JupyterLab, Sublime Text, Visual Studio Code, and PyCharm. Pick two Python code editors and explain a feature of each code editor. \n",
    "\n",
    "Q01.05 What are some advantages of Python compared to other computer programming languages?\n",
    "\n",
    "Q01.06 What is PyPI? How many packages are currently available for download on PyPI?\n",
    "\n",
    "Q01.07 Find three modules that are part of the Python Standard Library. Write a short description of what each of the modules you choose is used for.\n",
    "\n",
    "Q01.08 Which computer operating systems can Python be installed on?\n",
    "\n",
    "Q01.09 How much does Python cost to download and install?\n",
    "\n",
    "Q01.10 What are three subject areas that have seen a growth in the use of Python?\n",
    "\n",
    "Q01.11 Besides PyPI.org where else can problem solvers go to find Python packages, scripts, and utilities?\n",
    "\n",
    "Q01.12 Name three packages that come pre-installed with the Anaconda distribution of Python\n",
    "\n",
    "Q01.13 How much does the Anaconda distribution of Python cost to download and install?\n",
    "\n",
    "Q01.14 Which operating systems can the Anaconda distribution of Python be installed on?\n",
    "\n",
    "Q01.15 What type of program is the Anaconda Prompt?\n",
    "\n",
    "Q01.16 What is another name for the Python interpreter?\n",
    "\n",
    "Q01.17 How can you bring up the Python interpreter (the Python REPL) using the Anaconda Prompt?\n",
    "\n",
    "Q01.18 What prompt is shown in the Python interpreter (the Python REPL)?\n",
    "\n",
    "Q01.19 What command do you type to close the Python interpreter (the Python REPL)?\n",
    "\n",
    "Q01.20 What are the first three lines in _The Zen of Python_ by Tim Peters?\n",
    "\n",
    "Q01.21 How do you open the Anaconda Prompt?"
   ]
  },
  {
   "cell_type": "markdown",
   "metadata": {},
   "source": [
    "#### Installing Python on MacOS"
   ]
  },
  {
   "cell_type": "markdown",
   "metadata": {
    "latex": {
     "environment": "problems"
    }
   },
   "source": [
    "Q01.30 What web address do you go to download the Anaconda distribution of Python for MacOS?\n",
    "\n",
    "Q01.31 What file extension does the installer for MacOS of the Anaconda distribution of Python use?\n",
    "\n",
    "Q01.32 When you install the Anaconda distribution of Python on MacOS, what is advised to do for the installation options?\n",
    "\n",
    "Q01.33 Why do you need to ```source``` the **_.bashrc_** file after you install the Anaconda distribution of Python for MacOS?\n",
    "\n",
    "Q01.34 How can you bring up the Python interpreter (the Python REPL) using the MacOS terminal?\n",
    "\n",
    "Q01.35 Which version of Python is it advisable to download and install on MacOS?\n",
    "\n",
    "Q01.36 Python can be installed on MacOS using a terminal program called **Homebrew**. What command is issued to the MacOS terminal to install Python using **Homebrew**?\n",
    "\n",
    "Q01.37 What version of Python comes pre-installed on MacOS?"
   ]
  },
  {
   "cell_type": "markdown",
   "metadata": {},
   "source": [
    "#### Installing Python on Linux"
   ]
  },
  {
   "cell_type": "markdown",
   "metadata": {
    "latex": {
     "environment": "problems"
    }
   },
   "source": [
    "Q01.40 What version(s) of Python comes pre-installed on most Linux distributions?\n",
    "\n",
    "Q01.41 In Linux, what happens when you type ```python``` at the terminal compared to when you type ```python3``` at the terminal?\n",
    "\n",
    "Q01.42 If you use the system version of Python 3 installed on Linux, what command must you enter to install Python packages to the Python 3 version that comes pre-installed?\n",
    "\n",
    "Q01.43 What kind of file type (what is the file extension) is downloaded from Anaconda.com to install the Anaconda distribution of Python on Linux?\n",
    "\n",
    "Q01.44 Why do you need to ```source``` the **_.bashrc_** file after you install the Anaconda distribution of Python for Linux?\n",
    "\n",
    "Q01.45 How can you bring up the Python interpreter (the Python REPL) using a Linux terminal?\n",
    "\n",
    "Q01.46 Which version of Python is it advisable to download and install on Linux?\n",
    "\n",
    "Q01.47 What is a disadvantage of using the version of Python that comes pre-installed on Linux, compared to using the Anaconda distribution of Python on Linux?\n",
    "\n",
    "Q01.48 Before you install the Anaconda distribution of Python on Linux, what version of Python are you most likely to see when you enter the command ```$ python``` in a Linux terminal?\n",
    "\n",
    "Q01.49 Before you install the Anaconda distribution of Python on Linux, what version of Python are you most likely to see when you enter the command ```$ python3``` in a Linux terminal?"
   ]
  },
  {
   "cell_type": "markdown",
   "metadata": {},
   "source": [
    "#### Installing Python from Python.org"
   ]
  },
  {
   "cell_type": "markdown",
   "metadata": {
    "latex": {
     "environment": "problems"
    }
   },
   "source": [
    "Q01.50 What web address do you go to download Python from Python.org?\n",
    "\n",
    "Q01.51 What option is advised to select when downloading and installing Python from Python.org on Windows?\n",
    "\n",
    "Q01.52 If Python 3 is not available on Linux, what package repository can Python 3.6 be downloaded from?\n",
    "\n",
    "Q01.53 Go to Python.org. What is the current version of Python available for download?"
   ]
  },
  {
   "cell_type": "markdown",
   "metadata": {},
   "source": [
    "#### Errors, Explanations, and Solutions"
   ]
  },
  {
   "cell_type": "markdown",
   "metadata": {
    "latex": {
     "environment": "problems"
    }
   },
   "source": [
    "For each of the problems below, run the line of code. Copy the output, then suggest and run a line of code that fixes the error.\n",
    "\n",
    "Q01.91 Open the Python Interpreter (the Python REPL). Try to close the Python Interpreter with the command:\n",
    "\n",
    "```\n",
    ">>> exit\n",
    "```\n",
    "\n",
    "Q02.92 Open the Python Interpreter (the Python REPL). Try to view _The Zen of Python_ by Tim Peters with the command:\n",
    "```\n",
    ">>> Zen of Python\n",
    "```\n",
    "\n",
    "Q01.93 Open the Anaconda Prompt. Try to open the Python Interpreter (the Python REPL) with the command:\n",
    "\n",
    "```\n",
    "> python3\n",
    "```\n",
    "\n",
    "Q01.94 Open the Anaconda Prompt. Try to open the Python Interpreter (the Python REPL) with the command:\n",
    "\n",
    "```\n",
    "> Python\n",
    "```\n",
    "\n",
    "Q02.95 Open the Python Interpreter (the Python REPL). Try to view _The Zen of Python_ by Tim Peters with the command:\n",
    "\n",
    "```\n",
    ">>> import this()\n",
    "```"
   ]
  },
  {
   "cell_type": "code",
   "execution_count": null,
   "metadata": {},
   "outputs": [],
   "source": []
  }
 ],
 "metadata": {
  "celltoolbar": "Edit Metadata",
  "kernelspec": {
   "display_name": "Python 3",
   "language": "python",
   "name": "python3"
  },
  "language_info": {
   "codemirror_mode": {
    "name": "ipython",
    "version": 3
   },
   "file_extension": ".py",
   "mimetype": "text/x-python",
   "name": "python",
   "nbconvert_exporter": "python",
   "pygments_lexer": "ipython3",
   "version": "3.8.3"
  }
 },
 "nbformat": 4,
 "nbformat_minor": 2
}
