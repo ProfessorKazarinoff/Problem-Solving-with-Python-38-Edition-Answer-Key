{
 "cells": [
  {
   "cell_type": "markdown",
   "metadata": {},
   "source": [
    "## Review Questions"
   ]
  },
  {
   "cell_type": "markdown",
   "metadata": {
    "latex": {
     "environment": "problems"
    }
   },
   "source": [
    "Q08.01 Create a program to ask a user for a temperature. If the temperature the user enters is below ```50```, print back the user \"It is cold outside\". Hint: remember to convert the user's input to a number before comparing the user's input to ```50```."
   ]
  },
  {
   "cell_type": "code",
   "execution_count": 1,
   "metadata": {},
   "outputs": [
    {
     "name": "stdout",
     "output_type": "stream",
     "text": [
      "what is the temperature? 49\n",
      "It is cold outside\n"
     ]
    }
   ],
   "source": [
    "temp_str = input(\"what is the temperature? \")\n",
    "temp_int = int(temp_str)\n",
    "if temp_int < 50:\n",
    "    print(\"It is cold outside\")"
   ]
  },
  {
   "cell_type": "markdown",
   "metadata": {
    "latex": {
     "environment": "problems"
    }
   },
   "source": [
    "Q08.02 Create a program that asks the user for their temperature. If the user enters a temperature above ```98.6```, print back to the user \"You have a fever\"."
   ]
  },
  {
   "cell_type": "code",
   "execution_count": 3,
   "metadata": {},
   "outputs": [
    {
     "name": "stdout",
     "output_type": "stream",
     "text": [
      "what is your temperature? 102\n",
      "You have a fever\n"
     ]
    }
   ],
   "source": [
    "temp_str = input(\"what is your temperature? \")\n",
    "temp_flt = float(temp_str)\n",
    "if temp_flt > 98.6:\n",
    "    print(\"You have a fever\")"
   ]
  },
  {
   "cell_type": "markdown",
   "metadata": {
    "latex": {
     "environment": "problems"
    }
   },
   "source": [
    "Q08.03 Create a program that chooses a random number number between 1 and 5. Ask the user for a number between 1 and 5. Compare the user's number to the random number. If the user guessed the random number print \"you guessed it!\", if the user did not guess the random number print back to the user \"try again\". You can use the code below to choose a random number ```n``` between 1 and 5.\n",
    "\n",
    "```python\n",
    "import random\n",
    "\n",
    "n = random.randint(0,5)\n",
    "```"
   ]
  },
  {
   "cell_type": "code",
   "execution_count": 6,
   "metadata": {},
   "outputs": [
    {
     "name": "stdout",
     "output_type": "stream",
     "text": [
      "Pick a number between 1 and 5: 1\n",
      "try again\n",
      "Pick a number between 1 and 5: 2\n",
      "try again\n",
      "Pick a number between 1 and 5: 3\n",
      "You guessed it!  3\n"
     ]
    }
   ],
   "source": [
    "import random\n",
    "\n",
    "n = random.randint(0,5)\n",
    "guess_int = 6\n",
    "while guess_int != n:\n",
    "    guess_str = input(\"Pick a number between 1 and 5: \")\n",
    "    guess_int = int(guess_str)\n",
    "    if guess_int == n:\n",
    "        break\n",
    "    else:\n",
    "        print(\"try again\")\n",
    "\n",
    "print(\"You guessed it! \",n)"
   ]
  },
  {
   "cell_type": "markdown",
   "metadata": {
    "latex": {
     "environment": "problems"
    }
   },
   "source": [
    "Q08.04 Create a program that asks a user for two numbers, x and y. If the x is greater than y, print back to the user \"x>y\". If x is less than y, print back to the user \"x<y\". If x is equal to y, print back to the user \"x=y\"."
   ]
  },
  {
   "cell_type": "code",
   "execution_count": 1,
   "metadata": {},
   "outputs": [
    {
     "name": "stdout",
     "output_type": "stream",
     "text": [
      "Enter a number x: 5\n",
      "Enter a number y: 3\n",
      "x>y\n"
     ]
    }
   ],
   "source": [
    "x_str = input(\"Enter a number x: \")\n",
    "x = float(x_str)\n",
    "y_str = input(\"Enter a number y: \")\n",
    "y = float(y_str)\n",
    "\n",
    "if x>y:\n",
    "    print(\"x>y\")\n",
    "elif x<y:\n",
    "    print(\"x<y\")\n",
    "elif x == y:\n",
    "    print(\"x=y\")"
   ]
  },
  {
   "cell_type": "markdown",
   "metadata": {
    "latex": {
     "environment": "problems"
    }
   },
   "source": [
    "Q08.05 Create a program that asks a user for one of three trig functions: sine, cosine or tangent. Calculate the sine, cosine or tangent of $\\pi/4$ depending on the user's input and print the result of the calculation back to the user."
   ]
  },
  {
   "cell_type": "code",
   "execution_count": 2,
   "metadata": {},
   "outputs": [
    {
     "name": "stdout",
     "output_type": "stream",
     "text": [
      "Which trig function? sin/cos/tan: sin\n",
      "The sin of pi/4 = 0.7071067811865476\n"
     ]
    }
   ],
   "source": [
    "import math\n",
    "\n",
    "func = input(\"Which trig function? sin/cos/tan: \")\n",
    "if func == \"sin\":\n",
    "    ans = math.sin(math.pi/4)\n",
    "elif func == \"cos\":\n",
    "    ans = math.cos(math.pi/4)\n",
    "elif func == \"tan\":\n",
    "    ans = math.tan(math.pi/4)\n",
    "print(f\"The {func} of pi/4 = {ans}\")"
   ]
  },
  {
   "cell_type": "markdown",
   "metadata": {
    "latex": {
     "environment": "problems"
    }
   },
   "source": [
    "Q08.06 Create a program that asks the user for two numbers (use two different input lines). If the second number the user enters is zero, print back to the user \"can't divide by zero\", otherwise divide the user's first number by the user's second number and print the result to the user."
   ]
  },
  {
   "cell_type": "code",
   "execution_count": 3,
   "metadata": {},
   "outputs": [
    {
     "name": "stdout",
     "output_type": "stream",
     "text": [
      "Enter a number: 3\n",
      "Enter another number: 2\n",
      "The first number divided by the second number is 1.5\n"
     ]
    }
   ],
   "source": [
    "n1_str = input(\"Enter a number: \")\n",
    "n1 = float(n1_str)\n",
    "n2_str = input(\"Enter another number: \")\n",
    "n2 = float(n2_str)\n",
    "if n2==0:\n",
    "    print(\"can't divide by zero\")\n",
    "else:\n",
    "    ans = n1/n2\n",
    "    print(f\"The first number divided by the second number is {ans}\")"
   ]
  },
  {
   "cell_type": "markdown",
   "metadata": {
    "latex": {
     "environment": "problems"
    }
   },
   "source": [
    "Q08.07 The table below shows a couple fruits and their associated color\n",
    "\n",
    "| fruit | color |\n",
    "| --- | --- |\n",
    "| banana | yellow |\n",
    "| apple | red |\n",
    "| lemon | yellow |\n",
    "| lime | green |\n",
    "| orange | orange |\n",
    "\n",
    "Create a program that asks a user to choose from a list of fruit. Print back to the user the color of the fruit they chose."
   ]
  },
  {
   "cell_type": "code",
   "execution_count": 5,
   "metadata": {},
   "outputs": [
    {
     "name": "stdout",
     "output_type": "stream",
     "text": [
      "Choose one of the following fruit: banana, apple, lemon, lime or oragneapple\n",
      "apples are red\n"
     ]
    }
   ],
   "source": [
    "f = input(\"Choose one of the following fruit: banana, apple, lemon, lime or oragne\")\n",
    "if f == \"banana\":\n",
    "    print(f\"{f}s are yellow\")\n",
    "elif f == \"apple\":\n",
    "    print(f\"{f}s are red\")\n",
    "elif f == \"lemon\":\n",
    "    print(f\"{f}s are yellow\")\n",
    "elif f == \"lime\":\n",
    "    print(f\"{f}s are green\")\n",
    "elif f == \"orange\":\n",
    "    print(f\"{f}s are yellow\")\n",
    "else:\n",
    "    print(\"I don't know what color that fruit is\")"
   ]
  },
  {
   "cell_type": "markdown",
   "metadata": {
    "latex": {
     "environment": "problems"
    }
   },
   "source": [
    "Q08.08 The average size of a US congressional district is about 700,000 people. Ask the user for a state population and print back to the user the number of congress members in the state. For example, a state with 1.4 million people is represented by 2 members of congress. Each state has at least one member of congress by default. If the user enters a population less than ```700,000```, tell the user their state only has 1 member of congress."
   ]
  },
  {
   "cell_type": "code",
   "execution_count": 11,
   "metadata": {},
   "outputs": [
    {
     "name": "stdout",
     "output_type": "stream",
     "text": [
      "What is the state population? 1500000\n",
      "That state has 2 members of congress\n"
     ]
    }
   ],
   "source": [
    "n_str = input(\"What is the state population? \")\n",
    "n = int(n_str)\n",
    "if n<= 700000:\n",
    "    print(\"That state has 1 member of congress\")\n",
    "elif n>700000:\n",
    "    nc = int(n/700000)\n",
    "    print(f\"That state has {nc} members of congress\")"
   ]
  },
  {
   "cell_type": "markdown",
   "metadata": {
    "latex": {
     "environment": "problems"
    }
   },
   "source": [
    "Q08.09 In a college engineering class, final grades are related to percentages as follows:\n",
    "\n",
    "| percentage range | grade |\n",
    "| --- | --- |\n",
    "| 90 - 100 | A |\n",
    "| 80 - 89 | B |\n",
    "| 70 - 79 | C |\n",
    "| 65 - 69 | D |\n",
    "| 0 - 64 | F |\n",
    "\n",
    "Build a program that asks a user for a final score (in percent) and prints back to the user their letter grade."
   ]
  },
  {
   "cell_type": "code",
   "execution_count": 17,
   "metadata": {},
   "outputs": [
    {
     "name": "stdout",
     "output_type": "stream",
     "text": [
      "What is the final score (in percent)? 95\n",
      "Final grade is A\n"
     ]
    }
   ],
   "source": [
    "p_str = input(\"What is the final score (in percent)? \")\n",
    "p = int(p_str)\n",
    "if 90<=p:\n",
    "    print(\"Final grade is A\")\n",
    "elif 80<=p<90:\n",
    "    print(\"Final grade is B\")\n",
    "elif 70<=p<80:\n",
    "    print(\"Final grade is C\") \n",
    "elif 65<=p<70:\n",
    "    print(\"Final grade is D\")\n",
    "else:\n",
    "    print(\"Final grade is F\")"
   ]
  },
  {
   "cell_type": "markdown",
   "metadata": {
    "latex": {
     "environment": "problems"
    }
   },
   "source": [
    "Q08.10 Write a function called ```r()``` that takes in a single variable ```x``` (a numeric value) and outputs a single variable ```y``` (a numeric value). ```y``` should be ```1``` of ```3``` values ```(1, 2, or 3)``` depending on which range ```x``` is in.\n",
    "\n",
    "range 1: ```x``` is less than ```-10```\n",
    "\n",
    "range 2: ```x``` is equal to or greater than ```-10``` and less than ```200```\n",
    "\n",
    "range 3: ```x``` is ```200``` or greater"
   ]
  },
  {
   "cell_type": "code",
   "execution_count": 1,
   "metadata": {},
   "outputs": [],
   "source": [
    "def f(x):\n",
    "    if x<-10:\n",
    "        y = 1\n",
    "    elif -10<=x<200:\n",
    "        y = 2\n",
    "    elif x>200:\n",
    "        y = 3\n",
    "    return y"
   ]
  },
  {
   "cell_type": "markdown",
   "metadata": {},
   "source": [
    "#### Errors, Explanations, and Solutions"
   ]
  },
  {
   "cell_type": "markdown",
   "metadata": {},
   "source": [
    "Run the following code snippets. Explain the error in your own words. Then rewrite the code snippet and run the code error-free."
   ]
  },
  {
   "cell_type": "markdown",
   "metadata": {},
   "source": [
    "\n",
    "Q08.80\n",
    "\n",
    "```python\n",
    "a = 1\n",
    "if a = 0:\n",
    "    print('zero')\n",
    "else if a = 1:\n",
    "    print('one')\n",
    "```"
   ]
  },
  {
   "cell_type": "code",
   "execution_count": 2,
   "metadata": {},
   "outputs": [
    {
     "ename": "SyntaxError",
     "evalue": "invalid syntax (<ipython-input-2-6b7bb296821e>, line 2)",
     "output_type": "error",
     "traceback": [
      "\u001b[1;36m  File \u001b[1;32m\"<ipython-input-2-6b7bb296821e>\"\u001b[1;36m, line \u001b[1;32m2\u001b[0m\n\u001b[1;33m    if a = 0:\u001b[0m\n\u001b[1;37m         ^\u001b[0m\n\u001b[1;31mSyntaxError\u001b[0m\u001b[1;31m:\u001b[0m invalid syntax\n"
     ]
    }
   ],
   "source": [
    "a = 1\n",
    "if a = 0:\n",
    "    print('zero')\n",
    "else if a = 1:\n",
    "    print('one')"
   ]
  },
  {
   "cell_type": "markdown",
   "metadata": {},
   "source": [
    "There are two errors in the code snippet. The statement ```if a=10``` does not contain a logical condition, it includes a variable assignment. To fix this error the \"equivalent to\" operator ```==``` should be used. The second error is in the line ```else if a == 1:```. The keyword ```else``` can only be followed by a colon, not a logical condition. To fix this remove the ```if a = 1``` from the else statement. "
   ]
  },
  {
   "cell_type": "code",
   "execution_count": 3,
   "metadata": {},
   "outputs": [
    {
     "name": "stdout",
     "output_type": "stream",
     "text": [
      "one\n"
     ]
    }
   ],
   "source": [
    "a = 1\n",
    "if a == 0:\n",
    "    print('zero')\n",
    "else:\n",
    "    print('one')"
   ]
  },
  {
   "cell_type": "markdown",
   "metadata": {},
   "source": [
    "Q08.81\n",
    "\n",
    "```python\n",
    "a = 1\n",
    "if a == 0:\n",
    "    print('zero')\n",
    "    \n",
    "else print('one')\n",
    "```"
   ]
  },
  {
   "cell_type": "code",
   "execution_count": null,
   "metadata": {},
   "outputs": [],
   "source": []
  },
  {
   "cell_type": "markdown",
   "metadata": {},
   "source": []
  },
  {
   "cell_type": "code",
   "execution_count": null,
   "metadata": {},
   "outputs": [],
   "source": []
  },
  {
   "cell_type": "markdown",
   "metadata": {},
   "source": [
    "Q08.82\n",
    "\n",
    "```python\n",
    "n = input('Enter a number')\n",
    "\n",
    "if n > 0:\n",
    "    print('positive')\n",
    "```"
   ]
  },
  {
   "cell_type": "code",
   "execution_count": null,
   "metadata": {},
   "outputs": [],
   "source": []
  },
  {
   "cell_type": "markdown",
   "metadata": {},
   "source": []
  },
  {
   "cell_type": "code",
   "execution_count": null,
   "metadata": {},
   "outputs": [],
   "source": []
  }
 ],
 "metadata": {
  "kernelspec": {
   "display_name": "Python 3",
   "language": "python",
   "name": "python3"
  },
  "language_info": {
   "codemirror_mode": {
    "name": "ipython",
    "version": 3
   },
   "file_extension": ".py",
   "mimetype": "text/x-python",
   "name": "python",
   "nbconvert_exporter": "python",
   "pygments_lexer": "ipython3",
   "version": "3.8.5"
  }
 },
 "nbformat": 4,
 "nbformat_minor": 2
}
