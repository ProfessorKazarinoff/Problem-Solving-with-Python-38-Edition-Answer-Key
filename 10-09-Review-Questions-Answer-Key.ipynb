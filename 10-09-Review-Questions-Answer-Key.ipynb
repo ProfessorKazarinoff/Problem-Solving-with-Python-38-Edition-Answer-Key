{
 "cells": [
  {
   "cell_type": "markdown",
   "metadata": {},
   "source": [
    "## Review Questions"
   ]
  },
  {
   "cell_type": "markdown",
   "metadata": {},
   "source": [
    "#### Creating Expressions and Equations"
   ]
  },
  {
   "cell_type": "markdown",
   "metadata": {},
   "source": [
    "Q10.01 Create the symbolic math variables $a$, $b$, $c$ and $x$. Use these variables to define the symbolic math expressions:\n",
    "\n",
    "$$ ax^2 + bx + c $$\n",
    "\n",
    "$$ sin(ax) + cos(bx) + tan(cx) $$"
   ]
  },
  {
   "cell_type": "code",
   "execution_count": 1,
   "metadata": {},
   "outputs": [
    {
     "name": "stdout",
     "output_type": "stream",
     "text": [
      "a*x**2 + b*x + c\n",
      "sin(a*x) + cos(b*x) + tan(c*x)\n"
     ]
    }
   ],
   "source": [
    "from sympy import symbols, sin, cos, tan\n",
    "\n",
    "a, b, c, x = symbols('a b c x')\n",
    "\n",
    "expr1 = a*x**2 + b*x + c\n",
    "expr2 = sin(a*x) + cos(b*x) + tan(c*x)\n",
    "\n",
    "print(expr1)\n",
    "print(expr2)"
   ]
  },
  {
   "cell_type": "markdown",
   "metadata": {},
   "source": [
    "Q10.02 Create the symbolic math variables $a$, $b$, $c$ and $x$. Use these variables to define the symbolic math equations:\n",
    "\n",
    "$$ ax^2 + bx = c $$\n",
    "\n",
    "$$ \\frac{sin(ax)}{cos(bx)} = tan(cx) $$"
   ]
  },
  {
   "cell_type": "code",
   "execution_count": 2,
   "metadata": {},
   "outputs": [
    {
     "name": "stdout",
     "output_type": "stream",
     "text": [
      "Eq(a*x**2 + b*x - c, 0)\n",
      "Eq(sin(a*x)/cos(b*x) - tan(c*x), 0)\n"
     ]
    }
   ],
   "source": [
    "from sympy import Eq, symbols, sin, cos, tan\n",
    "\n",
    "a, b, c, x = symbols('a b c x')\n",
    "\n",
    "eq1 = Eq(a*x**2 + b*x - c, 0)\n",
    "eq2 = Eq(sin(a*x)/cos(b*x) - tan(c*x),0)\n",
    "\n",
    "print(eq1)\n",
    "print(eq2)"
   ]
  },
  {
   "cell_type": "markdown",
   "metadata": {},
   "source": [
    "Q10.03 Create the symbolic math variables $a$, $b$, $c$, $x$, and $y$. Use these variables to define the symbolic math expression:\n",
    "\n",
    "$$ ax^2 + bx + c $$\n",
    "\n",
    "Substitute in the variable $y$ in for the variable $c$.\n",
    "\n",
    "Substitute in the value ```5``` in for the variable $y$."
   ]
  },
  {
   "cell_type": "code",
   "execution_count": 3,
   "metadata": {},
   "outputs": [
    {
     "name": "stdout",
     "output_type": "stream",
     "text": [
      "a*x**2 + b*x + c\n",
      "a*x**2 + b*x + y\n",
      "a*x**2 + b*x + 5\n"
     ]
    }
   ],
   "source": [
    "from sympy import symbols\n",
    "\n",
    "a, b, c, x, y = symbols('a b c x y')\n",
    "\n",
    "expr1 = a*x**2 + b*x + c\n",
    "expr2 = expr1.subs(c, y)\n",
    "expr3 = expr2.subs(y, 5)\n",
    "\n",
    "print(expr1)\n",
    "print(expr2)\n",
    "print(expr3)"
   ]
  },
  {
   "cell_type": "markdown",
   "metadata": {},
   "source": [
    "Q10.04 Create the symbolic math variables $E$, $A$, $d$, $P$, $L$, and $F$. Use these variables to define the symbolic math equation:\n",
    "\n",
    "$$ d = \\frac{PL}{AE} $$\n",
    "\n",
    "Substitute in the value $29 \\times 10^6$ for $E$.\n",
    "\n",
    "Substitute in the expression $F/2$ for the variable $P$."
   ]
  },
  {
   "cell_type": "code",
   "execution_count": 4,
   "metadata": {},
   "outputs": [
    {
     "name": "stdout",
     "output_type": "stream",
     "text": [
      "Eq(d - L*P/(A*E), 0)\n",
      "Eq(d - 3.44827586206897e-8*L*P/A, 0)\n",
      "Eq(d - 1.72413793103448e-8*F*L/A, 0)\n"
     ]
    }
   ],
   "source": [
    "from sympy import symbols, Eq\n",
    "\n",
    "E, A, d, P, L, F = symbols('E A d P L F')\n",
    "\n",
    "eq1 = Eq(d-(P*L)/(A*E),0)\n",
    "eq2 = eq1.subs(E, 29e6)\n",
    "eq3 = eq2.subs(P, F/2)\n",
    "\n",
    "print(eq1)\n",
    "print(eq2)\n",
    "print(eq3)"
   ]
  },
  {
   "cell_type": "markdown",
   "metadata": {},
   "source": [
    "Q10.05 Create the symbolic math variables $t$, $T$, $c$, and $J$. Use these variables to define the symbolic math equation:\n",
    "\n",
    "$$ t = \\frac{Tc}{J} $$\n",
    "\n",
    "Substitute $J = \\frac{\\pi}{2}c^4$ into the equation.\n",
    "\n",
    "Substitute $T=9.0$ and $c=4.5$ into the equation. Print out the resulting value of $t$."
   ]
  },
  {
   "cell_type": "code",
   "execution_count": 5,
   "metadata": {},
   "outputs": [
    {
     "name": "stdout",
     "output_type": "stream",
     "text": [
      "Eq(-t + T*c/J, 0)\n",
      "Eq(2*T/(pi*c**3) - t, 0)\n",
      "Eq(-t + 0.197530864197531/pi, 0)\n",
      "t = 0.0628760269005019\n"
     ]
    }
   ],
   "source": [
    "from sympy import symbols, Eq, pi, solve\n",
    "\n",
    "t, T, c, J = symbols('t T c J')\n",
    "\n",
    "eq1 = Eq(T*c/J - t, 0)\n",
    "eq2 = eq1.subs(J, (pi/2)*c**4)\n",
    "eq3 = eq2.subs(T, 9.0).subs(c,4.5)\n",
    "\n",
    "print(eq1)\n",
    "print(eq2)\n",
    "print(eq3)\n",
    "\n",
    "sol = solve(eq3)\n",
    "print(f\"t = {sol[0]}\")"
   ]
  },
  {
   "cell_type": "markdown",
   "metadata": {},
   "source": [
    "Q10.06 Mohr's circle is used in mechanical engineering to calculate the shear and normal stress. Given the height of Mohr's circle $\\tau_{max}$ is equal to the expression below: \n",
    "\n",
    "$$ \\tau_{max} = \\sqrt{(\\sigma_x - \\sigma_y)/2)^2 + \\tau_{xy}} $$ \n",
    "\n",
    "Use SymPy expressions or equations to calculate $\\tau$ if $\\sigma_x = 90$, $\\sigma_y = 60$ and $\\tau_{xy} = 20$"
   ]
  },
  {
   "cell_type": "code",
   "execution_count": 6,
   "metadata": {},
   "outputs": [
    {
     "name": "stdout",
     "output_type": "stream",
     "text": [
      "sqrt(txy + (sx/2 - sy/2)**2)\n",
      "15.6524758424985\n"
     ]
    }
   ],
   "source": [
    "from sympy import symbols, sqrt\n",
    "\n",
    "sx, sy, txy = symbols(\"sx, sy, txy\")\n",
    "\n",
    "expr1 = sqrt( ((sx - sy)/2)**2 + txy )\n",
    "print(expr1)\n",
    "\n",
    "expr2 = expr1.subs(sx,90).subs(sy,60).subs(txy, 20)\n",
    "ans = expr2.evalf()\n",
    "\n",
    "print(ans)"
   ]
  },
  {
   "cell_type": "markdown",
   "metadata": {},
   "source": [
    "#### Solving Equations"
   ]
  },
  {
   "cell_type": "markdown",
   "metadata": {
    "latex": {
     "environment": "problems"
    }
   },
   "source": [
    "Q10.20 Use SymPy to solve for $x$ if $x - 4 = 2$"
   ]
  },
  {
   "cell_type": "code",
   "execution_count": 2,
   "metadata": {},
   "outputs": [
    {
     "name": "stdout",
     "output_type": "stream",
     "text": [
      "x = 6\n"
     ]
    }
   ],
   "source": [
    "from sympy import symbols, Eq, solve\n",
    "\n",
    "x = symbols('x')\n",
    "\n",
    "eq = Eq(x-4, 2)\n",
    "\n",
    "sol = solve(eq)\n",
    "print(f\"x = {sol[0]}\")"
   ]
  },
  {
   "cell_type": "markdown",
   "metadata": {
    "latex": {
     "environment": "problems"
    }
   },
   "source": [
    "Q10.21 Use SymPy to solve for the roots of the quadratic equation $2x^2 - 4x + 1.5 = 0$"
   ]
  },
  {
   "cell_type": "code",
   "execution_count": 3,
   "metadata": {},
   "outputs": [
    {
     "name": "stdout",
     "output_type": "stream",
     "text": [
      "x = [0.500000000000000, 1.50000000000000]\n"
     ]
    }
   ],
   "source": [
    "from sympy import symbols, Eq, solve\n",
    "\n",
    "x = symbols('x')\n",
    "\n",
    "eq = Eq(2*x**2 - 4*x + 1.5, 0)\n",
    "\n",
    "sol = solve(eq)\n",
    "print(f\"x = {sol}\")"
   ]
  },
  {
   "cell_type": "markdown",
   "metadata": {
    "latex": {
     "environment": "problems"
    }
   },
   "source": [
    "Q10.22 Create the symbolic math variable $b$ and define the equation below:\n",
    "\n",
    "$$ \\frac{1}{\\sqrt{2}}(b - 6) = -1 $$\n",
    "\n",
    "Find the numeric value of $b$ to three decimal places"
   ]
  },
  {
   "cell_type": "code",
   "execution_count": 5,
   "metadata": {},
   "outputs": [
    {
     "name": "stdout",
     "output_type": "stream",
     "text": [
      "b = 4.58578643762690\n"
     ]
    }
   ],
   "source": [
    "from sympy import symbols, Eq, solve\n",
    "from math import sqrt\n",
    "\n",
    "b = symbols('b')\n",
    "\n",
    "eq = Eq((1/sqrt(2))*(b - 6), -1)\n",
    "\n",
    "sol = solve(eq)\n",
    "print(f\"b = {sol[0]}\")"
   ]
  },
  {
   "cell_type": "markdown",
   "metadata": {
    "latex": {
     "environment": "problems"
    }
   },
   "source": [
    "Q10.30 Use SymPy to solve the system of linear equations below for the variables $x$ and $y$:\n",
    "\n",
    "$$ -3x - 2y + 7  = 0 $$\n",
    "\n",
    "$$ 5x - 3y - 6 = 0 $$"
   ]
  },
  {
   "cell_type": "code",
   "execution_count": 6,
   "metadata": {},
   "outputs": [
    {
     "ename": "TypeError",
     "evalue": "cannot determine truth value of Relational",
     "output_type": "error",
     "traceback": [
      "\u001b[1;31m---------------------------------------------------------------------------\u001b[0m",
      "\u001b[1;31mTypeError\u001b[0m                                 Traceback (most recent call last)",
      "\u001b[1;32m<ipython-input-6-f12e1db687c3>\u001b[0m in \u001b[0;36m<module>\u001b[1;34m\u001b[0m\n\u001b[0;32m      6\u001b[0m \u001b[0meq2\u001b[0m \u001b[1;33m=\u001b[0m \u001b[0mEq\u001b[0m\u001b[1;33m(\u001b[0m\u001b[1;36m5\u001b[0m\u001b[1;33m*\u001b[0m\u001b[0mx\u001b[0m \u001b[1;33m-\u001b[0m \u001b[1;36m3\u001b[0m\u001b[1;33m*\u001b[0m\u001b[0my\u001b[0m \u001b[1;33m-\u001b[0m\u001b[1;36m6\u001b[0m\u001b[1;33m,\u001b[0m \u001b[1;36m0\u001b[0m\u001b[1;33m)\u001b[0m\u001b[1;33m\u001b[0m\u001b[1;33m\u001b[0m\u001b[0m\n\u001b[0;32m      7\u001b[0m \u001b[1;33m\u001b[0m\u001b[0m\n\u001b[1;32m----> 8\u001b[1;33m \u001b[0msol\u001b[0m \u001b[1;33m=\u001b[0m \u001b[0msolve\u001b[0m\u001b[1;33m(\u001b[0m\u001b[0meq1\u001b[0m\u001b[1;33m,\u001b[0m\u001b[0meq2\u001b[0m\u001b[1;33m)\u001b[0m\u001b[1;33m\u001b[0m\u001b[1;33m\u001b[0m\u001b[0m\n\u001b[0m\u001b[0;32m      9\u001b[0m \u001b[0mprint\u001b[0m\u001b[1;33m(\u001b[0m\u001b[1;34mf\"{sol}\"\u001b[0m\u001b[1;33m)\u001b[0m\u001b[1;33m\u001b[0m\u001b[1;33m\u001b[0m\u001b[0m\n",
      "\u001b[1;32m~\\Anaconda3\\lib\\site-packages\\sympy\\solvers\\solvers.py\u001b[0m in \u001b[0;36msolve\u001b[1;34m(f, *symbols, **flags)\u001b[0m\n\u001b[0;32m    840\u001b[0m         \u001b[1;32mreturn\u001b[0m \u001b[0mlist\u001b[0m\u001b[1;33m(\u001b[0m\u001b[0mmap\u001b[0m\u001b[1;33m(\u001b[0m\u001b[0msympify\u001b[0m\u001b[1;33m,\u001b[0m \u001b[0mw\u001b[0m \u001b[1;32mif\u001b[0m \u001b[0miterable\u001b[0m\u001b[1;33m(\u001b[0m\u001b[0mw\u001b[0m\u001b[1;33m)\u001b[0m \u001b[1;32melse\u001b[0m \u001b[1;33m[\u001b[0m\u001b[0mw\u001b[0m\u001b[1;33m]\u001b[0m\u001b[1;33m)\u001b[0m\u001b[1;33m)\u001b[0m\u001b[1;33m\u001b[0m\u001b[1;33m\u001b[0m\u001b[0m\n\u001b[0;32m    841\u001b[0m     \u001b[0mbare_f\u001b[0m \u001b[1;33m=\u001b[0m \u001b[1;32mnot\u001b[0m \u001b[0miterable\u001b[0m\u001b[1;33m(\u001b[0m\u001b[0mf\u001b[0m\u001b[1;33m)\u001b[0m\u001b[1;33m\u001b[0m\u001b[1;33m\u001b[0m\u001b[0m\n\u001b[1;32m--> 842\u001b[1;33m     ordered_symbols = (symbols and\n\u001b[0m\u001b[0;32m    843\u001b[0m                        \u001b[0msymbols\u001b[0m\u001b[1;33m[\u001b[0m\u001b[1;36m0\u001b[0m\u001b[1;33m]\u001b[0m \u001b[1;32mand\u001b[0m\u001b[1;33m\u001b[0m\u001b[1;33m\u001b[0m\u001b[0m\n\u001b[0;32m    844\u001b[0m                        (isinstance(symbols[0], Symbol) or\n",
      "\u001b[1;32m~\\Anaconda3\\lib\\site-packages\\sympy\\core\\relational.py\u001b[0m in \u001b[0;36m__bool__\u001b[1;34m(self)\u001b[0m\n\u001b[0;32m    393\u001b[0m \u001b[1;33m\u001b[0m\u001b[0m\n\u001b[0;32m    394\u001b[0m     \u001b[1;32mdef\u001b[0m \u001b[0m__bool__\u001b[0m\u001b[1;33m(\u001b[0m\u001b[0mself\u001b[0m\u001b[1;33m)\u001b[0m\u001b[1;33m:\u001b[0m\u001b[1;33m\u001b[0m\u001b[1;33m\u001b[0m\u001b[0m\n\u001b[1;32m--> 395\u001b[1;33m         \u001b[1;32mraise\u001b[0m \u001b[0mTypeError\u001b[0m\u001b[1;33m(\u001b[0m\u001b[1;34m\"cannot determine truth value of Relational\"\u001b[0m\u001b[1;33m)\u001b[0m\u001b[1;33m\u001b[0m\u001b[1;33m\u001b[0m\u001b[0m\n\u001b[0m\u001b[0;32m    396\u001b[0m \u001b[1;33m\u001b[0m\u001b[0m\n\u001b[0;32m    397\u001b[0m     \u001b[1;32mdef\u001b[0m \u001b[0m_eval_as_set\u001b[0m\u001b[1;33m(\u001b[0m\u001b[0mself\u001b[0m\u001b[1;33m)\u001b[0m\u001b[1;33m:\u001b[0m\u001b[1;33m\u001b[0m\u001b[1;33m\u001b[0m\u001b[0m\n",
      "\u001b[1;31mTypeError\u001b[0m: cannot determine truth value of Relational"
     ]
    }
   ],
   "source": [
    "from sympy import symbols, Eq, solve\n",
    "\n",
    "x, y = symbols('x y')\n",
    "\n",
    "eq1 = Eq(-3*x - 2*y + 7, 0)\n",
    "eq2 = Eq(5*x - 3*y -6, 0)\n",
    "\n",
    "sol = solve(eq1,eq2)\n",
    "print(f\"{sol}\")"
   ]
  },
  {
   "cell_type": "markdown",
   "metadata": {
    "latex": {
     "environment": "problems"
    }
   },
   "source": [
    "Q10.31 Use SymPy to solve the system of linear equations below for the variables $x$, $y$, and $z$:\n",
    "\n",
    "$$ 2x + 4y - z = -0.6 $$\n",
    "\n",
    "$$ -x - 3y + 2z = 2.2 $$\n",
    "\n",
    "$$ \\frac{1}{2}x + 6y - 3z = -6.8 $$"
   ]
  },
  {
   "cell_type": "code",
   "execution_count": null,
   "metadata": {},
   "outputs": [],
   "source": []
  },
  {
   "cell_type": "markdown",
   "metadata": {
    "latex": {
     "environment": "problems"
    }
   },
   "source": [
    "Q10.32 A set of five linear equations is below:\n",
    "\n",
    "$$ -5x_1 - 4x_2 - 2x_3 + 2x_4 + 3x_5 = 10 $$\n",
    "\n",
    "$$ 9x_1 + 3x_2 + 4x_3 + 10x_4 + 5x_5 = -5 $$\n",
    "\n",
    "$$ 2x_1 + 4x_2 + 3x_3 + 2x_4 + x_5 = 12 $$\n",
    "\n",
    "$$ 5x_1 - 4x_2 + 3x_3 - 2x_4 + 2x_5 = 32 $$\n",
    "\n",
    "$$ x_1 - x_2 + 2x_3 + 4x_4 + 3x_5 = 42 $$\n",
    "\n",
    "Use symbolic math variables and equations to solve for $x_1$, $x_2$, $x_3$, $x_4$ and $x_5$."
   ]
  },
  {
   "cell_type": "code",
   "execution_count": null,
   "metadata": {},
   "outputs": [],
   "source": []
  },
  {
   "cell_type": "markdown",
   "metadata": {
    "latex": {
     "environment": "problems"
    }
   },
   "source": [
    "Q10.33 An equation in terms of the variables $L$ and $x$ is defined below.\n",
    "\n",
    "$$ \\frac{1}{6}L^3x^2 - \\frac{1}{6}Lx^3 + \\frac{1}{24}x^4 - \\frac{1}{45}L^4 = 0 $$\n",
    "\n",
    "Solve the equation for $x$ in terms of the variable $L$. Note their will be more than one solution."
   ]
  },
  {
   "cell_type": "code",
   "execution_count": null,
   "metadata": {},
   "outputs": [],
   "source": []
  },
  {
   "cell_type": "markdown",
   "metadata": {
    "latex": {
     "environment": "problems"
    }
   },
   "source": [
    "Q10.50 Use SymPy to solve the system of non-linear equations below for the variables $x$ and $y$:\n",
    "\n",
    "$$ 3x^2 + 2y^3 = -\\frac{17}{4} $$\n",
    "\n",
    "$$ \\frac{-x^3}{2} - 8y^2 + \\frac{127}{2} = 0 $$"
   ]
  },
  {
   "cell_type": "code",
   "execution_count": null,
   "metadata": {},
   "outputs": [],
   "source": []
  }
 ],
 "metadata": {
  "kernelspec": {
   "display_name": "Python 3",
   "language": "python",
   "name": "python3"
  },
  "language_info": {
   "codemirror_mode": {
    "name": "ipython",
    "version": 3
   },
   "file_extension": ".py",
   "mimetype": "text/x-python",
   "name": "python",
   "nbconvert_exporter": "python",
   "pygments_lexer": "ipython3",
   "version": "3.8.5"
  }
 },
 "nbformat": 4,
 "nbformat_minor": 2
}
