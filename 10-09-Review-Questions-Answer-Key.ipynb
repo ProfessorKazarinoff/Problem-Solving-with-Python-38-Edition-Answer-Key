{
 "cells": [
  {
   "cell_type": "markdown",
   "metadata": {},
   "source": [
    "## Review Questions"
   ]
  },
  {
   "cell_type": "markdown",
   "metadata": {},
   "source": [
    "#### Creating Expressions and Equations"
   ]
  },
  {
   "cell_type": "markdown",
   "metadata": {},
   "source": [
    "Q10.01 Create the symbolic math variables $a$, $b$, $c$ and $x$. Use these variables to define the symbolic math expressions:\n",
    "\n",
    "$$ ax^2 + bx + c $$\n",
    "\n",
    "$$ sin(ax) + cos(bx) + tan(cx) $$"
   ]
  },
  {
   "cell_type": "code",
   "execution_count": null,
   "metadata": {},
   "outputs": [],
   "source": []
  },
  {
   "cell_type": "markdown",
   "metadata": {},
   "source": [
    "Q10.02 Create the symbolic math variables $a$, $b$, $c$ and $x$. Use these variables to define the symbolic math equations:\n",
    "\n",
    "$$ ax^2 + bx = c $$\n",
    "\n",
    "$$ \\frac{sin(ax)}{cos(bx)} = tan(cx) $$"
   ]
  },
  {
   "cell_type": "code",
   "execution_count": null,
   "metadata": {},
   "outputs": [],
   "source": []
  },
  {
   "cell_type": "markdown",
   "metadata": {},
   "source": [
    "Q10.03 Create the symbolic math variables $a$, $b$, $c$, $x$, and $y$. Use these variables to define the symbolic math expression:\n",
    "\n",
    "$$ ax^2 + bx + c $$\n",
    "\n",
    "Substitute in the variable $y$ in for the variable $c$.\n",
    "\n",
    "Substitute in the value ```5``` in for the variable $y$."
   ]
  },
  {
   "cell_type": "code",
   "execution_count": null,
   "metadata": {},
   "outputs": [],
   "source": []
  },
  {
   "cell_type": "markdown",
   "metadata": {},
   "source": [
    "Q10.04 Create the symbolic math variables $E$, $A$, $d$, $P$, $L$, and $F$. Use these variables to define the symbolic math equation:\n",
    "\n",
    "$$ d = \\frac{PL}{AE} $$\n",
    "\n",
    "Substitute in the value $29 \\times 10^6$ for $E$.\n",
    "\n",
    "Substitute in the expression $F/2$ for the variable $P$."
   ]
  },
  {
   "cell_type": "code",
   "execution_count": null,
   "metadata": {},
   "outputs": [],
   "source": []
  },
  {
   "cell_type": "markdown",
   "metadata": {},
   "source": [
    "Q10.05 Create the symbolic math variables $t$, $T$, $c$, and $J$. Use these variables to define the symbolic math equation:\n",
    "\n",
    "$$ t = \\frac{Tc}{J} $$\n",
    "\n",
    "Substitute $J = \\frac{\\pi}{2}c^4$ into the equation.\n",
    "\n",
    "Substitute $T=9.0$ and $c=4.5$ into the equation. Print out the resulting value of $t$."
   ]
  },
  {
   "cell_type": "code",
   "execution_count": null,
   "metadata": {},
   "outputs": [],
   "source": []
  },
  {
   "cell_type": "markdown",
   "metadata": {},
   "source": [
    "Q10.06 Mohr's circle is used in mechanical engineering to calculate the shear and normal stress. Given the height of Mohr's circle $\\tau_{max}$ is equal to the expression below: \n",
    "\n",
    "$$ \\tau_{max} = \\sqrt{(\\sigma_x - \\sigma_y)/2)^2 + \\tau_{xy}} $$ \n",
    "\n",
    "Use SymPy expressions or equations to calculate $\\tau$ if $\\sigma_x = 90$, $\\sigma_y = 60$ and $\\tau_{xy} = 20$"
   ]
  },
  {
   "cell_type": "code",
   "execution_count": null,
   "metadata": {},
   "outputs": [],
   "source": []
  },
  {
   "cell_type": "markdown",
   "metadata": {},
   "source": [
    "#### Solving Equations"
   ]
  },
  {
   "cell_type": "markdown",
   "metadata": {
    "latex": {
     "environment": "problems"
    }
   },
   "source": [
    "Q10.20 Use SymPy to solve for $x$ if $x - 4 = 2$"
   ]
  },
  {
   "cell_type": "code",
   "execution_count": null,
   "metadata": {},
   "outputs": [],
   "source": []
  },
  {
   "cell_type": "markdown",
   "metadata": {
    "latex": {
     "environment": "problems"
    }
   },
   "source": [
    "Q10.21 Use SymPy to solve for the roots of the quadratic equation $2x^2 - 4x + 1.5 = 0$"
   ]
  },
  {
   "cell_type": "code",
   "execution_count": null,
   "metadata": {},
   "outputs": [],
   "source": []
  },
  {
   "cell_type": "markdown",
   "metadata": {
    "latex": {
     "environment": "problems"
    }
   },
   "source": [
    "Q10.22 Create the symbolic math variable $b$ and define the equation below:\n",
    "\n",
    "$$ \\frac{1}{\\sqrt{2}}(b - 6) = -1 $$\n",
    "\n",
    "Find the numeric value of $b$ to three decimal places"
   ]
  },
  {
   "cell_type": "code",
   "execution_count": null,
   "metadata": {},
   "outputs": [],
   "source": []
  },
  {
   "cell_type": "markdown",
   "metadata": {
    "latex": {
     "environment": "problems"
    }
   },
   "source": [
    "Q10.30 Use SymPy to solve the system of linear equations below for the variables $x$ and $y$:\n",
    "\n",
    "$$ -3x - 2y + 7  = 0 $$\n",
    "\n",
    "$$ 5x - 3y - 6 = 0 $$"
   ]
  },
  {
   "cell_type": "code",
   "execution_count": null,
   "metadata": {},
   "outputs": [],
   "source": []
  },
  {
   "cell_type": "markdown",
   "metadata": {
    "latex": {
     "environment": "problems"
    }
   },
   "source": [
    "Q10.31 Use SymPy to solve the system of linear equations below for the variables $x$, $y$, and $z$:\n",
    "\n",
    "$$ 2x + 4y - z = -0.6 $$\n",
    "\n",
    "$$ -x - 3y + 2z = 2.2 $$\n",
    "\n",
    "$$ \\frac{1}{2}x + 6y - 3z = -6.8 $$"
   ]
  },
  {
   "cell_type": "code",
   "execution_count": null,
   "metadata": {},
   "outputs": [],
   "source": []
  },
  {
   "cell_type": "markdown",
   "metadata": {
    "latex": {
     "environment": "problems"
    }
   },
   "source": [
    "Q10.32 A set of five linear equations is below:\n",
    "\n",
    "$$ -5x_1 - 4x_2 - 2x_3 + 2x_4 + 3x_5 = 10 $$\n",
    "\n",
    "$$ 9x_1 + 3x_2 + 4x_3 + 10x_4 + 5x_5 = -5 $$\n",
    "\n",
    "$$ 2x_1 + 4x_2 + 3x_3 + 2x_4 + x_5 = 12 $$\n",
    "\n",
    "$$ 5x_1 - 4x_2 + 3x_3 - 2x_4 + 2x_5 = 32 $$\n",
    "\n",
    "$$ x_1 - x_2 + 2x_3 + 4x_4 + 3x_5 = 42 $$\n",
    "\n",
    "Use symbolic math variables and equations to solve for $x_1$, $x_2$, $x_3$, $x_4$ and $x_5$."
   ]
  },
  {
   "cell_type": "code",
   "execution_count": null,
   "metadata": {},
   "outputs": [],
   "source": []
  },
  {
   "cell_type": "markdown",
   "metadata": {
    "latex": {
     "environment": "problems"
    }
   },
   "source": [
    "Q10.33 An equation in terms of the variables $L$ and $x$ is defined below.\n",
    "\n",
    "$$ \\frac{1}{6}L^3x^2 - \\frac{1}{6}Lx^3 + \\frac{1}{24}x^4 - \\frac{1}{45}L^4 = 0 $$\n",
    "\n",
    "Solve the equation for $x$ in terms of the variable $L$. Note their will be more than one solution."
   ]
  },
  {
   "cell_type": "code",
   "execution_count": null,
   "metadata": {},
   "outputs": [],
   "source": []
  },
  {
   "cell_type": "markdown",
   "metadata": {
    "latex": {
     "environment": "problems"
    }
   },
   "source": [
    "Q10.50 Use SymPy to solve the system of non-linear equations below for the variables $x$ and $y$:\n",
    "\n",
    "$$ 3x^2 + 2y^3 = -\\frac{17}{4} $$\n",
    "\n",
    "$$ \\frac{-x^3}{2} - 8y^2 + \\frac{127}{2} = 0 $$"
   ]
  },
  {
   "cell_type": "code",
   "execution_count": null,
   "metadata": {},
   "outputs": [],
   "source": []
  }
 ],
 "metadata": {
  "kernelspec": {
   "display_name": "Python 3",
   "language": "python",
   "name": "python3"
  },
  "language_info": {
   "codemirror_mode": {
    "name": "ipython",
    "version": 3
   },
   "file_extension": ".py",
   "mimetype": "text/x-python",
   "name": "python",
   "nbconvert_exporter": "python",
   "pygments_lexer": "ipython3",
   "version": "3.8.3"
  }
 },
 "nbformat": 4,
 "nbformat_minor": 2
}
