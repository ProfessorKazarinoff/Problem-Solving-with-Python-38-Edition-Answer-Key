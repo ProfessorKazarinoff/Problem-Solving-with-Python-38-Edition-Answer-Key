{
 "cells": [
  {
   "cell_type": "markdown",
   "metadata": {},
   "source": [
    "# Chapter 2. Jupyter Notebooks - Review Questions Answer Key"
   ]
  },
  {
   "cell_type": "markdown",
   "metadata": {
    "latex": {
     "environment": "problems"
    }
   },
   "source": [
    "#### Code cells and markdown cells"
   ]
  },
  {
   "cell_type": "markdown",
   "metadata": {
    "latex": {
     "environment": "problems"
    }
   },
   "source": [
    "Q02.01 Run the following code in two different Jupyter notebook cells. Run one cell as a code cell. Run the other cell as a Markdown cell. Why is the output different?\n",
    "\n",
    "```text\n",
    "# Problem Solving with Python\n",
    "```"
   ]
  },
  {
   "cell_type": "code",
   "execution_count": 1,
   "metadata": {},
   "outputs": [],
   "source": [
    "# Problem Solving with Python"
   ]
  },
  {
   "cell_type": "markdown",
   "metadata": {},
   "source": [
    "# Problem Solving with Python"
   ]
  },
  {
   "cell_type": "markdown",
   "metadata": {},
   "source": [
    "The code ```# Problem Solving with Python``` run in a code cell produces doesn't produce any output because ```# Problem Solving with Python``` starts with ```#``` and therfore is a comment. The code ```# Problem Solving with Python``` run in a markdown cell produces a large heading with the text Problem Solving with Python because markdown cells render text when they are run. Any text following ```# ``` become a large heading when rendered."
   ]
  },
  {
   "cell_type": "markdown",
   "metadata": {
    "latex": {
     "environment": "problems"
    }
   },
   "source": [
    "Q02.02 Run the following code in two different Jupyter notebook cells. Run one cell as a code cell. Run the other cell as a Markdown cell. Why is the output different?\n",
    "\n",
    "```text\n",
    "print('Problem Solving with Python')\n",
    "```"
   ]
  },
  {
   "cell_type": "code",
   "execution_count": 2,
   "metadata": {},
   "outputs": [
    {
     "name": "stdout",
     "output_type": "stream",
     "text": [
      "Problem Solving with Python\n"
     ]
    }
   ],
   "source": [
    "print('Problem Solving with Python')"
   ]
  },
  {
   "cell_type": "markdown",
   "metadata": {},
   "source": [
    "print('Problem Solving with Python')"
   ]
  },
  {
   "cell_type": "markdown",
   "metadata": {},
   "source": [
    "The code ```print('Problem Solving with Python')``` run in a code cell produces an output cell with the string ```Problem Solving with Python```. The code ```print('Problem Solving with Python')``` run in a markdown cell produces ```print('Problem Solving with Python')``` because the markdown cell does not run the code. Markdown cells render text when they are run."
   ]
  },
  {
   "cell_type": "markdown",
   "metadata": {
    "latex": {
     "environment": "problems"
    }
   },
   "source": [
    "#### Markdown cells\n",
    "\n",
    "Q02.10 Recreate the following headings in one Jupyter notebook markdown cell:\n",
    "\n",
    "```text\n",
    "# BIG heading\n",
    "\n",
    "## Big heading\n",
    "\n",
    "### SMALL heading\n",
    "\n",
    "#### small heading\n",
    "```"
   ]
  },
  {
   "cell_type": "markdown",
   "metadata": {},
   "source": [
    "\n",
    "# BIG heading\n",
    "\n",
    "## Big heading\n",
    "\n",
    "### SMALL heading\n",
    "\n",
    "#### small heading"
   ]
  },
  {
   "cell_type": "markdown",
   "metadata": {
    "latex": {
     "environment": "problems"
    }
   },
   "source": [
    "Q02.11 Recreate the following table in one Jupyter notebook markdown cell:\n",
    "\n",
    "| Python Package | Use |\n",
    "| --- | --- |\n",
    "| Jupyter | Jupyter notebooks |\n",
    "| NumPy | arrays |\n",
    "| Matplotlib | plots |\n",
    "| PySerial | serial communication |"
   ]
  },
  {
   "cell_type": "markdown",
   "metadata": {},
   "source": [
    "```\n",
    "| Python Package | Use |\n",
    "| --- | --- |\n",
    "| Jupyter | Jupyter notebooks |\n",
    "| NumPy | arrays |\n",
    "| Matplotlib | plots |\n",
    "| PySerial | serial communication |\n",
    "```"
   ]
  },
  {
   "cell_type": "markdown",
   "metadata": {
    "latex": {
     "environment": "problems"
    }
   },
   "source": [
    "Q02.12 Recreate the following code block in one Jupyter notebook markdown cell:\n",
    "\n",
    "```text\n",
    "import numpy as np\n",
    "import matplotlib.pyplot as plt\n",
    "%matplotlib inline\n",
    "```"
   ]
  },
  {
   "cell_type": "markdown",
   "metadata": {},
   "source": [
    "```text\n",
    "import numpy as np\n",
    "import matplotlib.pyplot as plt\n",
    "%matplotlib inline\n",
    "```"
   ]
  },
  {
   "cell_type": "markdown",
   "metadata": {
    "latex": {
     "environment": "problems"
    }
   },
   "source": [
    "Q02.12 Recreate the following bullet points in one Jupyter notebook markdown cell:\n",
    "\n",
    " * markdown cell : markdown\n",
    " * code cell: Python code\n",
    " * raw NBConvert: LaTeX"
   ]
  },
  {
   "cell_type": "markdown",
   "metadata": {},
   "source": [
    "```\n",
    " * markdown cell : markdown\n",
    " * code cell: Python code\n",
    " * raw NBConvert: LaTeX\n",
    "```"
   ]
  },
  {
   "cell_type": "markdown",
   "metadata": {
    "latex": {
     "environment": "problems"
    }
   },
   "source": [
    "Q02.13 Recreate the following list in one Jupyter notebook markdown cell:\n",
    "\n",
    " 1. Open Jupyter notebook\n",
    " 2. Write code\n",
    " 3. Restart Kernel & run all\n",
    " 4. Download notebook\n",
    " "
   ]
  },
  {
   "cell_type": "markdown",
   "metadata": {},
   "source": [
    "```\n",
    " 1. Open Jupyter notebook\n",
    " 2. Write code\n",
    " 3. Restart Kernel & run all\n",
    " 4. Download notebook\n",
    "```"
   ]
  },
  {
   "cell_type": "markdown",
   "metadata": {
    "latex": {
     "environment": "problems"
    }
   },
   "source": [
    "Q02.14 Recreate two horizontal rules in a Jupyter notebook markdown cell. In between the horizontal rules write the text _In between the lines_ like below:\n",
    "\n",
    "***\n",
    "\n",
    "_In between the lines_\n",
    "\n",
    "***"
   ]
  },
  {
   "cell_type": "markdown",
   "metadata": {},
   "source": [
    "```\n",
    "***\n",
    "\n",
    "_In between the lines_\n",
    "\n",
    "***\n",
    "```"
   ]
  },
  {
   "cell_type": "markdown",
   "metadata": {
    "latex": {
     "environment": "problems"
    }
   },
   "source": [
    "Q02.15 Inside a Jupyter notebook markdown cell, make the word ```Red``` the color red, make the word ```Green```, the color green, make the word ```Blue``` the color blue."
   ]
  },
  {
   "cell_type": "markdown",
   "metadata": {},
   "source": [
    "<font color=red>Green</font> <font color=green>Green</font> <font color=blue>Blue</font>"
   ]
  },
  {
   "cell_type": "markdown",
   "metadata": {
    "latex": {
     "environment": "problems"
    }
   },
   "source": [
    "Q02.16 Create a warning box on the inside of a Jupyter notebook markdown cell that says: \n",
    "\n",
    "**Warning!** Python counting starts at 0 and ends at n-1"
   ]
  },
  {
   "cell_type": "markdown",
   "metadata": {},
   "source": [
    "<div class=\"alert alert-danger\" role=\"alert\">\n",
    "  <strong>Warning!</strong> Python counting starts at 0 and ends at n-1\n",
    "</div>"
   ]
  },
  {
   "cell_type": "markdown",
   "metadata": {},
   "source": [
    "#### LaTeX Math"
   ]
  },
  {
   "cell_type": "markdown",
   "metadata": {},
   "source": [
    "Q02.20 Write the Pythagorean Theorem in a Jupyter notebook markdown cell using LaTeX math.\n",
    "\n",
    "$$ a^2 + b^2 = c^2 $$"
   ]
  },
  {
   "cell_type": "markdown",
   "metadata": {},
   "source": [
    "```\n",
    "$$ a^2 + b^2 = c^2 $$\n",
    "```"
   ]
  },
  {
   "cell_type": "markdown",
   "metadata": {},
   "source": [
    "Q02.21 Write the formula for the area of a circle in a Jupyter notebook markdown cell using LaTeX math.\n",
    "\n",
    "$$ A = \\pi r^2 $$"
   ]
  },
  {
   "cell_type": "markdown",
   "metadata": {},
   "source": [
    "```\n",
    "$$ A = \\pi r^2 $$\n",
    "```"
   ]
  },
  {
   "cell_type": "markdown",
   "metadata": {},
   "source": [
    "Q02.22 Write the formula below in a Jupyter notebook Markdown cell using LaTeX math.\n",
    "\n",
    "$$ \\int_{0}^{1} \\frac{1}{y^3} dy $$"
   ]
  },
  {
   "cell_type": "markdown",
   "metadata": {},
   "source": [
    "```\n",
    "$$ \\int_{0}^{1} \\frac{1}{y^3} dy $$\n",
    "```"
   ]
  },
  {
   "cell_type": "markdown",
   "metadata": {
    "latex": {
     "environment": "problems"
    }
   },
   "source": [
    "#### Code cells"
   ]
  },
  {
   "cell_type": "markdown",
   "metadata": {
    "latex": {
     "environment": "problems"
    }
   },
   "source": [
    "Q02.31 Run the following code in a Jupyter notebook code cell:\n",
    "\n",
    "```text\n",
    "import this\n",
    "```"
   ]
  },
  {
   "cell_type": "code",
   "execution_count": 3,
   "metadata": {},
   "outputs": [
    {
     "name": "stdout",
     "output_type": "stream",
     "text": [
      "The Zen of Python, by Tim Peters\n",
      "\n",
      "Beautiful is better than ugly.\n",
      "Explicit is better than implicit.\n",
      "Simple is better than complex.\n",
      "Complex is better than complicated.\n",
      "Flat is better than nested.\n",
      "Sparse is better than dense.\n",
      "Readability counts.\n",
      "Special cases aren't special enough to break the rules.\n",
      "Although practicality beats purity.\n",
      "Errors should never pass silently.\n",
      "Unless explicitly silenced.\n",
      "In the face of ambiguity, refuse the temptation to guess.\n",
      "There should be one-- and preferably only one --obvious way to do it.\n",
      "Although that way may not be obvious at first unless you're Dutch.\n",
      "Now is better than never.\n",
      "Although never is often better than *right* now.\n",
      "If the implementation is hard to explain, it's a bad idea.\n",
      "If the implementation is easy to explain, it may be a good idea.\n",
      "Namespaces are one honking great idea -- let's do more of those!\n"
     ]
    }
   ],
   "source": [
    "import this"
   ]
  },
  {
   "cell_type": "markdown",
   "metadata": {
    "latex": {
     "environment": "problems"
    }
   },
   "source": [
    "Q02.32 Run the following code in a Jupyter notebook code cell:\n",
    "\n",
    "```text\n",
    "import sys\n",
    "print(sys.version)\n",
    "```"
   ]
  },
  {
   "cell_type": "code",
   "execution_count": 4,
   "metadata": {},
   "outputs": [
    {
     "name": "stdout",
     "output_type": "stream",
     "text": [
      "3.8.5 (default, Sep  3 2020, 21:29:08) [MSC v.1916 64 bit (AMD64)]\n"
     ]
    }
   ],
   "source": [
    "import sys\n",
    "print(sys.version)"
   ]
  },
  {
   "cell_type": "markdown",
   "metadata": {
    "latex": {
     "environment": "problems"
    }
   },
   "source": [
    "Q02.33 Run the following code in a Jupyter notebook code cell:\n",
    "\n",
    "```text\n",
    "import matplotlib.pyplot as plt\n",
    "%matplotlib inline\n",
    "\n",
    "plt.plot([1,3,6,10])\n",
    "plt.show()\n",
    "```"
   ]
  },
  {
   "cell_type": "code",
   "execution_count": 5,
   "metadata": {},
   "outputs": [
    {
     "data": {
      "image/png": "[encoded data removed]",
      "text/plain": [
       "<Figure size 432x288 with 1 Axes>"
      ]
     },
     "metadata": {
      "needs_background": "light"
     },
     "output_type": "display_data"
    }
   ],
   "source": [
    "import matplotlib.pyplot as plt\n",
    "%matplotlib inline\n",
    "\n",
    "plt.plot([1,3,6,10])\n",
    "plt.show()"
   ]
  },
  {
   "cell_type": "markdown",
   "metadata": {
    "latex": {
     "environment": "problems"
    }
   },
   "source": [
    "Q02.34 Run the following code in a Jupyter notebook code cell. Move the slider back and forth and observe the results.\n",
    "\n",
    "```text\n",
    "from ipywidgets import interact\n",
    "import ipywidgets as widgets\n",
    "\n",
    "def func(x):\n",
    "    return x\n",
    "    \n",
    "interact(func, x=10);\n",
    "```"
   ]
  },
  {
   "cell_type": "code",
   "execution_count": 6,
   "metadata": {},
   "outputs": [
    {
     "data": {
      "application/vnd.jupyter.widget-view+json": {
       "model_id": "9bf2825dd04c49948c63ce438583c7a8",
       "version_major": 2,
       "version_minor": 0
      },
      "text/plain": [
       "interactive(children=(IntSlider(value=10, description='x', max=30, min=-10), Output()), _dom_classes=('widget-…"
      ]
     },
     "metadata": {},
     "output_type": "display_data"
    }
   ],
   "source": [
    "from ipywidgets import interact\n",
    "import ipywidgets as widgets\n",
    "\n",
    "def func(x):\n",
    "    return x\n",
    "\n",
    "interact(func, x=10);"
   ]
  },
  {
   "cell_type": "markdown",
   "metadata": {},
   "source": [
    "#### Cell Magic"
   ]
  },
  {
   "cell_type": "markdown",
   "metadata": {},
   "source": [
    "Q02.50 Create a file called **_hello.py_** in the same directory as your Jupyter notebook. Inside the file **_hello.py_** write the code below:\n",
    "\n",
    "```text\n",
    "# hello.py\n",
    "\n",
    "print(\"hello from the file\")\n",
    "```\n",
    "\n",
    "Use the Jupyter notebook magic command ```%load``` to load the code from **_hello.py_** into your Jupyter notebook."
   ]
  },
  {
   "cell_type": "code",
   "execution_count": 7,
   "metadata": {},
   "outputs": [
    {
     "name": "stdout",
     "output_type": "stream",
     "text": [
      "hello from the file\n"
     ]
    }
   ],
   "source": [
    "# %load hello.py\n",
    "# hello.py\n",
    "\n",
    "print(\"hello from the file\")\n"
   ]
  },
  {
   "cell_type": "markdown",
   "metadata": {},
   "source": [
    "Q02.51 Create a file called **_hello.py_** in the same directory as your Jupyter notebook. Inside the file **_hello.py_** write the code below:\n",
    "\n",
    "```text\n",
    "# hello.py\n",
    "\n",
    "print(\"hello from the file\")\n",
    "```\n",
    "\n",
    "Use the Jupyter notebook magic command ```%run``` to run the code from **_hello.py_** into your Jupyter notebook."
   ]
  },
  {
   "cell_type": "code",
   "execution_count": 8,
   "metadata": {},
   "outputs": [
    {
     "name": "stdout",
     "output_type": "stream",
     "text": [
      "hello from the file\n"
     ]
    },
    {
     "data": {
      "text/plain": [
       "<Figure size 432x288 with 0 Axes>"
      ]
     },
     "metadata": {},
     "output_type": "display_data"
    }
   ],
   "source": [
    "%run hello.py"
   ]
  },
  {
   "cell_type": "markdown",
   "metadata": {},
   "source": [
    "Q02.52 Run the code below in a Jupyter notebook code cell:\n",
    "\n",
    "```text\n",
    "import os\n",
    "\n",
    "print(os.getcwd())\n",
    "\n",
    "%pwd\n",
    "```\n",
    "\n",
    "Why is the output of these two commands similar?"
   ]
  },
  {
   "cell_type": "code",
   "execution_count": 9,
   "metadata": {},
   "outputs": [
    {
     "name": "stdout",
     "output_type": "stream",
     "text": [
      "C:\\Users\\peter.kazarinoff\\Documents\\answer-key\n"
     ]
    }
   ],
   "source": [
    "import os\n",
    "\n",
    "print(os.getcwd())"
   ]
  },
  {
   "cell_type": "code",
   "execution_count": 10,
   "metadata": {},
   "outputs": [
    {
     "data": {
      "text/plain": [
       "'C:\\\\Users\\\\peter.kazarinoff\\\\Documents\\\\answer-key'"
      ]
     },
     "execution_count": 10,
     "metadata": {},
     "output_type": "execute_result"
    }
   ],
   "source": [
    "%pwd"
   ]
  },
  {
   "cell_type": "markdown",
   "metadata": {},
   "source": [
    "The commands ```os.getcwd()``` and ```%pwd``` returns the same basic result. This is because ```os.getcwd()``` is a function from the ```os``` module that prints out the current working directry and ```%pwd``` is a Jupyter notebook magic command that prints out the working directory. The current working directory and the working directory refer to the same location."
   ]
  },
  {
   "cell_type": "markdown",
   "metadata": {},
   "source": [
    "#### Getting Help"
   ]
  },
  {
   "cell_type": "markdown",
   "metadata": {},
   "source": [
    "Q02.60 Use Python's ```dir()``` function in a Jupyter notebook code cell to find all the functions available in Python's ```math``` module. Remember to ```import math``` at the start of the code cell."
   ]
  },
  {
   "cell_type": "code",
   "execution_count": 11,
   "metadata": {},
   "outputs": [
    {
     "data": {
      "text/plain": [
       "['__doc__',\n",
       " '__loader__',\n",
       " '__name__',\n",
       " '__package__',\n",
       " '__spec__',\n",
       " 'acos',\n",
       " 'acosh',\n",
       " 'asin',\n",
       " 'asinh',\n",
       " 'atan',\n",
       " 'atan2',\n",
       " 'atanh',\n",
       " 'ceil',\n",
       " 'comb',\n",
       " 'copysign',\n",
       " 'cos',\n",
       " 'cosh',\n",
       " 'degrees',\n",
       " 'dist',\n",
       " 'e',\n",
       " 'erf',\n",
       " 'erfc',\n",
       " 'exp',\n",
       " 'expm1',\n",
       " 'fabs',\n",
       " 'factorial',\n",
       " 'floor',\n",
       " 'fmod',\n",
       " 'frexp',\n",
       " 'fsum',\n",
       " 'gamma',\n",
       " 'gcd',\n",
       " 'hypot',\n",
       " 'inf',\n",
       " 'isclose',\n",
       " 'isfinite',\n",
       " 'isinf',\n",
       " 'isnan',\n",
       " 'isqrt',\n",
       " 'ldexp',\n",
       " 'lgamma',\n",
       " 'log',\n",
       " 'log10',\n",
       " 'log1p',\n",
       " 'log2',\n",
       " 'modf',\n",
       " 'nan',\n",
       " 'perm',\n",
       " 'pi',\n",
       " 'pow',\n",
       " 'prod',\n",
       " 'radians',\n",
       " 'remainder',\n",
       " 'sin',\n",
       " 'sinh',\n",
       " 'sqrt',\n",
       " 'tan',\n",
       " 'tanh',\n",
       " 'tau',\n",
       " 'trunc']"
      ]
     },
     "execution_count": 11,
     "metadata": {},
     "output_type": "execute_result"
    }
   ],
   "source": [
    "import math\n",
    "dir(math)"
   ]
  },
  {
   "cell_type": "markdown",
   "metadata": {},
   "source": [
    "Q02.61 In a Jupyter notebook code cell, ```import math``` and run ```math.sqrt?```. Copy the contents of the help you receive in a Jupyter notebook markdown cell."
   ]
  },
  {
   "cell_type": "code",
   "execution_count": 12,
   "metadata": {},
   "outputs": [],
   "source": [
    "import math\n",
    "math.sqrt?"
   ]
  },
  {
   "cell_type": "markdown",
   "metadata": {},
   "source": [
    "From ```math.sqrt?```\n",
    "\n",
    "```\n",
    "Signature: math.sqrt(x, /)\n",
    "Docstring: Return the square root of x.\n",
    "Type:      builtin_function_or_method\n",
    "```"
   ]
  },
  {
   "cell_type": "markdown",
   "metadata": {},
   "source": [
    "Q02.62 In a Jupyter notebook code cell, ```import statistics``` and run ```statistics.mode?```. Copy the examples from the help you receive in a Jupyter notebook code cell. Run the code cell."
   ]
  },
  {
   "cell_type": "code",
   "execution_count": 13,
   "metadata": {},
   "outputs": [],
   "source": [
    "import statistics\n",
    "statistics.mode?"
   ]
  },
  {
   "cell_type": "code",
   "execution_count": 14,
   "metadata": {},
   "outputs": [
    {
     "data": {
      "text/plain": [
       "3"
      ]
     },
     "execution_count": 14,
     "metadata": {},
     "output_type": "execute_result"
    }
   ],
   "source": [
    "from statistics import mode\n",
    "mode([1, 1, 2, 3, 3, 3, 3, 4])"
   ]
  },
  {
   "cell_type": "code",
   "execution_count": 15,
   "metadata": {},
   "outputs": [
    {
     "data": {
      "text/plain": [
       "'red'"
      ]
     },
     "execution_count": 15,
     "metadata": {},
     "output_type": "execute_result"
    }
   ],
   "source": [
    "from statistics import mode\n",
    "mode([\"red\", \"blue\", \"blue\", \"red\", \"green\", \"red\", \"red\"])"
   ]
  }
 ],
 "metadata": {
  "kernelspec": {
   "display_name": "Python 3",
   "language": "python",
   "name": "python3"
  },
  "language_info": {
   "codemirror_mode": {
    "name": "ipython",
    "version": 3
   },
   "file_extension": ".py",
   "mimetype": "text/x-python",
   "name": "python",
   "nbconvert_exporter": "python",
   "pygments_lexer": "ipython3",
   "version": "3.8.10"
  }
 },
 "nbformat": 4,
 "nbformat_minor": 2
}
