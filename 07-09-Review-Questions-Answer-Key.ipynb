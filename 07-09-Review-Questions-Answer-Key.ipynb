{
 "cells": [
  {
   "cell_type": "markdown",
   "metadata": {},
   "source": [
    "## Review Questions"
   ]
  },
  {
   "cell_type": "markdown",
   "metadata": {
    "latex": {
     "environment": "problems"
    }
   },
   "source": [
    "#### User-defined functions"
   ]
  },
  {
   "cell_type": "markdown",
   "metadata": {
    "latex": {
     "environment": "problems"
    }
   },
   "source": [
    "Q07.01 Write a function called ```ft_to_in()``` which converts feet to inches. Note the conversion factor is 1 foot = 12 inches. Convert 6 feet into inches using your function."
   ]
  },
  {
   "cell_type": "code",
   "execution_count": 1,
   "metadata": {},
   "outputs": [
    {
     "name": "stdout",
     "output_type": "stream",
     "text": [
      "72\n"
     ]
    }
   ],
   "source": [
    "def ft_to_in(feet):\n",
    "    inch = feet*12\n",
    "    return inch\n",
    "\n",
    "inches = ft_to_in(6)\n",
    "print(inches)"
   ]
  },
  {
   "cell_type": "markdown",
   "metadata": {
    "latex": {
     "environment": "problems"
    }
   },
   "source": [
    "Q07.02 Write a function called ```m_to_ft()``` which converts meters to feet. Note the conversion factor is 1 meter =  3.28084 feet. Convert 5,000 meters into feet using your function."
   ]
  },
  {
   "cell_type": "code",
   "execution_count": 2,
   "metadata": {},
   "outputs": [
    {
     "name": "stdout",
     "output_type": "stream",
     "text": [
      "16404.2\n"
     ]
    }
   ],
   "source": [
    "def m_to_ft(meter):\n",
    "    foot = meter*3.28084\n",
    "    return foot\n",
    "\n",
    "feet = m_to_ft(5000)\n",
    "print(feet)"
   ]
  },
  {
   "cell_type": "markdown",
   "metadata": {
    "latex": {
     "environment": "problems"
    }
   },
   "source": [
    "Q07.03 Use the functions in questions Q07.01 and \n",
    "Q07.02 to convert 2 meters into inches."
   ]
  },
  {
   "cell_type": "code",
   "execution_count": 3,
   "metadata": {},
   "outputs": [
    {
     "name": "stdout",
     "output_type": "stream",
     "text": [
      "78.74016\n"
     ]
    }
   ],
   "source": [
    "ft = m_to_ft(2)\n",
    "inches = ft_to_in(ft)\n",
    "print(inches)"
   ]
  },
  {
   "cell_type": "markdown",
   "metadata": {
    "latex": {
     "environment": "problems"
    }
   },
   "source": [
    "Q07.04 Write a function that calculates the area of a circle based on a circle's radius. The formula for the area of a circle is $A = \\pi r^2$ where $A$ is area and $r$ is radius. Use your function to calculate the area of circle with a radius of 5."
   ]
  },
  {
   "cell_type": "code",
   "execution_count": 4,
   "metadata": {},
   "outputs": [
    {
     "name": "stdout",
     "output_type": "stream",
     "text": [
      "78.53981633974483\n"
     ]
    }
   ],
   "source": [
    "import math\n",
    "\n",
    "def cir_a(r):\n",
    "    out = math.pi*r**2\n",
    "    return out\n",
    "\n",
    "area = cir_a(5)\n",
    "print(area)"
   ]
  },
  {
   "cell_type": "markdown",
   "metadata": {
    "latex": {
     "environment": "problems"
    }
   },
   "source": [
    "Q07.05 Write a function that converts degrees Celsius ($C$) to degrees Fahrenheit ($F$). The formula to convert between the two temperature scales is $F = \\frac{9}{5} C + 32$. Convert 100 degrees $C$ to degrees $F$ using your function."
   ]
  },
  {
   "cell_type": "code",
   "execution_count": 5,
   "metadata": {},
   "outputs": [
    {
     "name": "stdout",
     "output_type": "stream",
     "text": [
      "212.0\n"
     ]
    }
   ],
   "source": [
    "def c_to_f(c):\n",
    "    f = 9/5*c + 32\n",
    "    return f\n",
    "\n",
    "boil = c_to_f(100)\n",
    "print(boil)"
   ]
  },
  {
   "cell_type": "markdown",
   "metadata": {
    "latex": {
     "environment": "problems"
    }
   },
   "source": [
    "Q07.06 Write a function that converts Kelvin temperature ($K$) to degrees Celsius ($C$). The formula to convert between the two temperature scales is $C = K - 273.15$."
   ]
  },
  {
   "cell_type": "code",
   "execution_count": 6,
   "metadata": {},
   "outputs": [],
   "source": [
    "def k_to_c(k):\n",
    "    c = k - 273.15\n",
    "    return c"
   ]
  },
  {
   "cell_type": "markdown",
   "metadata": {
    "latex": {
     "environment": "problems"
    }
   },
   "source": [
    "Q07.07 Use the functions in questions Q07.05 and Q07.06 to convert to convert the temperature at Standard Temperature and Pressure (STP) of $273.15 K$ into degrees $F$."
   ]
  },
  {
   "cell_type": "code",
   "execution_count": 7,
   "metadata": {},
   "outputs": [
    {
     "name": "stdout",
     "output_type": "stream",
     "text": [
      "32.0\n"
     ]
    }
   ],
   "source": [
    "c = k_to_c(273.15)\n",
    "f = c_to_f(c)\n",
    "print(f)"
   ]
  },
  {
   "cell_type": "markdown",
   "metadata": {
    "latex": {
     "environment": "problems"
    }
   },
   "source": [
    "Q07.08 Use the functions in questions Q07.05 and Q07.06 to convert to convert the temperature at absolute zero, $0 K$ into degrees Celsius and degrees Fahrenheit."
   ]
  },
  {
   "cell_type": "code",
   "execution_count": 8,
   "metadata": {},
   "outputs": [
    {
     "name": "stdout",
     "output_type": "stream",
     "text": [
      "-459.66999999999996\n"
     ]
    }
   ],
   "source": [
    "c = k_to_c(0)\n",
    "f = c_to_f(c)\n",
    "print(f)"
   ]
  },
  {
   "cell_type": "markdown",
   "metadata": {
    "latex": {
     "environment": "problems"
    }
   },
   "source": [
    "Q07.09 Write a function called ```hp_to_kw()``` which converts horse power ($hp$) into kilowatts ($kW$). Note the conversion factor is $1 hp =  0.7457 kW$. Convert the horsepower of the average horse, $14.9 hp$, into kilowatts ($kW$)."
   ]
  },
  {
   "cell_type": "code",
   "execution_count": 9,
   "metadata": {},
   "outputs": [
    {
     "name": "stdout",
     "output_type": "stream",
     "text": [
      "11.110930000000002\n"
     ]
    }
   ],
   "source": [
    "def hp_to_kw(hp):\n",
    "    kw = hp*0.7457\n",
    "    return kw\n",
    "\n",
    "kw_h = hp_to_kw(14.9)\n",
    "print(kw_h)"
   ]
  },
  {
   "cell_type": "markdown",
   "metadata": {
    "latex": {
     "environment": "problems"
    }
   },
   "source": [
    "Q07.10 Write a function called ```fun_logic()``` that accepts three boolean variables as its input (```a```, ```b```,  and ```c```).  The output of ```fun_logic()``` will be a single boolean variable that is only ```True``` when either ```a``` is ```True```, or ```a```, ```b```, and ```c``` are all ```False```."
   ]
  },
  {
   "cell_type": "code",
   "execution_count": 10,
   "metadata": {},
   "outputs": [],
   "source": [
    "def fun_logic(a,b,c):\n",
    "    if a==True and b==c==False:\n",
    "        return True\n",
    "    elif a==b==c==False:\n",
    "        return True\n",
    "    else:\n",
    "        return False"
   ]
  },
  {
   "cell_type": "markdown",
   "metadata": {
    "latex": {
     "environment": "problems"
    }
   },
   "source": [
    "Q07.11 Write a function called ```pn()``` that takes in a single number and outputs a string.  If the input number is negative, output the string ```'negative'```.  If the input number is positive, output  ```'positive'```.  Otherwise, output ```'neither'```. Test your function with a negative number, a positive number and ```0```."
   ]
  },
  {
   "cell_type": "code",
   "execution_count": 11,
   "metadata": {},
   "outputs": [
    {
     "name": "stdout",
     "output_type": "stream",
     "text": [
      "negative\n",
      "positive\n",
      "neither\n"
     ]
    }
   ],
   "source": [
    "def pn(n):\n",
    "    if n<0:\n",
    "        return 'negative'\n",
    "    elif n>0:\n",
    "        return 'positive'\n",
    "    else:\n",
    "        return 'neither'\n",
    "\n",
    "out1 = pn(-5)\n",
    "print(out1)\n",
    "out2 = pn(2)\n",
    "print(out2)\n",
    "out3 = pn(0)\n",
    "print(out3)"
   ]
  },
  {
   "cell_type": "markdown",
   "metadata": {},
   "source": [
    "#### Functions with multiple arguments"
   ]
  },
  {
   "cell_type": "markdown",
   "metadata": {},
   "source": [
    "Q07.20 Write a function called ```cyl_v()``` that calculates the volume $V$ of a cylinder based on cylinder height $h$ and cylinder radius $r$. The formula for the volume of a cylinder is below:\n",
    "\n",
    "$$ V = \\pi r^2 h $$\n",
    "\n",
    "Use your function ```cyl_v()``` to calculate the volume of a cylinder with height = 2.7 and radius = 0.73."
   ]
  },
  {
   "cell_type": "code",
   "execution_count": 12,
   "metadata": {},
   "outputs": [
    {
     "name": "stdout",
     "output_type": "stream",
     "text": [
      "4.520217757764601\n"
     ]
    }
   ],
   "source": [
    "import math\n",
    "\n",
    "def cyl_v(h,r):\n",
    "    v = h*math.pi*r**2\n",
    "    return v\n",
    "\n",
    "v2 = cyl_v(2.7,0.73)\n",
    "print(v2)"
   ]
  },
  {
   "cell_type": "markdown",
   "metadata": {},
   "source": [
    "Q07.21 The universal gas law states that the pressure $P$, and temperature $T$ of a volume $V$ of gas with number of particles $n$ is related by the equation below, where $R$ is the universal gas constant.\n",
    "\n",
    "$$ PV = nRT $$\n",
    "\n",
    "Write a function called ```gas_v()``` to calculate the volume $V$ of a gas based on pressure $P$, temperature $T$, number of particles $n$ and universal gas constant $R$. Use your function to find the volume of gas with the following parameters:\n",
    "\n",
    "$$ T = 273.15$$\n",
    "\n",
    "$$ n = 6.02 \\times 10^{23} $$\n",
    "\n",
    "$$ R = 8.314 $$\n",
    "\n",
    "$$ P = 101,325 $$"
   ]
  },
  {
   "cell_type": "code",
   "execution_count": 13,
   "metadata": {},
   "outputs": [
    {
     "name": "stdout",
     "output_type": "stream",
     "text": [
      "1.34924589015544e+22\n"
     ]
    }
   ],
   "source": [
    "def gas_v(P,T,n,R):\n",
    "    v = n*R*T/P\n",
    "    return v\n",
    "\n",
    "v2 = gas_v(101325, 273.15,6.02e23, 8.314)\n",
    "print(v2)"
   ]
  },
  {
   "cell_type": "markdown",
   "metadata": {},
   "source": [
    "Q07.22 Most professional bakers weight their ingredients, while many home bakers use measurements like cups and tablespoons to measure out ingredients. Create a function that takes two arguments: ingredient and cups. The function will output the number of grams of the specified ingredient. For example, a skeleton outline of your function might look like:\n",
    "\n",
    "```text\n",
    "def bake_conv(ingredient, cups)\n",
    "    <code>\n",
    "    return grams\n",
    "```\n",
    "\n",
    "Your function needs to accept the following ingredients: ```'flour'``` and ```'sugar'```. The conversion factor for flour is 1 cup flour = 128 grams flour. The conversion factor for sugar is 1 cup sugar = 200 grams sugar. Use your function to convert a recipe that calls for 3 cups of flour and a quarter cup of sugar."
   ]
  },
  {
   "cell_type": "code",
   "execution_count": 14,
   "metadata": {},
   "outputs": [
    {
     "name": "stdout",
     "output_type": "stream",
     "text": [
      "384\n",
      "50.0\n"
     ]
    }
   ],
   "source": [
    "def bake_conv(ingredient, cups):\n",
    "    if ingredient == \"flour\":\n",
    "        grams = cups*128\n",
    "    elif ingredient == \"sugar\":\n",
    "        grams = cups*200\n",
    "    else:\n",
    "        print(\"invalid ingredient\")\n",
    "        return None\n",
    "    return grams\n",
    "\n",
    "g_flour = bake_conv(\"flour\",3)\n",
    "g_sugar = bake_conv(\"sugar\",0.25)\n",
    "print(g_flour)\n",
    "print(g_sugar)"
   ]
  },
  {
   "cell_type": "markdown",
   "metadata": {},
   "source": [
    "Q07.23 The gravitational force between two celestial bodies (planets, moons, stars etc) is calculated according to:\n",
    "\n",
    "$$ F_g = \\frac{GMm}{r^2} $$\n",
    "\n",
    "where $F_g$ is the gravitational force, $M$ is the mass of one of the celestial bodies, $m$ is the mass of the other the celestial body, $r$ is the distance between the two celestial bodies and $G$ is the universal gravitational constant. $G=6.667408 \\times 10^{-11} m^3 kg^{-1}s^{-2}$. \n",
    "\n",
    "(a) Write a function called ```grav_force()``` that accepts the mass of two celestial bodies and outputs the gravitational force produced.\n",
    "\n",
    "| Celestial Body | Mass | Distance from sun |\n",
    "| --- | --- | --- |\n",
    "| Sun | $1.989\\times10^{30} kg$ | $0$ |\n",
    "| Earth | $5.98\\times10^{24} kg$ | $149.6 \\times 10^9 m$ |\n",
    "| Mars | $6.42\\times10^{23} kg$ | $228 \\times 10^9 m$ | \n",
    "\n",
    "(b) Use your function ```grav_force()``` and the table above to calculate the gravitational force between the earth and the sun.\n",
    "\n",
    "(c) Use your function ```grav_force()``` and the table above to calculate the gravitational force between the mars and the sun."
   ]
  },
  {
   "cell_type": "code",
   "execution_count": 15,
   "metadata": {},
   "outputs": [
    {
     "name": "stdout",
     "output_type": "stream",
     "text": [
      "3.543478580213904e+22\n",
      "1.6377859796675902e+21\n"
     ]
    }
   ],
   "source": [
    "# (a)\n",
    "def grav_force(M,m,r):\n",
    "    G = 6.667408e-11\n",
    "    Fg = G*M*m/r**2\n",
    "    return Fg\n",
    "\n",
    "# (b)\n",
    "Fg_e_s = grav_force(1.989e30,5.98e24,149.6e9)\n",
    "print(Fg_e_s)\n",
    "\n",
    "# (c)\n",
    "Fg_m_s = grav_force(1.989e30,6.42e23,228e9)\n",
    "print(Fg_m_s)"
   ]
  },
  {
   "cell_type": "markdown",
   "metadata": {},
   "source": [
    "Q07.24 Write a function called ```add3()``` that takes in 3 numbers and returns their sum.  Only a single output variable (the sum of the three numbers) should be returned.\n",
    "\n",
    "Test your function by writing code beneath the function definition that calls the function with input you create."
   ]
  },
  {
   "cell_type": "code",
   "execution_count": 16,
   "metadata": {},
   "outputs": [
    {
     "name": "stdout",
     "output_type": "stream",
     "text": [
      "9\n",
      "9\n"
     ]
    }
   ],
   "source": [
    "def add3(a,b,c):\n",
    "    out = a+b+c\n",
    "    return out\n",
    "\n",
    "# test\n",
    "out2 = add3(2,3,4)\n",
    "print(out2)\n",
    "print(2+3+4)"
   ]
  },
  {
   "cell_type": "markdown",
   "metadata": {},
   "source": [
    "Q07.25 Write a function called ```asq()``` that takes in two variables, ```A``` and ```B```.  Have ```asq()``` output 3 values: the sum, the difference and the quotient of ```A``` and ```B``` as defined below:\n",
    "\n",
    "```sum = A + B```\n",
    "\n",
    "```difference = A - B```\n",
    "\n",
    "```quotient = A/B```\n",
    "\n",
    "Your function should accept two input arguments and output three values."
   ]
  },
  {
   "cell_type": "code",
   "execution_count": 17,
   "metadata": {},
   "outputs": [],
   "source": [
    "def asq(A,B):\n",
    "    out1 = A + B\n",
    "    out2 = A - B\n",
    "    out3 = A/B\n",
    "    return out1,out2,out3"
   ]
  },
  {
   "cell_type": "markdown",
   "metadata": {},
   "source": [
    "#### Functions with default arguments"
   ]
  },
  {
   "cell_type": "markdown",
   "metadata": {},
   "source": [
    "Q07.30 (a) Rewrite the function in problem Q07.21 called ```gas_v()``` with the default values $n = 6.02 \\times 10^{23}$, $R = 8.314$ and $P = 101,325$.\n",
    "\n",
    "(b) Use your modified function ```gas_v()``` to calculate the volume of a gas at $T = 500 K$ using the default arguments.\n",
    "\n",
    "(c) Use your modified function ```gas_v()``` to calculate the volume of a gas at $T = 500K$, under half the pressure $p = 101,325/2$."
   ]
  },
  {
   "cell_type": "code",
   "execution_count": 18,
   "metadata": {},
   "outputs": [
    {
     "name": "stdout",
     "output_type": "stream",
     "text": [
      "1.1330017271157168e+22\n",
      "2.2660034542314336e+22\n"
     ]
    }
   ],
   "source": [
    "# (a)\n",
    "def gas_v(T,n=6.02e23,R=3.814,P=101325):\n",
    "    v = n*R*T/P\n",
    "    return v\n",
    "\n",
    "# (b)\n",
    "v1 = gas_v(500)\n",
    "print(v1)\n",
    "\n",
    "# (c)\n",
    "v2 = gas_v(500,P=101325/2)\n",
    "print(v2)"
   ]
  },
  {
   "cell_type": "markdown",
   "metadata": {},
   "source": [
    "Q07.31 In engineering mechanics, the tensile stress $\\sigma$ applied to a solid cylinder is equal to the tensile force on the cylinder $F$ divided by the cylinder's cross sectional area $A$ according to the formula below:\n",
    "\n",
    "$$ \\sigma = \\frac{F}{A} $$\n",
    "\n",
    "The standard diameter $d$ of a cylinder pulled in tension in a tensile test using the ASTM D8 standard is $d=0.506$ inches. \n",
    "\n",
    "$$ A = \\pi(d/2)^2 $$\n",
    "\n",
    "Use the formula for stress $\\sigma$ and area $A$ above to write a function called ```stress()``` that calculates stress $\\sigma$ based on force $F$ and diameter $d$. Use $d=0.506$ as the default diameter, but allow the user to specify a different diameter if they want.\n",
    "\n",
    "Use your ```stress()``` function to calculate the tensile stress $\\sigma$ in a cylinder with the default diameter and a tensile force $F = 12,000$."
   ]
  },
  {
   "cell_type": "code",
   "execution_count": 19,
   "metadata": {},
   "outputs": [
    {
     "name": "stdout",
     "output_type": "stream",
     "text": [
      "59674.711903099385\n"
     ]
    }
   ],
   "source": [
    "import math\n",
    "\n",
    "def stress(F,d=0.506):\n",
    "    A = math.pi*(d/2)**2\n",
    "    s = F/A\n",
    "    return s\n",
    "\n",
    "s2 = stress(12000)\n",
    "print(s2)"
   ]
  },
  {
   "cell_type": "markdown",
   "metadata": {},
   "source": [
    "Q07.32 One way to calculate how much an investment will be worth is to use the Future Value formula:\n",
    "\n",
    "$$ FV = I_0(1 + r)^n $$\n",
    "\n",
    "Where $FV$ is the future value, $I_0$ is the initial investment, $r$ is the yearly rate of return, and $n$ is the number of years you plan to invest. \n",
    "\n",
    "(a) Write a function called ```future_value()``` which accepts an initial investment $I_0$ and a number of years $n$ and calculates the future value $FV$. Include $r=0.05$ as the default yearly rate of return.\n",
    "\n",
    "(b) Use your ```future_value()``` function to calculate the future value of an initial investment of 2000 dollars over 30 years with the default yearly rate of return\n",
    "\n",
    "(c) Use your ```future_value()``` function to calculate the future value of the same initial investment of 2000 dollars over 30 years, but a rate of return of 8% (```0.08```).\n",
    "\n",
    "(d) Use your ```future_value()``` function to determine when 2000 dollars is invested over 30 years, how much more do you make if the rate of return is 10% (```0.10```) instead of 5% (```0.05```)."
   ]
  },
  {
   "cell_type": "code",
   "execution_count": 20,
   "metadata": {},
   "outputs": [
    {
     "name": "stdout",
     "output_type": "stream",
     "text": [
      "8643.884750301335\n",
      "20125.3137781469\n",
      "26254.919787471565\n"
     ]
    }
   ],
   "source": [
    "# (a)\n",
    "def future_value(I_0,n,r=0.05):\n",
    "    FV = I_0*(1 + r)**n\n",
    "    return FV\n",
    "\n",
    "# (b)\n",
    "m = future_value(2000,30)\n",
    "print(m)\n",
    "\n",
    "# (c)\n",
    "m2 = future_value(2000,30,r=0.08)\n",
    "print(m2)\n",
    "\n",
    "# (d)\n",
    "m10 = future_value(2000,30,r=0.10)\n",
    "m5= future_value(2000,30)\n",
    "print(m10-m5)"
   ]
  },
  {
   "cell_type": "markdown",
   "metadata": {},
   "source": [
    "Q07.33 Write a function called ```s()``` that takes in 3 variables, ```a```, ```b```, and ```c```.  Have your function ```s()``` output the sum of ```a```, ```b``` and ```c```.  If no value is passed in for ```c```, set ```c``` to the default value of ```100```."
   ]
  },
  {
   "cell_type": "code",
   "execution_count": 21,
   "metadata": {},
   "outputs": [],
   "source": [
    "def s(a,b,c=100):\n",
    "    return a+b+c"
   ]
  },
  {
   "cell_type": "markdown",
   "metadata": {
    "latex": {
     "environment": "problems"
    }
   },
   "source": [
    "#### Nested Functions"
   ]
  },
  {
   "cell_type": "markdown",
   "metadata": {
    "latex": {
     "environment": "problems"
    }
   },
   "source": [
    "Q07.36 In mechanical engineering, there are a couple different units of _stress_. Units of stress include: Pascals ($Pa$), Mega Pascals ($MPa$), pounds per square inch (psi) and kilopounds per square inch ($ksi$). \n",
    "\n",
    " (a) Write a function called ```pa_to_mpa``` to convert between Pascals ($Pa$) and Mega Pascals ($MPa$). The conversion factor is $1 MPa = 10^6 Pa$\n",
    " \n",
    " (b) Write a function called ```mpa_to_ksi``` to convert between Mega Pascals ($MPa$) and kilopounds per square inch ($ksi$). The conversion factor is $1 ksi = 6.89476 MPa$\n",
    " \n",
    " (c) Write a function called ```ksi_to_psi``` to convert between kilopounds per square inch ($ksi$) and pounds per square inch ($psi$). The conversion factor is $1000 psi = 1 ksi$\n",
    " \n",
    " (d) Combine the three functions ```pa_to_mpa```, ```mpa_to_ksi```, ```ksi_to_psi``` into a single function ```pa_to_psi```. Do this by calling the other functions as part of the ```pa_to_psi``` function, not by rewriting the same code you wrote in parts (a), (b), and (c).\n",
    " \n",
    " (e) Convert 2,500 $Pa$ into $psi$ using your ```pa_to_psi``` function."
   ]
  },
  {
   "cell_type": "code",
   "execution_count": 22,
   "metadata": {},
   "outputs": [
    {
     "name": "stdout",
     "output_type": "stream",
     "text": [
      "0.3625942019736728\n"
     ]
    }
   ],
   "source": [
    "# (a)\n",
    "def pa_to_mpa(Pa):\n",
    "    MPa = Pa/1e6\n",
    "    return MPa\n",
    "\n",
    "# (b)\n",
    "def mpa_to_ksi(MPa):\n",
    "    ksi = MPa/6.89476\n",
    "    return ksi\n",
    "\n",
    "# (c)\n",
    "def ksi_to_psi(ksi):\n",
    "    psi = ksi*1000\n",
    "    return psi\n",
    "\n",
    "# (d)\n",
    "def pa_to_psi(Pa):\n",
    "    MPa = pa_to_mpa(Pa)\n",
    "    ksi = mpa_to_ksi(MPa)\n",
    "    psi = ksi_to_psi(ksi)\n",
    "    return psi\n",
    "\n",
    "# (e)\n",
    "psi = pa_to_psi(2500)\n",
    "print(psi)"
   ]
  },
  {
   "cell_type": "markdown",
   "metadata": {
    "latex": {
     "environment": "problems"
    }
   },
   "source": [
    "#### Functions in other files"
   ]
  },
  {
   "cell_type": "markdown",
   "metadata": {
    "latex": {
     "environment": "problems"
    }
   },
   "source": [
    "Q07.40 Create a separate **_.py_** file called **_greetings.py_**. Inside of **_greetings.py_** include the code:\n",
    "\n",
    "```python\n",
    "def hi():\n",
    "    print(\"Hi!\")\n",
    "```\n",
    "\n",
    "Import your newly created **_greetings.py_** file and run the function ```hi()```."
   ]
  },
  {
   "cell_type": "code",
   "execution_count": 23,
   "metadata": {},
   "outputs": [
    {
     "name": "stdout",
     "output_type": "stream",
     "text": [
      "Hi!\n"
     ]
    }
   ],
   "source": [
    "from greetings import hi\n",
    "\n",
    "hi()"
   ]
  },
  {
   "cell_type": "markdown",
   "metadata": {
    "latex": {
     "environment": "problems"
    }
   },
   "source": [
    "Q07.41 Create a separate **_.py_** file called **_greetings.py_**. Inside of **_greetings.py_** include the code:\n",
    "\n",
    "```python\n",
    "def hello(name):\n",
    "    print(\"Hello \" + name)\n",
    "```\n",
    "\n",
    "Import your newly created **_greatings.py_** file and run the function ```hello()``` with your name as an input argument."
   ]
  },
  {
   "cell_type": "code",
   "execution_count": 24,
   "metadata": {},
   "outputs": [
    {
     "name": "stdout",
     "output_type": "stream",
     "text": [
      "Hello Gabby\n"
     ]
    }
   ],
   "source": [
    "from greetings import hello\n",
    "\n",
    "hello(\"Gabby\")"
   ]
  },
  {
   "cell_type": "markdown",
   "metadata": {
    "latex": {
     "environment": "problems"
    }
   },
   "source": [
    "Q07.42 Create a separate file **_.py_** file called **_areas.py_**. Inside of **_areas.py_** include the code:\n",
    "\n",
    "```python\n",
    "def triangle(base,height):\n",
    "    area = 0.5*base*height\n",
    "    print(\"Triangle Area: \", area)\n",
    "    \n",
    "\n",
    "def rectangle(length, width):\n",
    "    area = length* width\n",
    "    print(\"Rectangle Area: \", area)\n",
    "```\n",
    "\n",
    "Import your newly created **_areas.py_** file and run the functions ```triangle()``` and ```rectangle()``` with the same two input arguments: ```2``` and ```3```."
   ]
  },
  {
   "cell_type": "code",
   "execution_count": 25,
   "metadata": {},
   "outputs": [
    {
     "name": "stdout",
     "output_type": "stream",
     "text": [
      "Triangle Area:  3.0\n",
      "Rectangle Area:  6\n"
     ]
    }
   ],
   "source": [
    "from areas import triangle, rectangle\n",
    "\n",
    "triangle(2,3)\n",
    "rectangle(2,3)"
   ]
  },
  {
   "cell_type": "markdown",
   "metadata": {},
   "source": [
    "#### Errors, Explanations, and Solutions"
   ]
  },
  {
   "cell_type": "markdown",
   "metadata": {},
   "source": [
    "For the sections of code below, run the lines of code. Then explain the error in your own words. Below your error explanation, rewrite and run an improved section of code that fixes the error."
   ]
  },
  {
   "cell_type": "markdown",
   "metadata": {},
   "source": [
    "Q07.80 Run the code below and explain the error. Rewrite the code and run it error free.\n",
    "\n",
    "```python\n",
    "def add_me(num)\n",
    "    return num + 2\n",
    "\n",
    "add_me(1)\n",
    "```"
   ]
  },
  {
   "cell_type": "code",
   "execution_count": 26,
   "metadata": {},
   "outputs": [
    {
     "ename": "SyntaxError",
     "evalue": "invalid syntax (<ipython-input-26-8ef7b52cca6e>, line 1)",
     "output_type": "error",
     "traceback": [
      "\u001b[1;36m  File \u001b[1;32m\"<ipython-input-26-8ef7b52cca6e>\"\u001b[1;36m, line \u001b[1;32m1\u001b[0m\n\u001b[1;33m    def add_me(num)\u001b[0m\n\u001b[1;37m                   ^\u001b[0m\n\u001b[1;31mSyntaxError\u001b[0m\u001b[1;31m:\u001b[0m invalid syntax\n"
     ]
    }
   ],
   "source": [
    "def add_me(num)\n",
    "    return num + 2\n",
    "\n",
    "add_me(1)"
   ]
  },
  {
   "cell_type": "markdown",
   "metadata": {},
   "source": [
    "The function's definition line ```def add_me(num)``` is missing a colon. Adding a colon to the end of the line will fix the syntax error."
   ]
  },
  {
   "cell_type": "code",
   "execution_count": 27,
   "metadata": {},
   "outputs": [
    {
     "data": {
      "text/plain": [
       "3"
      ]
     },
     "execution_count": 27,
     "metadata": {},
     "output_type": "execute_result"
    }
   ],
   "source": [
    "def add_me(num):\n",
    "    return num + 2\n",
    "\n",
    "add_me(1)"
   ]
  },
  {
   "cell_type": "markdown",
   "metadata": {},
   "source": [
    "Q07.81 Run the code below and explain the error. Rewrite the code and run it error free.\n",
    "\n",
    "```python\n",
    "def add_you[num]:\n",
    "    return num + 2\n",
    "    \n",
    "add_you(2)\n",
    "```"
   ]
  },
  {
   "cell_type": "code",
   "execution_count": 28,
   "metadata": {},
   "outputs": [
    {
     "ename": "SyntaxError",
     "evalue": "invalid syntax (<ipython-input-28-9a68ec95b551>, line 1)",
     "output_type": "error",
     "traceback": [
      "\u001b[1;36m  File \u001b[1;32m\"<ipython-input-28-9a68ec95b551>\"\u001b[1;36m, line \u001b[1;32m1\u001b[0m\n\u001b[1;33m    def add_you[num]:\u001b[0m\n\u001b[1;37m               ^\u001b[0m\n\u001b[1;31mSyntaxError\u001b[0m\u001b[1;31m:\u001b[0m invalid syntax\n"
     ]
    }
   ],
   "source": [
    "def add_you[num]:\n",
    "    return num + 2\n",
    "    \n",
    "add_you(2)"
   ]
  },
  {
   "cell_type": "markdown",
   "metadata": {},
   "source": [
    "The definition line of the function ```def add_you[num]:``` includes square brackets. To fix the error, parenthesis should be used instead."
   ]
  },
  {
   "cell_type": "code",
   "execution_count": 29,
   "metadata": {},
   "outputs": [
    {
     "data": {
      "text/plain": [
       "4"
      ]
     },
     "execution_count": 29,
     "metadata": {},
     "output_type": "execute_result"
    }
   ],
   "source": [
    "def add_you(num):\n",
    "    return num + 2\n",
    "    \n",
    "add_you(2)"
   ]
  },
  {
   "cell_type": "markdown",
   "metadata": {},
   "source": [
    "Q07.82 Run the code below and explain the error. Rewrite the code and run it error free.\n",
    "\n",
    "```python\n",
    "def my_func():\n",
    "    print('yup')\n",
    "    \n",
    "my_func('yup')\n",
    "```"
   ]
  },
  {
   "cell_type": "code",
   "execution_count": 30,
   "metadata": {},
   "outputs": [
    {
     "ename": "TypeError",
     "evalue": "my_func() takes 0 positional arguments but 1 was given",
     "output_type": "error",
     "traceback": [
      "\u001b[1;31m---------------------------------------------------------------------------\u001b[0m",
      "\u001b[1;31mTypeError\u001b[0m                                 Traceback (most recent call last)",
      "\u001b[1;32m<ipython-input-30-d147f3c24f81>\u001b[0m in \u001b[0;36m<module>\u001b[1;34m\u001b[0m\n\u001b[0;32m      2\u001b[0m     \u001b[0mprint\u001b[0m\u001b[1;33m(\u001b[0m\u001b[1;34m'yup'\u001b[0m\u001b[1;33m)\u001b[0m\u001b[1;33m\u001b[0m\u001b[1;33m\u001b[0m\u001b[0m\n\u001b[0;32m      3\u001b[0m \u001b[1;33m\u001b[0m\u001b[0m\n\u001b[1;32m----> 4\u001b[1;33m \u001b[0mmy_func\u001b[0m\u001b[1;33m(\u001b[0m\u001b[1;34m'yup'\u001b[0m\u001b[1;33m)\u001b[0m\u001b[1;33m\u001b[0m\u001b[1;33m\u001b[0m\u001b[0m\n\u001b[0m",
      "\u001b[1;31mTypeError\u001b[0m: my_func() takes 0 positional arguments but 1 was given"
     ]
    }
   ],
   "source": [
    "def my_func():\n",
    "    print('yup')\n",
    "    \n",
    "my_func('yup')"
   ]
  },
  {
   "cell_type": "markdown",
   "metadata": {},
   "source": [
    "The function ```my_func()``` does not accept any import arguments. But when the function was called, the input argument ```'yup'``` was supplied. To fix the error, the function should be called without any input arguments."
   ]
  },
  {
   "cell_type": "code",
   "execution_count": 31,
   "metadata": {},
   "outputs": [
    {
     "name": "stdout",
     "output_type": "stream",
     "text": [
      "yup\n"
     ]
    }
   ],
   "source": [
    "def my_func():\n",
    "    print('yup')\n",
    "    \n",
    "my_func()"
   ]
  },
  {
   "cell_type": "markdown",
   "metadata": {},
   "source": [
    "Q07.83 Run the code below and explain the error. Rewrite the code and run it error free.\n",
    "\n",
    "```python\n",
    "def nope():\n",
    "print('nope')\n",
    "\n",
    "nope()\n",
    "```"
   ]
  },
  {
   "cell_type": "code",
   "execution_count": 32,
   "metadata": {},
   "outputs": [
    {
     "ename": "IndentationError",
     "evalue": "expected an indented block (<ipython-input-32-d5d957e120c6>, line 2)",
     "output_type": "error",
     "traceback": [
      "\u001b[1;36m  File \u001b[1;32m\"<ipython-input-32-d5d957e120c6>\"\u001b[1;36m, line \u001b[1;32m2\u001b[0m\n\u001b[1;33m    print('nope')\u001b[0m\n\u001b[1;37m    ^\u001b[0m\n\u001b[1;31mIndentationError\u001b[0m\u001b[1;31m:\u001b[0m expected an indented block\n"
     ]
    }
   ],
   "source": [
    "def nope():\n",
    "print('nope')\n",
    "\n",
    "nope()"
   ]
  },
  {
   "cell_type": "markdown",
   "metadata": {},
   "source": [
    "There is an indentation error in the code. The line ```print('nope')``` needs to be indented because this code is part of the function definition. To fix the error, indent ```print('nope')``` by 4 spaces (which is the standard indentation in Python)."
   ]
  },
  {
   "cell_type": "code",
   "execution_count": 33,
   "metadata": {},
   "outputs": [
    {
     "name": "stdout",
     "output_type": "stream",
     "text": [
      "nope\n"
     ]
    }
   ],
   "source": [
    "def nope():\n",
    "    print('nope')\n",
    "\n",
    "nope()"
   ]
  },
  {
   "cell_type": "markdown",
   "metadata": {},
   "source": [
    "Q07.84 Run the code below and explain the error. Rewrite the code and run it error free.\n",
    "\n",
    "```python\n",
    "def plus(2+2):\n",
    "    return 4 \n",
    "    \n",
    "nothing()\n",
    "```"
   ]
  },
  {
   "cell_type": "code",
   "execution_count": 34,
   "metadata": {},
   "outputs": [
    {
     "ename": "SyntaxError",
     "evalue": "invalid syntax (<ipython-input-34-4263fe01fff5>, line 1)",
     "output_type": "error",
     "traceback": [
      "\u001b[1;36m  File \u001b[1;32m\"<ipython-input-34-4263fe01fff5>\"\u001b[1;36m, line \u001b[1;32m1\u001b[0m\n\u001b[1;33m    def plus(2+2):\u001b[0m\n\u001b[1;37m             ^\u001b[0m\n\u001b[1;31mSyntaxError\u001b[0m\u001b[1;31m:\u001b[0m invalid syntax\n"
     ]
    }
   ],
   "source": [
    "def plus(2+2):\n",
    "    return 4 \n",
    "    \n",
    "nothing()"
   ]
  },
  {
   "cell_type": "markdown",
   "metadata": {},
   "source": [
    "There are two errors in the code above. The function ```plus()``` is not supplied with an input argument variable, it is supplied the expression ```2+2```. If this is the default input for the function, a variable set to a default value can be included as an input argument. In addition, the function ```nothing()``` is called below the function definition for ```plus()```. To fix this error, call the ```plus()``` function instead."
   ]
  },
  {
   "cell_type": "code",
   "execution_count": 35,
   "metadata": {},
   "outputs": [
    {
     "data": {
      "text/plain": [
       "4"
      ]
     },
     "execution_count": 35,
     "metadata": {},
     "output_type": "execute_result"
    }
   ],
   "source": [
    "def plus(n=2+2):\n",
    "    return 4 \n",
    "    \n",
    "plus()"
   ]
  },
  {
   "cell_type": "markdown",
   "metadata": {},
   "source": [
    "Q07.85 Run the code below and explain the error. Rewrite the code and run it error free.\n",
    "\n",
    "```python\n",
    "def first_a(a):\n",
    "    return a[0]\n",
    "    \n",
    "first_a(1)\n",
    "```"
   ]
  },
  {
   "cell_type": "code",
   "execution_count": 36,
   "metadata": {},
   "outputs": [
    {
     "ename": "TypeError",
     "evalue": "'int' object is not subscriptable",
     "output_type": "error",
     "traceback": [
      "\u001b[1;31m---------------------------------------------------------------------------\u001b[0m",
      "\u001b[1;31mTypeError\u001b[0m                                 Traceback (most recent call last)",
      "\u001b[1;32m<ipython-input-36-7b0a71c27399>\u001b[0m in \u001b[0;36m<module>\u001b[1;34m\u001b[0m\n\u001b[0;32m      2\u001b[0m     \u001b[1;32mreturn\u001b[0m \u001b[0ma\u001b[0m\u001b[1;33m[\u001b[0m\u001b[1;36m0\u001b[0m\u001b[1;33m]\u001b[0m\u001b[1;33m\u001b[0m\u001b[1;33m\u001b[0m\u001b[0m\n\u001b[0;32m      3\u001b[0m \u001b[1;33m\u001b[0m\u001b[0m\n\u001b[1;32m----> 4\u001b[1;33m \u001b[0mfirst_a\u001b[0m\u001b[1;33m(\u001b[0m\u001b[1;36m1\u001b[0m\u001b[1;33m)\u001b[0m\u001b[1;33m\u001b[0m\u001b[1;33m\u001b[0m\u001b[0m\n\u001b[0m",
      "\u001b[1;32m<ipython-input-36-7b0a71c27399>\u001b[0m in \u001b[0;36mfirst_a\u001b[1;34m(a)\u001b[0m\n\u001b[0;32m      1\u001b[0m \u001b[1;32mdef\u001b[0m \u001b[0mfirst_a\u001b[0m\u001b[1;33m(\u001b[0m\u001b[0ma\u001b[0m\u001b[1;33m)\u001b[0m\u001b[1;33m:\u001b[0m\u001b[1;33m\u001b[0m\u001b[1;33m\u001b[0m\u001b[0m\n\u001b[1;32m----> 2\u001b[1;33m     \u001b[1;32mreturn\u001b[0m \u001b[0ma\u001b[0m\u001b[1;33m[\u001b[0m\u001b[1;36m0\u001b[0m\u001b[1;33m]\u001b[0m\u001b[1;33m\u001b[0m\u001b[1;33m\u001b[0m\u001b[0m\n\u001b[0m\u001b[0;32m      3\u001b[0m \u001b[1;33m\u001b[0m\u001b[0m\n\u001b[0;32m      4\u001b[0m \u001b[0mfirst_a\u001b[0m\u001b[1;33m(\u001b[0m\u001b[1;36m1\u001b[0m\u001b[1;33m)\u001b[0m\u001b[1;33m\u001b[0m\u001b[1;33m\u001b[0m\u001b[0m\n",
      "\u001b[1;31mTypeError\u001b[0m: 'int' object is not subscriptable"
     ]
    }
   ],
   "source": [
    "def first_a(a):\n",
    "    return a[0]\n",
    "    \n",
    "first_a(1)"
   ]
  },
  {
   "cell_type": "markdown",
   "metadata": {},
   "source": [
    "The function ```first_a()``` returns the first value (the value at index 0) of a list. When the fuction ```first_a(1)``` is called, an integer ```1``` was supplied instead of a list. To fix this problem, supply ```first_a()``` with a list when it is called."
   ]
  },
  {
   "cell_type": "code",
   "execution_count": 37,
   "metadata": {},
   "outputs": [
    {
     "data": {
      "text/plain": [
       "1"
      ]
     },
     "execution_count": 37,
     "metadata": {},
     "output_type": "execute_result"
    }
   ],
   "source": [
    "def first_a(a):\n",
    "    return a[0]\n",
    "    \n",
    "first_a([1])"
   ]
  }
 ],
 "metadata": {
  "kernelspec": {
   "display_name": "Python 3",
   "language": "python",
   "name": "python3"
  },
  "language_info": {
   "codemirror_mode": {
    "name": "ipython",
    "version": 3
   },
   "file_extension": ".py",
   "mimetype": "text/x-python",
   "name": "python",
   "nbconvert_exporter": "python",
   "pygments_lexer": "ipython3",
   "version": "3.8.5"
  }
 },
 "nbformat": 4,
 "nbformat_minor": 2
}
