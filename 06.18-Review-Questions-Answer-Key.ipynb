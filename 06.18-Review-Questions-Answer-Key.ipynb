{
 "cells": [
  {
   "cell_type": "markdown",
   "metadata": {},
   "source": [
    "## Review Questions"
   ]
  },
  {
   "cell_type": "markdown",
   "metadata": {},
   "source": [
    "#### Line plots"
   ]
  },
  {
   "cell_type": "markdown",
   "metadata": {
    "latex": {
     "environment": "problems"
    }
   },
   "source": [
    "Q06.01 Create a plot of the function $y=\\cos(x)$ from $x = -2\\pi$ to $2\\pi$"
   ]
  },
  {
   "cell_type": "code",
   "execution_count": null,
   "metadata": {},
   "outputs": [],
   "source": []
  },
  {
   "cell_type": "markdown",
   "metadata": {
    "latex": {
     "environment": "problems"
    }
   },
   "source": [
    "Q06.02 Create a plot of the function $y=\\frac{1}{2}{e^x}$ from $x = 0$ to $5$"
   ]
  },
  {
   "cell_type": "code",
   "execution_count": null,
   "metadata": {},
   "outputs": [],
   "source": []
  },
  {
   "cell_type": "markdown",
   "metadata": {
    "latex": {
     "environment": "problems"
    }
   },
   "source": [
    "Q06.03 Create a plot of the function $y=\\sqrt{2x}$ from $x = 1$ to $10$"
   ]
  },
  {
   "cell_type": "code",
   "execution_count": null,
   "metadata": {},
   "outputs": [],
   "source": []
  },
  {
   "cell_type": "markdown",
   "metadata": {
    "latex": {
     "environment": "problems"
    }
   },
   "source": [
    "Q06.04 Create a plot of the function $y=mx+b$, where $m=-1$ and $b=-4$. Limit the plot to values of $x=-5$ to $5$."
   ]
  },
  {
   "cell_type": "code",
   "execution_count": null,
   "metadata": {},
   "outputs": [],
   "source": []
  },
  {
   "cell_type": "markdown",
   "metadata": {
    "latex": {
     "environment": "problems"
    }
   },
   "source": [
    "Q06.05 Create a plot of the function $y=ax^2+bx+c$, where $a=1/2$, $b=-1/3$ and $c=4$. Limit the plot to values of $x=-10$ to $10$."
   ]
  },
  {
   "cell_type": "code",
   "execution_count": null,
   "metadata": {},
   "outputs": [],
   "source": []
  },
  {
   "cell_type": "markdown",
   "metadata": {
    "latex": {
     "environment": "problems"
    }
   },
   "source": [
    "Q06.06 Create a plot of the function $y=x^3+3$ from $x=-3$ to $3$."
   ]
  },
  {
   "cell_type": "code",
   "execution_count": null,
   "metadata": {},
   "outputs": [],
   "source": []
  },
  {
   "cell_type": "markdown",
   "metadata": {
    "latex": {
     "environment": "problems"
    }
   },
   "source": [
    "Q06.07 Create a plot of the function $y=2x^3-9x^2+7x+6$ from $x=-3$ to $4$."
   ]
  },
  {
   "cell_type": "code",
   "execution_count": null,
   "metadata": {},
   "outputs": [],
   "source": []
  },
  {
   "cell_type": "markdown",
   "metadata": {
    "latex": {
     "environment": "problems"
    }
   },
   "source": [
    "Q06.08 Plot the data set below with a line plot. Use Matplotlib's default index system, or create a set of x values from $x=0$ to $4$.\n",
    "\n",
    "$$ y = [-1,\\ 2,\\ -3,\\ 1,\\ 0] $$\n"
   ]
  },
  {
   "cell_type": "code",
   "execution_count": null,
   "metadata": {},
   "outputs": [],
   "source": []
  },
  {
   "cell_type": "markdown",
   "metadata": {
    "latex": {
     "environment": "problems"
    }
   },
   "source": [
    "Q06.09 Plot the following three functions on the same set of axis. Use a different color line for each function.\n",
    "\n",
    "$$ x = \\cos(t) $$\n",
    "\n",
    "$$ y = \\cos(t/2) $$\n",
    "\n",
    "$$ z = \\frac{1}{2}\\cos(t) $$\n",
    "\n",
    "Set values of $t=-4\\pi$ to $4\\pi$"
   ]
  },
  {
   "cell_type": "code",
   "execution_count": null,
   "metadata": {},
   "outputs": [],
   "source": []
  },
  {
   "cell_type": "markdown",
   "metadata": {
    "latex": {
     "environment": "problems"
    }
   },
   "source": [
    "Q06.10 Plot the following three functions on the same set of axis. Specify a thick red line for the $cos$ function, a thin blue line for the $sin$ function, and a dashed green line for the $atan$ function (the arc tangent function).\n",
    "\n",
    "$$ x = cos(r/10) $$\n",
    "\n",
    "$$ y = sin(r/4) $$\n",
    "\n",
    "$$ z = atan(r) $$\n",
    "\n",
    "Set values of $r=-1/2$ to $1/2$"
   ]
  },
  {
   "cell_type": "code",
   "execution_count": null,
   "metadata": {},
   "outputs": [],
   "source": []
  },
  {
   "cell_type": "markdown",
   "metadata": {},
   "source": [
    "#### Bar Charts and Pie Charts"
   ]
  },
  {
   "cell_type": "markdown",
   "metadata": {
    "latex": {
     "environment": "problems"
    }
   },
   "source": [
    "Q06.30 According to the University of Waterloo, world energy consumption in 2006 from the five top energy resources were:\n",
    "\n",
    "$$ Natural \\ Gas = 24\\% $$\n",
    "\n",
    "$$ Hydro = 6\\% $$\n",
    "\n",
    "$$ Nuclear = 6\\% $$\n",
    "\n",
    "$$ Oil = 36\\% $$\n",
    "\n",
    "$$ Coal = 28\\% $$\n",
    "\n",
    "Build a pie chart of the distribution of world energy consumption based on the data above.\n",
    "\n",
    "Q06.31 According to the 2017 Python Developer's Survey, the computer operating system used by Python Developers breaks down as follows:\n",
    "\n",
    "$$ Windows = 49\\% $$\n",
    "\n",
    "$$ Linux = 19\\% $$\n",
    "\n",
    "$$ MacOS = 15\\% $$\n",
    "\n",
    "$$ Other = 17\\% $$\n",
    "\n",
    "Build a pie chart of the computer operating system used by Python Developers in 2017.\n",
    "\n",
    "Q06.32 According to the 2017 Python Developer's Survey, the commercial cloud providers used by Python Developers breaks down as follows:\n",
    "\n",
    "$$ Amazon \\ Web \\ Services = 67\\% $$\n",
    "\n",
    "$$ Google \\ Cloud = 29\\% $$\n",
    "\n",
    "$$ Heroku = 26\\% $$\n",
    "\n",
    "$$ Digital \\ Ocean = 23\\% $$\n",
    "\n",
    "$$ Microsoft \\ Azure = 16\\% $$\n",
    "\n",
    "$$ Other = 13\\% $$\n",
    "\n",
    "Build a pie chart of the commercial cloud providers used by Python Developers in 2017.\n",
    "\n",
    "Q06.33 Re-create the pie chart in Q06.32 that shows which commercial cloud providers are used by Python Developers. Explode out the pie pieces on the chart and add a shadow to each piece.\n",
    "\n",
    "Q06.34 Re-create the pie chart in Q06.31 that shows which operating system Python developers use. Explode out the Windows (49%) pie piece to highlight it.\n",
    "\n",
    "Q06.35 A list of grades in a college engineering course and the corresponding number of students who earned each grade is shown below:\n",
    "\n",
    "```text\n",
    "grades = ['A','B','C','D','F']\n",
    "\n",
    "number_of_students = [3, 5, 8, 1, 2]\n",
    "```\n",
    "\n",
    "Build a bar plot of the grade distribution from the college engineering class. \n",
    "\n",
    "Q06.36 The proof strength of four different grades of bolts is shown below:\n",
    "\n",
    "| Bolt Type | Proof Strength (psi) |\n",
    "| --- | --- |\n",
    "| Grade 2 | 33,000 psi |\n",
    "| Grade 5 | 74,000 psi |\n",
    "| Grade 8 | 120,000 psi |\n",
    "| Grade A325 | 85,000 psi |\n",
    "\n",
    "Build a bar chart of the proof strength of the four types of bolts. Label the bars by bolt type and include a title and y-axis label with units.\n",
    "\n",
    "Q06.37 According to the 2017 Python Developer's Survey, the IDE (Integrated Development Environment) used by _Scientific_ Python Developers breaks down as follows:\n",
    "\n",
    "$$ PyCharm \\ Professional = 12\\% $$\n",
    "\n",
    "$$ PyCharm \\ CE = 17\\% $$\n",
    "\n",
    "$$ Sublime \\ Text = 9\\% $$\n",
    "\n",
    "$$ Vim = 8\\% $$\n",
    "\n",
    "$$ IDLE = 7\\% $$\n",
    "\n",
    "$$ Atom = 7\\% $$\n",
    "\n",
    "$$ VS \\ Code = 6\\% $$\n",
    "\n",
    "$$ Notepad \\ ++ = 6\\% $$\n",
    "\n",
    "$$ Eclipse = 3\\% $$\n",
    "\n",
    "$$ Emacs = 3\\% $$\n",
    "\n",
    "Build a bar chart of the IDE's used by Python Developers in 2017.\n",
    "\n",
    "Q06.38 Create a plot of the function $y=x^3+3$ from $x=-3$ to $x=3$.\n",
    "\n",
    "Q06.39 The tensile strength of 4 steel heat treatments is shown in the table below:\n",
    "\n",
    "| Heat Treatment | Tensile Strength (MPa) |\n",
    "| --- | --- |\n",
    "| Annealed | 390 MPa |\n",
    "| Normalized | 452 MPa |\n",
    "| Oil Quench | 734 MPa\n",
    "| Oil Quench and Temper | 422 MPa |\n",
    "\n",
    "Build a bar plot of tensile strength vs. heat treatment using the steel heat treatment data above. Label the bars with the type of heat treatment and include a y-axis label with units and a title."
   ]
  },
  {
   "cell_type": "markdown",
   "metadata": {},
   "source": [
    "#### Histograms, Box Plots, and Violin Plots\n",
    "\n",
    "Q06.50 Plot the histogram of a normal distribution of ```100``` random numbers. Use NumPy's ```np.random.normal()``` function to create the array of numbers. Set a mean $\\mu$ = ```20``` and a standard deviation $\\sigma$ = ```7```.\n",
    "\n",
    "Q06.51 NumPy's ```np.random.randint()``` function creates an array of random numbers. NumPy's ```np.random.randn()``` function creates an array of normally-distributed random numbers. Use both of these functions to create a set of 200 random numbers. Plot both sets of numbers as histograms with Matplotlib's ```ax.hist()``` method. After you construct both histograms, explain how the two NumPy functions ```np.random.randint()``` and ```np.random.randn()``` compare.\n",
    "\n",
    "Q06.52 Create a box plot with three elements (three \"boxes\"). Use NumPy's ```np.random.randn()``` function to create three arrays of 50 elements. Plot each array as a separate element on the box plot.\n",
    "\n",
    "Q06.53 Create a violin plot with five elements (five \"violins\"). Use NumPy's ```np.random.randn()``` function to create five arrays of 50 elements. Plot each array as a separate element on the violin plot.\n",
    "\n",
    "Q06.54 Use Matplotlib's ```plt.subplots()``` command to create a figure with three subplots. In the first subplot, build a historgram. In the second subplot build a box plot. In the third subplot build a violin plot. Plot the same set of 100 normally-distributed random numbers (using NumPy's ```np.random.randn()``` function) in each subplot. Include a title above each subplot that shows the plot type: Histogram, Box Plot, and Violin Plot."
   ]
  },
  {
   "cell_type": "markdown",
   "metadata": {},
   "source": [
    "#### Scatter Plots\n",
    "\n",
    "Q06.60 Create a scatter plot with the following lists of x points and y points.\n",
    "\n",
    "```text\n",
    "x = [1,2,3,4,5]\n",
    "y = [8,12,4,2,6]\n",
    "```\n",
    "\n",
    "Q06.61 Create a scatter plot with the following arrays of x pints and y points generated with NumPy's ```np.random.randint()``` function.\n",
    "\n",
    "```text\n",
    "x = np.random.randint(20)\n",
    "y = np.random.randint(20)\n",
    "```\n",
    "\n",
    "Q06.62 Use the code below to create two arrays of semi-focused random points.\n",
    "\n",
    "```python\n",
    "x1 = 1.5 * np.random.randn(150) + 10\n",
    "y1 = 1.5 * np.random.randn(150) + 10\n",
    "x2 = 1.5 * np.random.randn(150) + 4\n",
    "y2 = 1.5 * np.random.randn(150) + 4\n",
    "x = np.append(x1,x2)\n",
    "y = np.append(y1,y2)\n",
    "```\n",
    "\n",
    "Plot the arrays ```x``` and ```y``` on a scatter plot. Set the color of the marker's on the scatter plot red. Set the marker opacity to ```0.5```."
   ]
  },
  {
   "cell_type": "markdown",
   "metadata": {},
   "source": [
    "#### Subplots\n",
    "\n",
    "Q06.70 Create a figure that has four subplots all in one row. In each of the subplots plot the function:\n",
    "\n",
    "$$ y = e^x $$\n",
    "\n",
    "Use the same values of x and y in each subplot. Set the values of x with NumPy's ```arange()``` function with the line ```x = np.arange(0.01, 20.0, 0.01)``` In the first subplot, use Matplotlibs's ```ax.plot()``` method. In the second subplot use Matplotlib's ```ax.semilogy()``` method. In the thrid subplot use Matplotlib's ```ax.semilogx()``` method. In the four subplot use Matplotlib's ```ax.loglog()``` method. Label each subplot with a title that shows the plot type.\n",
    "\n",
    "Q06.71 Use the data in Q06.31 to create a figure with two subplots. In the first subplot, build a bar chart of the data in Q06.31. In the second subplot, build a pie chart of he data in Q06.31."
   ]
  }
 ],
 "metadata": {
  "celltoolbar": "Edit Metadata",
  "kernelspec": {
   "display_name": "Python 3",
   "language": "python",
   "name": "python3"
  },
  "language_info": {
   "codemirror_mode": {
    "name": "ipython",
    "version": 3
   },
   "file_extension": ".py",
   "mimetype": "text/x-python",
   "name": "python",
   "nbconvert_exporter": "python",
   "pygments_lexer": "ipython3",
   "version": "3.8.5"
  }
 },
 "nbformat": 4,
 "nbformat_minor": 2
}
