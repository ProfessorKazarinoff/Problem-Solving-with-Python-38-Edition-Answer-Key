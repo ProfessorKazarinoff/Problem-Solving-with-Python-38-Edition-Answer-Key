{
 "cells": [
  {
   "cell_type": "markdown",
   "metadata": {},
   "source": [
    "## Review Questions"
   ]
  },
  {
   "cell_type": "markdown",
   "metadata": {
    "latex": {
     "environment": "problems"
    }
   },
   "source": [
    "#### Code cells and markdown cells\n",
    "\n",
    "Q02.01 Run the following code in two different Jupyter notebook cells. Run one cell as a code cell. Run the other cell as a Markdown cell. Why is the output different?\n",
    "\n",
    "```text\n",
    "# Problem Solving with Python\n",
    "```\n",
    "\n",
    "Q02.02 Run the following code in two different Jupyter notebook cells. Run one cell as a code cell. Run the other cell as a Markdown cell. Why is the output different?\n",
    "\n",
    "```text\n",
    "print('Problem Solving with Python')\n",
    "```"
   ]
  },
  {
   "cell_type": "markdown",
   "metadata": {
    "latex": {
     "environment": "problems"
    }
   },
   "source": [
    "#### Markdown cells\n",
    "\n",
    "Q02.10 Recreate the following headings in one Jupyter notebook markdown cell:\n",
    "\n",
    "```text\n",
    "# BIG heading\n",
    "\n",
    "## Big heading\n",
    "\n",
    "### SMALL heading\n",
    "\n",
    "#### small heading\n",
    "```\n",
    "\n",
    "Q02.11 Recreate the following table in one Jupyter notebook markdown cell:\n",
    "\n",
    "| Python Package | Use |\n",
    "| --- | --- |\n",
    "| Jupyter | Jupyter notebooks |\n",
    "| NumPy | arrays |\n",
    "| Matplotlib | plots |\n",
    "| PySerial | serial communication |\n",
    "\n",
    "Q02.12 Recreate the following code block in one Jupyter notebook markdown cell:\n",
    "\n",
    "```text\n",
    "import numpy as np\n",
    "import matplotlib.pyplot as plt\n",
    "%matplotlib inline\n",
    "```\n",
    "\n",
    "Q02.12 Recreate the following bullet points in one Jupyter notebook markdown cell:\n",
    "\n",
    " * markdown cell : markdown\n",
    " * code cell: Python code\n",
    " * raw NBConvert: LaTeX\n",
    "\n",
    "Q02.13 Recreate the following list in one Jupyter notebook markdown cell:\n",
    "\n",
    " 1. Open Jupyter notebook\n",
    " 2. Write code\n",
    " 3. Restart Kernel & run all\n",
    " 4. Download notebook\n",
    " \n",
    "Q02.14 Recreate two horizontal rules in a Jupyter notebook markdown cell. In between the horizontal rules write the text _In between the lines_ like below:\n",
    "\n",
    "***\n",
    "\n",
    "_In between the lines_\n",
    "\n",
    "***\n",
    "\n",
    "Q02.15 Inside a Jupyter notebook markdown cell, make the word ```Red``` the color red, make the word ```Green```, the color green, make the word ```Blue``` the color blue.\n",
    "\n",
    "Q02.16 Create a warning box on the inside of a Jupyter notebook markdown cell that says: \n",
    "\n",
    "**Warning!** Python counting starts at 0 and ends at n-1 "
   ]
  },
  {
   "cell_type": "markdown",
   "metadata": {},
   "source": [
    "#### LaTeX Math\n",
    "\n",
    "Q02.20 Write the Pythagorean Theorem in a Jupyter notebook markdown cell using LaTeX math.\n",
    "\n",
    "$$ a^2 + b^2 = c^2 $$\n",
    "\n",
    "Q02.21 Write the formula for the area of a circle in a Jupyter notebook markdown cell using LaTeX math.\n",
    "\n",
    "$$ A = \\pi r^2 $$\n",
    "\n",
    "Q02.22 Write the formula below in a Jupyter notebook Markdown cell using LaTeX math.\n",
    "\n",
    "$$ \\int_{0}^{1} \\frac{1}{y^3} dy $$\n"
   ]
  },
  {
   "cell_type": "markdown",
   "metadata": {
    "latex": {
     "environment": "problems"
    }
   },
   "source": [
    "#### Code cells\n",
    "\n",
    "Q02.31 Run the following code in a Jupyter notebook code cell:\n",
    "\n",
    "```text\n",
    "import this\n",
    "```\n",
    "\n",
    "Q02.32 Run the following code in a Jupyter notebook code cell:\n",
    "\n",
    "```text\n",
    "import sys\n",
    "print(sys.version)\n",
    "```\n",
    "\n",
    "Q02.33 Run the following code in a Jupyter notebook code cell:\n",
    "\n",
    "```text\n",
    "import matplotlib.pyplot as plt\n",
    "%matplotlib inline\n",
    "\n",
    "plt.plot([1,3,6,10])\n",
    "plt.show()\n",
    "```\n",
    "\n",
    "\n",
    "Q02.34 Run the following code in a Jupyter notebook code cell. Move the slider back and forth and observe the results.\n",
    "\n",
    "```text\n",
    "from ipywidgets import interact\n",
    "import ipywidgets as widgets\n",
    "\n",
    "def func(x):\n",
    "    return x\n",
    "    \n",
    "interact(func, x=10);\n",
    "```\n"
   ]
  },
  {
   "cell_type": "markdown",
   "metadata": {},
   "source": [
    "#### Cell Magic\n",
    "\n",
    "Q02.50 Create a file called **_hello.py_** in the same directory as your Jupyter notebook. Inside the file **_hello.py_** write the code below:\n",
    "\n",
    "```text\n",
    "# hello.py\n",
    "\n",
    "print(\"hello from the file\")\n",
    "```\n",
    "\n",
    "Use the Jupyter notebook magic command ```%load``` to load the code from **_hello.py_** into your Jupyter notebook.\n",
    "\n",
    "Q02.51 Create a file called **_hello.py_** in the same directory as your Jupyter notebook. Inside the file **_hello.py_** write the code below:\n",
    "\n",
    "```text\n",
    "# hello.py\n",
    "\n",
    "print(\"hello from the file\")\n",
    "```\n",
    "\n",
    "Use the Jupyter notebook magic command ```%run``` to run the code from **_hello.py_** into your Jupyter notebook.\n",
    "\n",
    "Q02.52 Run the code below in a Jupyter notebook code cell:\n",
    "\n",
    "```text\n",
    "import os\n",
    "\n",
    "print(os.getcwd())\n",
    "\n",
    "%pwd\n",
    "```\n",
    "\n",
    "Why is the output of these two commands similar?\n"
   ]
  },
  {
   "cell_type": "markdown",
   "metadata": {},
   "source": [
    "#### Getting Help\n",
    "\n",
    "Q02.60 Use Python's ```dir()``` function in a Jupyter notebook code cell to find all the functions available in Python's ```math``` module. Remember to ```import math``` at the start of the code cell.\n",
    "\n",
    "Q02.61 In a Jupyter notebook code cell, ```import math``` and run ```math.sqrt?```. Copy the contents of the help you receive in a Jupyter notebook markdown cell.\n",
    "\n",
    "Q02.62 In a Jupyter notebook code cell, ```import statistics``` and run ```statistics.mode?```. Copy the examples from the help you receive in a Jupyter notebook code cell. Run the code cell."
   ]
  },
  {
   "cell_type": "code",
   "execution_count": null,
   "metadata": {},
   "outputs": [],
   "source": []
  }
 ],
 "metadata": {
  "kernelspec": {
   "display_name": "Python 3",
   "language": "python",
   "name": "python3"
  },
  "language_info": {
   "codemirror_mode": {
    "name": "ipython",
    "version": 3
   },
   "file_extension": ".py",
   "mimetype": "text/x-python",
   "name": "python",
   "nbconvert_exporter": "python",
   "pygments_lexer": "ipython3",
   "version": "3.7.3"
  }
 },
 "nbformat": 4,
 "nbformat_minor": 2
}
