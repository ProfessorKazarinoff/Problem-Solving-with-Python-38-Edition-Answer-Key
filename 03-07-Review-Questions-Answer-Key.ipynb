{
 "cells": [
  {
   "cell_type": "markdown",
   "metadata": {},
   "source": [
    "## Review Questions"
   ]
  },
  {
   "cell_type": "markdown",
   "metadata": {
    "latex": {
     "environment": "problems"
    }
   },
   "source": [
    "#### Arithmetic\n",
    "\n",
    "Q03.01 $2 + \\frac{1}{2}$"
   ]
  },
  {
   "cell_type": "code",
   "execution_count": 1,
   "metadata": {},
   "outputs": [
    {
     "data": {
      "text/plain": [
       "2.5"
      ]
     },
     "execution_count": 1,
     "metadata": {},
     "output_type": "execute_result"
    }
   ],
   "source": [
    "2 + 1/2"
   ]
  },
  {
   "cell_type": "markdown",
   "metadata": {
    "latex": {
     "environment": "problems"
    }
   },
   "source": [
    "Q03.02 $4 \\times 2 + \\frac{2}{4}$"
   ]
  },
  {
   "cell_type": "code",
   "execution_count": 2,
   "metadata": {},
   "outputs": [
    {
     "data": {
      "text/plain": [
       "8.5"
      ]
     },
     "execution_count": 2,
     "metadata": {},
     "output_type": "execute_result"
    }
   ],
   "source": [
    "4*2 + 2/4"
   ]
  },
  {
   "cell_type": "markdown",
   "metadata": {
    "latex": {
     "environment": "problems"
    }
   },
   "source": [
    "Q03.03 $\\frac{5}{2} \\times 3 + 4$"
   ]
  },
  {
   "cell_type": "code",
   "execution_count": 3,
   "metadata": {},
   "outputs": [
    {
     "data": {
      "text/plain": [
       "11.5"
      ]
     },
     "execution_count": 3,
     "metadata": {},
     "output_type": "execute_result"
    }
   ],
   "source": [
    "(5/2)*3 + 4"
   ]
  },
  {
   "cell_type": "markdown",
   "metadata": {
    "latex": {
     "environment": "problems"
    }
   },
   "source": [
    "Q03.04 $4^2 + 3$"
   ]
  },
  {
   "cell_type": "code",
   "execution_count": 4,
   "metadata": {},
   "outputs": [
    {
     "data": {
      "text/plain": [
       "19"
      ]
     },
     "execution_count": 4,
     "metadata": {},
     "output_type": "execute_result"
    }
   ],
   "source": [
    "4**2 + 3"
   ]
  },
  {
   "cell_type": "markdown",
   "metadata": {
    "latex": {
     "environment": "problems"
    }
   },
   "source": [
    "Q03.05 $\\sqrt{16}$"
   ]
  },
  {
   "cell_type": "code",
   "execution_count": 5,
   "metadata": {},
   "outputs": [
    {
     "data": {
      "text/plain": [
       "4.0"
      ]
     },
     "execution_count": 5,
     "metadata": {},
     "output_type": "execute_result"
    }
   ],
   "source": [
    "16**(0.5)"
   ]
  },
  {
   "cell_type": "markdown",
   "metadata": {
    "latex": {
     "environment": "problems"
    }
   },
   "source": [
    "Q03.06 $3^{4-5}$"
   ]
  },
  {
   "cell_type": "code",
   "execution_count": 6,
   "metadata": {},
   "outputs": [
    {
     "data": {
      "text/plain": [
       "0.3333333333333333"
      ]
     },
     "execution_count": 6,
     "metadata": {},
     "output_type": "execute_result"
    }
   ],
   "source": [
    "3**(4-5)"
   ]
  },
  {
   "cell_type": "markdown",
   "metadata": {
    "latex": {
     "environment": "problems"
    }
   },
   "source": [
    "Q03.07 $\\frac{1+3+5}{2+4+6}$"
   ]
  },
  {
   "cell_type": "code",
   "execution_count": 7,
   "metadata": {},
   "outputs": [
    {
     "data": {
      "text/plain": [
       "0.75"
      ]
     },
     "execution_count": 7,
     "metadata": {},
     "output_type": "execute_result"
    }
   ],
   "source": [
    "(1+3+5)/(2+4+6)"
   ]
  },
  {
   "cell_type": "markdown",
   "metadata": {
    "latex": {
     "environment": "problems"
    }
   },
   "source": [
    "Q03.08 $1 - 2 + \\frac{9}{6} -3 + 5$"
   ]
  },
  {
   "cell_type": "code",
   "execution_count": 8,
   "metadata": {},
   "outputs": [
    {
     "data": {
      "text/plain": [
       "2.5"
      ]
     },
     "execution_count": 8,
     "metadata": {},
     "output_type": "execute_result"
    }
   ],
   "source": [
    "1 -2 + (9/6) - 3 + 5"
   ]
  },
  {
   "cell_type": "markdown",
   "metadata": {
    "latex": {
     "environment": "problems"
    }
   },
   "source": [
    "Q03.09 $(3 + 5 -2)^{2/3}$"
   ]
  },
  {
   "cell_type": "code",
   "execution_count": 9,
   "metadata": {},
   "outputs": [
    {
     "data": {
      "text/plain": [
       "3.3019272488946263"
      ]
     },
     "execution_count": 9,
     "metadata": {},
     "output_type": "execute_result"
    }
   ],
   "source": [
    "(3 + 5 - 2)**(2/3)"
   ]
  },
  {
   "cell_type": "markdown",
   "metadata": {
    "latex": {
     "environment": "problems"
    }
   },
   "source": [
    "Q03.10 $\\frac{5+3}{2 \\times 5}$"
   ]
  },
  {
   "cell_type": "code",
   "execution_count": 10,
   "metadata": {},
   "outputs": [
    {
     "data": {
      "text/plain": [
       "0.8"
      ]
     },
     "execution_count": 10,
     "metadata": {},
     "output_type": "execute_result"
    }
   ],
   "source": [
    "(5+3)/(2*5)"
   ]
  },
  {
   "cell_type": "markdown",
   "metadata": {
    "latex": {
     "environment": "problems"
    }
   },
   "source": [
    "Q03.11 $\\sqrt{6^2 + 4}$"
   ]
  },
  {
   "cell_type": "code",
   "execution_count": 11,
   "metadata": {},
   "outputs": [
    {
     "data": {
      "text/plain": [
       "6.324555320336759"
      ]
     },
     "execution_count": 11,
     "metadata": {},
     "output_type": "execute_result"
    }
   ],
   "source": [
    "(6**2 + 4)**(0.5)"
   ]
  },
  {
   "cell_type": "markdown",
   "metadata": {
    "latex": {
     "environment": "problems"
    }
   },
   "source": [
    "Q03.12 $1 + 9 \\times \\frac{8}{4^2} + 1^{3-4} \\times \\frac{1}{2.5}$"
   ]
  },
  {
   "cell_type": "code",
   "execution_count": 12,
   "metadata": {},
   "outputs": [
    {
     "data": {
      "text/plain": [
       "5.9"
      ]
     },
     "execution_count": 12,
     "metadata": {},
     "output_type": "execute_result"
    }
   ],
   "source": [
    "(1 + 9 * (8/4**2)+1**(3-4)*(1/2.5))"
   ]
  },
  {
   "cell_type": "markdown",
   "metadata": {},
   "source": [
    "#### Strings\n",
    "\n",
    "Q03.15 Define the string \"Problem\" "
   ]
  },
  {
   "cell_type": "code",
   "execution_count": 13,
   "metadata": {},
   "outputs": [],
   "source": [
    "a = \"Problem\""
   ]
  },
  {
   "cell_type": "markdown",
   "metadata": {},
   "source": [
    "Q03.16 Two strings \"Problem\" and \"Solving with Python\". Combine these strings to produce \"Problem Solving with Python\". Hint: Don't forget the space."
   ]
  },
  {
   "cell_type": "code",
   "execution_count": 14,
   "metadata": {},
   "outputs": [
    {
     "data": {
      "text/plain": [
       "'Problem Solving with Python'"
      ]
     },
     "execution_count": 14,
     "metadata": {},
     "output_type": "execute_result"
    }
   ],
   "source": [
    "a = \"Problem\"\n",
    "b = \" \"\n",
    "c = \"Solving with Python\"\n",
    "a + b + c"
   ]
  },
  {
   "cell_type": "markdown",
   "metadata": {},
   "source": [
    "Q03.17 Compare the strings \"Problem\" and \"problem\" with the comparison operator ```==```. Explain the result."
   ]
  },
  {
   "cell_type": "code",
   "execution_count": 15,
   "metadata": {},
   "outputs": [
    {
     "data": {
      "text/plain": [
       "False"
      ]
     },
     "execution_count": 15,
     "metadata": {},
     "output_type": "execute_result"
    }
   ],
   "source": [
    "\"Problem\" == \"problem\""
   ]
  },
  {
   "cell_type": "markdown",
   "metadata": {},
   "source": [
    "The string \"P\" is a different character than the string \"p\". In Python, capitalization makes a difference."
   ]
  },
  {
   "cell_type": "markdown",
   "metadata": {},
   "source": [
    "Q03.18 Compare the output of the code ```1 + 2 == 3``` and ```'1 + 2' == '3'```. Explain why the output is different."
   ]
  },
  {
   "cell_type": "code",
   "execution_count": 16,
   "metadata": {},
   "outputs": [
    {
     "name": "stdout",
     "output_type": "stream",
     "text": [
      "True\n",
      "False\n"
     ]
    }
   ],
   "source": [
    "print(1 + 2 == 3)\n",
    "print('1 + 2' =='3')"
   ]
  },
  {
   "cell_type": "markdown",
   "metadata": {},
   "source": [
    "The first line of code combines the integers 1 and 2 and compares the sum of these two integers to the integer 3. The result is True, because the integer 3 is equivalent to the integer 3. The second line of code compares the string '1 + 2' and '3' Since both '1 + 2' and '3' are defined as strings, the result is False because the string '1 + 2' is not equivalent to the string '3'"
   ]
  },
  {
   "cell_type": "markdown",
   "metadata": {
    "latex": {
     "environment": "problems"
    }
   },
   "source": [
    "#### Trigonometry\n",
    "\n",
    "Q03.30 Find the sine of $0$, $\\pi/4$, $\\pi/2$, $3\\pi/4$, and $\\pi$."
   ]
  },
  {
   "cell_type": "code",
   "execution_count": 17,
   "metadata": {},
   "outputs": [
    {
     "name": "stdout",
     "output_type": "stream",
     "text": [
      "0.0\n",
      "0.7071067811865476\n",
      "1.0\n",
      "0.7071067811865476\n",
      "1.2246467991473532e-16\n"
     ]
    }
   ],
   "source": [
    "from math import sin, pi\n",
    "print(sin(0))\n",
    "print(sin(pi/4))\n",
    "print(sin(pi/2))\n",
    "print(sin(3*pi/4))\n",
    "print(sin(pi))"
   ]
  },
  {
   "cell_type": "markdown",
   "metadata": {
    "latex": {
     "environment": "problems"
    }
   },
   "source": [
    "Q03.31 Find the cosine of 0 degrees, 30 degrees, 60 degrees, and 90 degrees."
   ]
  },
  {
   "cell_type": "code",
   "execution_count": 18,
   "metadata": {},
   "outputs": [
    {
     "name": "stdout",
     "output_type": "stream",
     "text": [
      "1.0\n",
      "0.8660254037844387\n",
      "0.5000000000000001\n",
      "6.123233995736766e-17\n"
     ]
    }
   ],
   "source": [
    "from math import cos, pi, radians\n",
    "print(cos(0))\n",
    "print(cos(radians(30)))\n",
    "print(cos(radians(60)))\n",
    "print(cos(radians(90)))"
   ]
  },
  {
   "cell_type": "markdown",
   "metadata": {
    "latex": {
     "environment": "problems"
    }
   },
   "source": [
    "Q03.32 Find the tangent of 3/4, 5/12, and -8/6."
   ]
  },
  {
   "cell_type": "code",
   "execution_count": 19,
   "metadata": {},
   "outputs": [
    {
     "name": "stdout",
     "output_type": "stream",
     "text": [
      "0.9315964599440725\n",
      "0.44258038400206656\n",
      "-4.131728990893145\n"
     ]
    }
   ],
   "source": [
    "from math import tan\n",
    "print(tan(3/4))\n",
    "print(tan(5/12))\n",
    "print(tan(-8/6))"
   ]
  },
  {
   "cell_type": "markdown",
   "metadata": {
    "latex": {
     "environment": "problems"
    }
   },
   "source": [
    "Q03.33 Find the sin of 0.1 radians. Then find the arcsine of the result and see if it equals 0.1 radians."
   ]
  },
  {
   "cell_type": "code",
   "execution_count": 20,
   "metadata": {},
   "outputs": [
    {
     "data": {
      "text/plain": [
       "True"
      ]
     },
     "execution_count": 20,
     "metadata": {},
     "output_type": "execute_result"
    }
   ],
   "source": [
    "from math import sin, asin\n",
    "a = sin(0.1)\n",
    "b = asin(a)\n",
    "b == 0.1"
   ]
  },
  {
   "cell_type": "markdown",
   "metadata": {
    "latex": {
     "environment": "problems"
    }
   },
   "source": [
    "Q03.34 The U.S. Forest Service can use trigonometry to find the height of trees. The height of a tree, $h$ is equal to the distance $d$ between an observer and the base of the tree multiplied by the tangent of the angle $\\theta$ between looking straight along the ground and looking up at the top of the tree according to the formula:\n",
    "\n",
    "$$ h = d\\tan(\\theta) $$\n",
    "\n",
    "If a Forest Service ranger is 20 feet away from the base of a douglas fir tree and looks up at a 63 degree angle relative to straight ahead to see the top of the tree, what is the height of the douglas fir tree?"
   ]
  },
  {
   "cell_type": "code",
   "execution_count": 21,
   "metadata": {},
   "outputs": [
    {
     "name": "stdout",
     "output_type": "stream",
     "text": [
      "39.25221011010301\n"
     ]
    }
   ],
   "source": [
    "from math import tan, radians\n",
    "d = 20\n",
    "theta_deg = 63\n",
    "h = d*tan(radians(theta_deg))\n",
    "print(h)"
   ]
  },
  {
   "cell_type": "markdown",
   "metadata": {
    "latex": {
     "environment": "problems"
    }
   },
   "source": [
    "Q03.35 The tangent of an angle is equal to the sine of the angle divided by the cosine of the angle. Make two calculations, one for the tangent of -29 degrees and another calculation for the sine of -29 degrees divided by the cosine of -29 degrees. Do you observe the same output?"
   ]
  },
  {
   "cell_type": "code",
   "execution_count": 22,
   "metadata": {},
   "outputs": [
    {
     "data": {
      "text/plain": [
       "True"
      ]
     },
     "execution_count": 22,
     "metadata": {},
     "output_type": "execute_result"
    }
   ],
   "source": [
    "from math import sin, cos, tan, radians\n",
    "a = tan(radians(-29))\n",
    "b = sin(radians(-29))/cos(radians(-29))\n",
    "a == b"
   ]
  },
  {
   "cell_type": "markdown",
   "metadata": {
    "latex": {
     "environment": "problems"
    }
   },
   "source": [
    "Q03.36 A simple model of water level based on tides (assuming high tide is at midnight) is:\n",
    "\n",
    "$$ h = (4.8)\\sin(\\pi/6)(t+3)+5.1 $$\n",
    "\n",
    "Where $h$ is the water height and $t$ is the number of hours since midnight. Using this model, calculate the water level $h$  at 6am ($t=6$ hours since midnight)."
   ]
  },
  {
   "cell_type": "code",
   "execution_count": 23,
   "metadata": {},
   "outputs": [
    {
     "name": "stdout",
     "output_type": "stream",
     "text": [
      "26.699999999999996\n"
     ]
    }
   ],
   "source": [
    "t = 6\n",
    "h = (4.8)*sin(pi/6)*(t+3) + 5.1\n",
    "print(h)"
   ]
  },
  {
   "cell_type": "markdown",
   "metadata": {
    "latex": {
     "environment": "problems"
    }
   },
   "source": [
    "Q03.37 The x-component of a force $F_x$ is equal to the magnitude of the force $|\\vec{F}|$ multiplied by the cosine of the angle $\\theta$ of the force relative to the positive x-axis. \n",
    "\n",
    "$$ F_x = |\\vec{F}|\\cos(\\theta) $$ \n",
    "\n",
    "If the magnitude of a force $|\\vec{F}| = 12.4$ and the force acts at $\\theta=110$ degrees relative to the positive x-axis, what is the x-component of the force $F_x$?"
   ]
  },
  {
   "cell_type": "code",
   "execution_count": 24,
   "metadata": {},
   "outputs": [
    {
     "name": "stdout",
     "output_type": "stream",
     "text": [
      "-4.241049777238292\n"
     ]
    }
   ],
   "source": [
    "from math import cos, radians\n",
    "F = 12.4\n",
    "theta_deg = 110\n",
    "Fx = F*cos(radians(110))\n",
    "print(Fx)"
   ]
  },
  {
   "cell_type": "markdown",
   "metadata": {
    "latex": {
     "environment": "problems"
    }
   },
   "source": [
    "Q03.38 The distance $d$ a free-thrown projectile travels is dependent on the projectile's initial velocity $v_0$, the acceleration due to gravity $g=9.81 m/s^2$ and the angle $\\theta$ at which the project is launched according to:\n",
    "\n",
    "$$ d = \\frac{{v_0}^2}{g} \\sin(2\\theta) $$\n",
    "\n",
    "If a projectile is launched at a 12 degree angle with an initial velocity of 150 m/s, how far will the projectile travel?"
   ]
  },
  {
   "cell_type": "code",
   "execution_count": 25,
   "metadata": {},
   "outputs": [
    {
     "name": "stdout",
     "output_type": "stream",
     "text": [
      "932.8822088894499\n"
     ]
    }
   ],
   "source": [
    "from math import sin, radians\n",
    "theta_deg = 12\n",
    "v0 = 150\n",
    "g = 9.81\n",
    "d = (v0**2/g)*sin(2*radians(theta_deg))\n",
    "print(d)"
   ]
  },
  {
   "cell_type": "markdown",
   "metadata": {
    "latex": {
     "environment": "problems"
    }
   },
   "source": [
    "#### Logarithms and Exponents\n",
    "\n",
    "Q03.41 Show that the natural log of Euler's number, $\\ln(e)$, is equal to one."
   ]
  },
  {
   "cell_type": "code",
   "execution_count": 26,
   "metadata": {},
   "outputs": [
    {
     "data": {
      "text/plain": [
       "1.0"
      ]
     },
     "execution_count": 26,
     "metadata": {},
     "output_type": "execute_result"
    }
   ],
   "source": [
    "from math import e, log\n",
    "log(e)"
   ]
  },
  {
   "cell_type": "markdown",
   "metadata": {
    "latex": {
     "environment": "problems"
    }
   },
   "source": [
    "Q03.42 Logarithms turn multiplication into addition. Complete both of the calculations below to see if the expressions are equal to each other:\n",
    "\n",
    "$$ \\log(87.1 \\times 210 \\times 10^{3}) $$\n",
    "\n",
    "$$ \\log(87.1) + \\log(210) + \\log(10^{3}) $$"
   ]
  },
  {
   "cell_type": "code",
   "execution_count": 27,
   "metadata": {},
   "outputs": [
    {
     "data": {
      "text/plain": [
       "True"
      ]
     },
     "execution_count": 27,
     "metadata": {},
     "output_type": "execute_result"
    }
   ],
   "source": [
    "from math import log10\n",
    "a = log10(87.1*210*10**3)\n",
    "b = log10(87.1)+log10(210)+log10(10**3)\n",
    "a == b"
   ]
  },
  {
   "cell_type": "markdown",
   "metadata": {
    "latex": {
     "environment": "problems"
    }
   },
   "source": [
    "Q03.43 Logarithms turn exponents into multiplication and multiplication into addition. Complete both of the calculations below to see if the expressions are equal. Remember, Python has a couple of log functions including ```log()``` and ```log10()```.\n",
    "\n",
    "$$ \\log(6.02 \\times 10^{23}) $$\n",
    "\n",
    "$$ 23+\\log(6.02) $$"
   ]
  },
  {
   "cell_type": "code",
   "execution_count": 28,
   "metadata": {},
   "outputs": [
    {
     "data": {
      "text/plain": [
       "True"
      ]
     },
     "execution_count": 28,
     "metadata": {},
     "output_type": "execute_result"
    }
   ],
   "source": [
    "from math import log10\n",
    "a = log10(6.02*10**(23))\n",
    "b = 23 + log10(6.02)\n",
    "a == b"
   ]
  },
  {
   "cell_type": "markdown",
   "metadata": {
    "latex": {
     "environment": "problems"
    }
   },
   "source": [
    "Q03.44 Python's math module has the natural log ($\\ln$) function ```math.log()``` and the log (base 10) function ```math.log10()```. If you want to find the log with an arbitrary base, $b$, of a number $n$, you can use a ratio of natural logarithms (log base $e$) according to:\n",
    "\n",
    "$$ \\log_b(n) = \\frac{\\ln(n)}{\\ln(b)} $$\n",
    "\n",
    "Calculate the base 4 logarithm of $3.9 \\times 10^{-9}$\n",
    "\n",
    "$$ log_{4}(3.9 \\times 10^{-9}) $$"
   ]
  },
  {
   "cell_type": "code",
   "execution_count": 29,
   "metadata": {},
   "outputs": [
    {
     "data": {
      "text/plain": [
       "-13.98567671771502"
      ]
     },
     "execution_count": 29,
     "metadata": {},
     "output_type": "execute_result"
    }
   ],
   "source": [
    "log(3.8*10**-9)/log(4)"
   ]
  },
  {
   "cell_type": "markdown",
   "metadata": {
    "latex": {
     "environment": "problems"
    }
   },
   "source": [
    "Q03.45 The magnitude of a vector $|\\vec{v}|$ is equal to the square root of the sum of the squares of the vector's components $v_x$, $v_y$, and $v_z$ according to:\n",
    "\n",
    "$$ |\\vec{v}| = \\sqrt{{v_x}^2 + {v_y}^2 + {v_z}^2} $$\n",
    "\n",
    "What is the magnitude of a vector $\\vec{v}$ that has components $v_x = 76.3$, $v_y = 70.9$, $v_z = 93.6$ ? "
   ]
  },
  {
   "cell_type": "code",
   "execution_count": 30,
   "metadata": {},
   "outputs": [
    {
     "data": {
      "text/plain": [
       "140.03378163857462"
      ]
     },
     "execution_count": 30,
     "metadata": {},
     "output_type": "execute_result"
    }
   ],
   "source": [
    "from math import sqrt\n",
    "vx = 76.3\n",
    "vy = 70.9\n",
    "vz = 93.6\n",
    "\n",
    "sqrt(vx**2+vy**2+vz**2)"
   ]
  },
  {
   "cell_type": "markdown",
   "metadata": {
    "latex": {
     "environment": "problems"
    }
   },
   "source": [
    "Q03.46 Moore's Law, a relationship that states the number of transistors that fit on a microchip doubles every two years can be modeled as:\n",
    "\n",
    "$$ P_n = P_0 \\times 2^n $$ \n",
    "\n",
    "Where $P_0$ is the original number of transistors on a microchip and $P_n$ is the number of transistors on a microchip after $n$ number of years since the original microchip.  If the original microchip has 1000 transistors, how many transistors are projected to be on a microchip 40 years later according to Moore's Law?"
   ]
  },
  {
   "cell_type": "code",
   "execution_count": 31,
   "metadata": {},
   "outputs": [
    {
     "data": {
      "text/plain": [
       "1099511627776000"
      ]
     },
     "execution_count": 31,
     "metadata": {},
     "output_type": "execute_result"
    }
   ],
   "source": [
    "P0 = 1000\n",
    "n = 40\n",
    "Pn = P0*2**n\n",
    "Pn"
   ]
  },
  {
   "cell_type": "markdown",
   "metadata": {
    "latex": {
     "environment": "problems"
    }
   },
   "source": [
    "#### Variables in Calculations\n",
    "\n",
    "Q03.71 $a = 2$, $b = 3$, calculate $\\frac{4}{5}(a^2 - b^3)$"
   ]
  },
  {
   "cell_type": "code",
   "execution_count": 32,
   "metadata": {},
   "outputs": [
    {
     "data": {
      "text/plain": [
       "-18.400000000000002"
      ]
     },
     "execution_count": 32,
     "metadata": {},
     "output_type": "execute_result"
    }
   ],
   "source": [
    "a = 2\n",
    "b = 3\n",
    "4/5*(a**2 - b**3)"
   ]
  },
  {
   "cell_type": "markdown",
   "metadata": {
    "latex": {
     "environment": "problems"
    }
   },
   "source": [
    "Q03.72 The area of a circle, $a$, is dependent on the circle's radius, $r$, according to:\n",
    "\n",
    "$$ a=\\pi r^2 $$\n",
    "\n",
    "What is the area of a circle with radius $r=4$?"
   ]
  },
  {
   "cell_type": "code",
   "execution_count": 33,
   "metadata": {},
   "outputs": [
    {
     "name": "stdout",
     "output_type": "stream",
     "text": [
      "50.26548245743669\n"
     ]
    }
   ],
   "source": [
    "from math import pi\n",
    "r = 4\n",
    "a = pi*r**2\n",
    "print(a)"
   ]
  },
  {
   "cell_type": "markdown",
   "metadata": {
    "latex": {
     "environment": "problems"
    }
   },
   "source": [
    "Q03.73 The area of a circle, $a$, is dependent on the circle's diameter, $d$, according to: \n",
    "\n",
    "$$ a=\\pi (\\frac{d}{2})^2 $$\n",
    "\n",
    "What is the area of a circle with diameter $d=6$?"
   ]
  },
  {
   "cell_type": "code",
   "execution_count": 34,
   "metadata": {},
   "outputs": [
    {
     "name": "stdout",
     "output_type": "stream",
     "text": [
      "28.274333882308138\n"
     ]
    }
   ],
   "source": [
    "from math import pi\n",
    "d = 6\n",
    "a = pi*(d/2)**2\n",
    "print(a)"
   ]
  },
  {
   "cell_type": "markdown",
   "metadata": {
    "latex": {
     "environment": "problems"
    }
   },
   "source": [
    "Q03.74 The volume of a sphere, $v$, is dependent on the sphere's radius, $r$, according to:\n",
    "\n",
    "$$ v=(\\frac{4}{3})\\pi r^3 $$\n",
    "\n",
    "What is the volume of a sphere with radius $r=1.5$?"
   ]
  },
  {
   "cell_type": "code",
   "execution_count": 35,
   "metadata": {},
   "outputs": [],
   "source": [
    "from math import pi\n",
    "r = 1.5\n",
    "v = (4/3)*pi*r**3"
   ]
  },
  {
   "cell_type": "markdown",
   "metadata": {
    "latex": {
     "environment": "problems"
    }
   },
   "source": [
    "Q03.75 The volume of a cylinder, $v$, is dependent on the cylinder's radius, $r$, and height, $h$, according to:\n",
    "\n",
    "$$ v=\\pi r^2 h $$\n",
    "\n",
    "What is the volume of a cylinder with radius $r=5$ and height $h=10$ ?"
   ]
  },
  {
   "cell_type": "code",
   "execution_count": 36,
   "metadata": {},
   "outputs": [
    {
     "name": "stdout",
     "output_type": "stream",
     "text": [
      "785.3981633974483\n"
     ]
    }
   ],
   "source": [
    "from math import pi\n",
    "r = 5\n",
    "h = 10\n",
    "v = pi*r**2*h\n",
    "print(v)"
   ]
  },
  {
   "cell_type": "markdown",
   "metadata": {
    "latex": {
     "environment": "problems"
    }
   },
   "source": [
    "Q03.76 The surface area of a sphere, $a_s$ is related to the sphere's radius, $r$, according to:\n",
    "\n",
    "$$ a_s=4\\pi r^2 $$\n",
    "\n",
    "What is the surface area $a_s$ of a sphere with radius $r=2.5$?"
   ]
  },
  {
   "cell_type": "code",
   "execution_count": 37,
   "metadata": {},
   "outputs": [
    {
     "name": "stdout",
     "output_type": "stream",
     "text": [
      "78.53981633974483\n"
     ]
    }
   ],
   "source": [
    "from math import pi\n",
    "r = 2.5\n",
    "a_s = 4*pi*r**2\n",
    "print(a_s)"
   ]
  },
  {
   "cell_type": "markdown",
   "metadata": {
    "latex": {
     "environment": "problems"
    }
   },
   "source": [
    "Q03.77 The general equation for the distance, $d$, that a free falling body travels (neglecting air resistance) is:\n",
    "\n",
    "$$ d = \\frac{1}{2}gt^2 $$\n",
    "\n",
    "$g$ is the acceleration due to gravity and $t$ is the fall time. Assume the acceleration due to gravity $g = 9.81$. How far (what distance) will a ball fall in time $t = 12$?  "
   ]
  },
  {
   "cell_type": "code",
   "execution_count": 38,
   "metadata": {},
   "outputs": [
    {
     "name": "stdout",
     "output_type": "stream",
     "text": [
      "706.32\n"
     ]
    }
   ],
   "source": [
    "g = 9.81\n",
    "t = 12\n",
    "d = (1/2)*g*t**2\n",
    "print(d)"
   ]
  },
  {
   "cell_type": "markdown",
   "metadata": {
    "latex": {
     "environment": "problems"
    }
   },
   "source": [
    "Q03.78 The general equation for the fall time, $t$, that a free falling body takes (neglecting air resistance) to cover a distance, $d$ is:\n",
    "\n",
    "$$t = \\sqrt{\\frac{d}{0.5g}}$$\n",
    "\n",
    "$g$ is the acceleration due to gravity. Assume the acceleration due to gravity $g = 9.81$. How long (what time) will it take a base jumper to fall distance $d = 2000$?"
   ]
  },
  {
   "cell_type": "code",
   "execution_count": 39,
   "metadata": {},
   "outputs": [
    {
     "name": "stdout",
     "output_type": "stream",
     "text": [
      "20.192751093846088\n"
     ]
    }
   ],
   "source": [
    "from math import sqrt\n",
    "g = 9.81\n",
    "d = 2000\n",
    "t = sqrt(d/(0.5*g))\n",
    "print(t)"
   ]
  },
  {
   "cell_type": "markdown",
   "metadata": {
    "latex": {
     "environment": "problems"
    }
   },
   "source": [
    "Q03.79 The value of an investment $v$ compounded annually at an interest rate of $r\\%$ after $n$ years is dependent on the original investment $P$ according to:\n",
    "\n",
    "$$ v = P(1 + r/100)^n $$\n",
    "\n",
    "If $P=1000$ dollars at a rate of $r=7\\%$, what will the value $v$ be after $n=20$ years? "
   ]
  },
  {
   "cell_type": "code",
   "execution_count": 40,
   "metadata": {},
   "outputs": [
    {
     "name": "stdout",
     "output_type": "stream",
     "text": [
      "3869.6844624861833\n"
     ]
    }
   ],
   "source": [
    "P = 1000\n",
    "r = 7\n",
    "n = 20\n",
    "v = P*(1 + r/100)**n\n",
    "print(v)"
   ]
  },
  {
   "cell_type": "markdown",
   "metadata": {
    "latex": {
     "environment": "problems"
    }
   },
   "source": [
    "Q03.80 The original principal $P$ needed to produce a total savings of value $v$ at a rate of $r\\%$ over $n$ years is calculated by:\n",
    "\n",
    "$$ P = \\frac{v}{(1+r/100)^n} $$\n",
    "\n",
    "What is the principal $P$ needed to save one million dollars at a rate $r=10\\%$ over $n=40$ years?"
   ]
  },
  {
   "cell_type": "code",
   "execution_count": 41,
   "metadata": {},
   "outputs": [
    {
     "name": "stdout",
     "output_type": "stream",
     "text": [
      "85.5004001702392\n"
     ]
    }
   ],
   "source": [
    "r = 10\n",
    "n = 40\n",
    "P = v/(1+r/100)**n\n",
    "print(P)"
   ]
  },
  {
   "cell_type": "markdown",
   "metadata": {
    "latex": {
     "environment": "problems"
    }
   },
   "source": [
    "Q03.81 Electrical power $P$ is related to current $I$ and resistance $R$ according to:\n",
    "\n",
    "$$ P = I^2R$$\n",
    "\n",
    "An electrical load with a resistance $R = 10,000$ running at a current $I=0.200$ draws how much power $P$ ?"
   ]
  },
  {
   "cell_type": "code",
   "execution_count": 42,
   "metadata": {},
   "outputs": [
    {
     "name": "stdout",
     "output_type": "stream",
     "text": [
      "400.00000000000006\n"
     ]
    }
   ],
   "source": [
    "R = 10000\n",
    "I = 0.200\n",
    "P = I**2*R\n",
    "print(P)"
   ]
  },
  {
   "cell_type": "markdown",
   "metadata": {},
   "source": [
    "#### Errors, Explanations, and Solutions\n",
    "\n",
    "For each of the problems below, run the line of code. Then explain the error in your own words. Give an explanation more specific than ```invalid syntax```. Then suggest and run a line of code that fixes the error.\n",
    "\n",
    "Q03.91 \n",
    "\n",
    "```python\n",
    ">>> 9 x 10\n",
    "```\n",
    "\n",
    "Q03.92\n",
    "\n",
    "```python\n",
    ">>> 1 1/2 + 2 2/3\n",
    "```\n",
    "\n",
    "Q03.93\n",
    "\n",
    "```python\n",
    ">>> 3cos(35)\n",
    "```\n",
    "\n",
    "Q03.94\n",
    "\n",
    "```python\n",
    ">>> 8.31 x 10^9\n",
    "```\n",
    "\n",
    "Q03.95\n",
    "\n",
    "```python\n",
    ">>> (2+3)**(2-3e(4)\n",
    "```\n",
    "\n",
    "Q03.96\n",
    "\n",
    "```python\n",
    ">>> 7% + 8% + 9%\n",
    "```\n",
    "\n",
    "Q03.97\n",
    "\n",
    "```python\n",
    ">>> (-)54.2 + 9.2\n",
    "```\n",
    "\n",
    "Q03.98\n",
    "\n",
    "```python\n",
    ">>> '5' / '4'\n",
    "```\n",
    "\n",
    "Q03.99\n",
    "\n",
    "```python\n",
    ">>> ln(e) - log(10)\n",
    "```"
   ]
  }
 ],
 "metadata": {
  "celltoolbar": "Edit Metadata",
  "kernelspec": {
   "display_name": "Python 3",
   "language": "python",
   "name": "python3"
  },
  "language_info": {
   "codemirror_mode": {
    "name": "ipython",
    "version": 3
   },
   "file_extension": ".py",
   "mimetype": "text/x-python",
   "name": "python",
   "nbconvert_exporter": "python",
   "pygments_lexer": "ipython3",
   "version": "3.8.3"
  }
 },
 "nbformat": 4,
 "nbformat_minor": 2
}
