{
 "cells": [
  {
   "cell_type": "markdown",
   "metadata": {},
   "source": [
    "## Review Questions"
   ]
  },
  {
   "cell_type": "markdown",
   "metadata": {},
   "source": [
    "#### Array Creation"
   ]
  },
  {
   "cell_type": "markdown",
   "metadata": {
    "latex": {
     "environment": "problems"
    }
   },
   "source": [
    "Q05.01 Create an array of the numbers ```1```, ```5```, ```19```, ```30```"
   ]
  },
  {
   "cell_type": "code",
   "execution_count": 1,
   "metadata": {},
   "outputs": [
    {
     "name": "stdout",
     "output_type": "stream",
     "text": [
      "[ 1  5 19 30]\n"
     ]
    }
   ],
   "source": [
    "import numpy as np\n",
    "\n",
    "a = np.array([1,5,19,30])\n",
    "print(a)"
   ]
  },
  {
   "cell_type": "markdown",
   "metadata": {
    "latex": {
     "environment": "problems"
    }
   },
   "source": [
    "Q05.02 Create an array of the numbers ```-3```, ```15```, ```0.001```, ```6.02e23```"
   ]
  },
  {
   "cell_type": "code",
   "execution_count": 2,
   "metadata": {},
   "outputs": [
    {
     "name": "stdout",
     "output_type": "stream",
     "text": [
      "[-3.00e+00  1.50e+01  1.00e-03  6.02e+23]\n"
     ]
    }
   ],
   "source": [
    "b = np.array([-3,15,0.001,6.02e23])\n",
    "print(b)"
   ]
  },
  {
   "cell_type": "markdown",
   "metadata": {
    "latex": {
     "environment": "problems"
    }
   },
   "source": [
    "Q05.03 Create an array of integers between -10 and 10"
   ]
  },
  {
   "cell_type": "code",
   "execution_count": 3,
   "metadata": {},
   "outputs": [
    {
     "name": "stdout",
     "output_type": "stream",
     "text": [
      "[-10  -9  -8  -7  -6  -5  -4  -3  -2  -1   0   1   2   3   4   5   6   7\n",
      "   8   9  10]\n"
     ]
    }
   ],
   "source": [
    "c = np.arange(-10,11)\n",
    "print(c)"
   ]
  },
  {
   "cell_type": "markdown",
   "metadata": {
    "latex": {
     "environment": "problems"
    }
   },
   "source": [
    "Q05.04 Create an array of 10 equally spaced angles between 0 and 2$\\pi$"
   ]
  },
  {
   "cell_type": "code",
   "execution_count": 4,
   "metadata": {},
   "outputs": [
    {
     "name": "stdout",
     "output_type": "stream",
     "text": [
      "[0.         0.6981317  1.3962634  2.0943951  2.7925268  3.4906585\n",
      " 4.1887902  4.88692191 5.58505361 6.28318531]\n"
     ]
    }
   ],
   "source": [
    "d = np.linspace(0,2*np.pi,10)\n",
    "print(d)"
   ]
  },
  {
   "cell_type": "markdown",
   "metadata": {
    "latex": {
     "environment": "problems"
    }
   },
   "source": [
    "Q05.05 Create an array of logarithmically spaced numbers between 1 and 1 million. Hint: remember to pass exponents to the ```np.logspace()``` function."
   ]
  },
  {
   "cell_type": "code",
   "execution_count": 5,
   "metadata": {},
   "outputs": [
    {
     "name": "stdout",
     "output_type": "stream",
     "text": [
      "[1.e+01 1.e+02 1.e+03 1.e+04 1.e+05 1.e+06]\n"
     ]
    }
   ],
   "source": [
    "f = np.logspace(1,6,6)\n",
    "print(f)"
   ]
  },
  {
   "cell_type": "markdown",
   "metadata": {
    "latex": {
     "environment": "problems"
    }
   },
   "source": [
    "Q05.06 Create an array of 20 random integers between 1 and 10"
   ]
  },
  {
   "cell_type": "code",
   "execution_count": 6,
   "metadata": {},
   "outputs": [
    {
     "name": "stdout",
     "output_type": "stream",
     "text": [
      "[ 7  7  3  7  2  8  1  9 10  4  2  4  9  2  9  7  6  4  4  1]\n"
     ]
    }
   ],
   "source": [
    "g = np.random.randint(1,11,20)\n",
    "print(g)"
   ]
  },
  {
   "cell_type": "markdown",
   "metadata": {
    "latex": {
     "environment": "problems"
    }
   },
   "source": [
    "Q05.07 Create an array of 30 random numbers with a normal distribution"
   ]
  },
  {
   "cell_type": "code",
   "execution_count": 7,
   "metadata": {},
   "outputs": [
    {
     "name": "stdout",
     "output_type": "stream",
     "text": [
      "[-1.1363547  -0.89235868  0.82831741 -0.18308728  1.01428786 -0.9679404\n",
      " -2.41588734 -0.06209297  0.32505607 -2.17051132 -0.56989     1.07829013\n",
      "  0.998437    0.3255444   0.04981193  1.37953863 -0.18950461  0.09482425\n",
      "  0.02835773  0.28255577 -1.0754257  -1.04860385  1.25914887 -0.45251674\n",
      " -0.29253135 -1.26446054  1.30967326  1.42511327 -0.11890615 -0.08312011]\n"
     ]
    }
   ],
   "source": [
    "h = np.random.randn(30)\n",
    "print(h)"
   ]
  },
  {
   "cell_type": "markdown",
   "metadata": {
    "latex": {
     "environment": "problems"
    }
   },
   "source": [
    "Q05.08 Create an array of 30 random numbers with a normal distribution that has a mean $\\mu$ of 78.5 and a standard deviation $\\sigma$ of 5.2"
   ]
  },
  {
   "cell_type": "code",
   "execution_count": 8,
   "metadata": {},
   "outputs": [
    {
     "name": "stdout",
     "output_type": "stream",
     "text": [
      "[73.58115971 82.97149291 66.35002624 82.00141119 89.69587592 81.07237047\n",
      " 84.85716537 70.57311004 81.30944753 70.29504082 74.27689179 77.72736915\n",
      " 71.70014036 78.76623259 78.09722621 75.75533513 81.56206371 78.49650166\n",
      " 80.4466932  91.15508244 74.10206327 93.80684598 79.77140995 77.12964918\n",
      " 80.5682737  72.07080882 73.22240565 75.33852799 83.01877744 81.30292844]\n"
     ]
    }
   ],
   "source": [
    "mu = 78.5\n",
    "sigma = 5.2\n",
    "\n",
    "k = sigma * np.random.randn(30) + mu\n",
    "\n",
    "print(k)"
   ]
  },
  {
   "cell_type": "markdown",
   "metadata": {
    "latex": {
     "environment": "problems"
    }
   },
   "source": [
    "Q05.09 Create an array of 18 random floating-point numbers between 0 and 1"
   ]
  },
  {
   "cell_type": "code",
   "execution_count": 9,
   "metadata": {},
   "outputs": [
    {
     "name": "stdout",
     "output_type": "stream",
     "text": [
      "[0.65125216 0.95608941 0.7246307  0.15660673 0.94698073 0.15778789\n",
      " 0.54047253 0.29515821 0.66237045 0.61038193 0.38795421 0.59022246\n",
      " 0.16654063 0.01651174 0.24146675 0.73181695 0.97041838 0.50892666]\n"
     ]
    }
   ],
   "source": [
    "l = np.random.rand(18)\n",
    "print(l)"
   ]
  },
  {
   "cell_type": "markdown",
   "metadata": {
    "latex": {
     "environment": "problems"
    }
   },
   "source": [
    "Q05.10 Create an array of 18 random floating-point numbers between -1 and 0"
   ]
  },
  {
   "cell_type": "code",
   "execution_count": 10,
   "metadata": {},
   "outputs": [
    {
     "name": "stdout",
     "output_type": "stream",
     "text": [
      "[-0.16331814 -0.67646319 -0.84350205 -0.01673595 -0.025672   -0.4969675\n",
      " -0.53962762 -0.17868182 -0.53935046 -0.28623898 -0.28306699 -0.81882191\n",
      " -0.70721524 -0.04889104 -0.65969978 -0.01671194 -0.61946659 -0.32932804]\n"
     ]
    }
   ],
   "source": [
    "n = -1*np.random.rand(18)\n",
    "print(n)"
   ]
  },
  {
   "cell_type": "markdown",
   "metadata": {
    "latex": {
     "environment": "problems"
    }
   },
   "source": [
    "Q05.11 Create an array of 18 random floating-point numbers between 0 and 10"
   ]
  },
  {
   "cell_type": "code",
   "execution_count": 11,
   "metadata": {},
   "outputs": [
    {
     "name": "stdout",
     "output_type": "stream",
     "text": [
      "[2.75188531 0.31134696 7.33109147 1.89112273 0.14667789 2.55353769\n",
      " 9.10386566 9.05156939 3.27194715 1.64625077 5.08956832 7.65051832\n",
      " 3.11687402 5.37902495 8.88874926 4.06276783 5.6742423  0.55083148]\n"
     ]
    }
   ],
   "source": [
    "m = 10*np.random.rand(18)\n",
    "print(m)"
   ]
  },
  {
   "cell_type": "markdown",
   "metadata": {
    "latex": {
     "environment": "problems"
    }
   },
   "source": [
    "Q05.12 Create a variable $x$ that is an NumPy array which contains values 0, 0.1, 0.2, ..., 4.9, 5.0.  Hard coding the values one will be time-consuming, use a NumPy function to create the array instead."
   ]
  },
  {
   "cell_type": "code",
   "execution_count": 12,
   "metadata": {},
   "outputs": [
    {
     "name": "stdout",
     "output_type": "stream",
     "text": [
      "[0.  0.1 0.2 0.3 0.4 0.5 0.6 0.7 0.8 0.9 1.  1.1 1.2 1.3 1.4 1.5 1.6 1.7\n",
      " 1.8 1.9 2.  2.1 2.2 2.3 2.4 2.5 2.6 2.7 2.8 2.9 3.  3.1 3.2 3.3 3.4 3.5\n",
      " 3.6 3.7 3.8 3.9 4.  4.1 4.2 4.3 4.4 4.5 4.6 4.7 4.8 4.9 5. ]\n"
     ]
    }
   ],
   "source": [
    "x = np.arange(0,5.1,0.1)\n",
    "print(x)"
   ]
  },
  {
   "cell_type": "markdown",
   "metadata": {
    "latex": {
     "environment": "problems"
    }
   },
   "source": [
    "Q05.13 Create a Python list containing the values 1, 2, 5.6, and 9 and store the Python list in a variable called ```x```.  Then create a NumPy array of the same values and store it in a variable called ```y```."
   ]
  },
  {
   "cell_type": "code",
   "execution_count": 13,
   "metadata": {},
   "outputs": [
    {
     "name": "stdout",
     "output_type": "stream",
     "text": [
      "[1.  2.  5.6 9. ]\n"
     ]
    }
   ],
   "source": [
    "x = [1, 2, 5.6, 9]\n",
    "y = np.array(x)\n",
    "print(y)"
   ]
  },
  {
   "cell_type": "markdown",
   "metadata": {
    "latex": {
     "environment": "problems"
    }
   },
   "source": [
    "Q05.14 Create an array called ```r``` of 200 evenly spaced numbers between and including 0 to 2$\\pi$, then create an array ```y``` such that $y=10sin(3r)$."
   ]
  },
  {
   "cell_type": "code",
   "execution_count": 14,
   "metadata": {},
   "outputs": [
    {
     "name": "stdout",
     "output_type": "stream",
     "text": [
      "[ 0.00000000e+00  9.45798078e-01  1.88311666e+00  2.80355229e+00\n",
      "  3.69885285e+00  4.56099159e+00  5.38223906e+00  6.15523241e+00\n",
      "  6.87304143e+00  7.52923064e+00  8.11791702e+00  8.63382275e+00\n",
      "  9.07232251e+00  9.42948495e+00  9.70210796e+00  9.88774735e+00\n",
      "  9.98473878e+00  9.99221269e+00  9.91010207e+00  9.73914308e+00\n",
      "  9.48086844e+00  9.13759368e+00  8.71239643e+00  8.20908875e+00\n",
      "  7.63218303e+00  6.98685146e+00  6.27887973e+00  5.51461512e+00\n",
      "  4.70090958e+00  3.84505835e+00  2.95473450e+00  2.03792016e+00\n",
      "  1.10283499e+00  1.57862420e-01 -7.88525454e-01 -1.72784385e+00\n",
      " -2.65167138e+00 -3.55172553e+00 -4.41993691e+00 -5.24852163e+00\n",
      " -6.03005107e+00 -6.75751849e+00 -7.42440181e+00 -8.02472214e+00\n",
      " -8.55309735e+00 -9.00479032e+00 -9.37575144e+00 -9.66265486e+00\n",
      " -9.86292838e+00 -9.97477646e+00 -9.99719634e+00 -9.92998700e+00\n",
      " -9.77375101e+00 -9.52988909e+00 -9.20058757e+00 -8.78879879e+00\n",
      " -8.29821460e+00 -7.73323331e+00 -7.09892022e+00 -6.40096223e+00\n",
      " -5.64561683e+00 -4.83965601e+00 -3.99030558e+00 -3.10518032e+00\n",
      " -2.19221577e+00 -1.25959705e+00 -3.15685498e-01  6.31056313e-01\n",
      "  1.57214043e+00  2.49912962e+00  3.40371303e+00  4.27778068e+00\n",
      "  5.11349616e+00  5.90336692e+00  6.64031143e+00  7.31772266e+00\n",
      "  7.92952733e+00  8.47024034e+00  8.93501396e+00  9.31968129e+00\n",
      "  9.62079363e+00  9.83565137e+00  9.96232822e+00  9.99968847e+00\n",
      "  9.94739716e+00  9.80592311e+00  9.57653470e+00  9.26128849e+00\n",
      "  8.86301080e+00  8.38527236e+00  7.83235632e+00  7.20921979e+00\n",
      "  6.52144947e+00  5.77521152e+00  4.97719629e+00  4.13455834e+00\n",
      "  3.25485227e+00  2.34596503e+00  1.41604519e+00  4.73429900e-01\n",
      " -4.73429900e-01 -1.41604519e+00 -2.34596503e+00 -3.25485227e+00\n",
      " -4.13455834e+00 -4.97719629e+00 -5.77521152e+00 -6.52144947e+00\n",
      " -7.20921979e+00 -7.83235632e+00 -8.38527236e+00 -8.86301080e+00\n",
      " -9.26128849e+00 -9.57653470e+00 -9.80592311e+00 -9.94739716e+00\n",
      " -9.99968847e+00 -9.96232822e+00 -9.83565137e+00 -9.62079363e+00\n",
      " -9.31968129e+00 -8.93501396e+00 -8.47024034e+00 -7.92952733e+00\n",
      " -7.31772266e+00 -6.64031143e+00 -5.90336692e+00 -5.11349616e+00\n",
      " -4.27778068e+00 -3.40371303e+00 -2.49912962e+00 -1.57214043e+00\n",
      " -6.31056313e-01  3.15685498e-01  1.25959705e+00  2.19221577e+00\n",
      "  3.10518032e+00  3.99030558e+00  4.83965601e+00  5.64561683e+00\n",
      "  6.40096223e+00  7.09892022e+00  7.73323331e+00  8.29821460e+00\n",
      "  8.78879879e+00  9.20058757e+00  9.52988909e+00  9.77375101e+00\n",
      "  9.92998700e+00  9.99719634e+00  9.97477646e+00  9.86292838e+00\n",
      "  9.66265486e+00  9.37575144e+00  9.00479032e+00  8.55309735e+00\n",
      "  8.02472214e+00  7.42440181e+00  6.75751849e+00  6.03005107e+00\n",
      "  5.24852163e+00  4.41993691e+00  3.55172553e+00  2.65167138e+00\n",
      "  1.72784385e+00  7.88525454e-01 -1.57862420e-01 -1.10283499e+00\n",
      " -2.03792016e+00 -2.95473450e+00 -3.84505835e+00 -4.70090958e+00\n",
      " -5.51461512e+00 -6.27887973e+00 -6.98685146e+00 -7.63218303e+00\n",
      " -8.20908875e+00 -8.71239643e+00 -9.13759368e+00 -9.48086844e+00\n",
      " -9.73914308e+00 -9.91010207e+00 -9.99221269e+00 -9.98473878e+00\n",
      " -9.88774735e+00 -9.70210796e+00 -9.42948495e+00 -9.07232251e+00\n",
      " -8.63382275e+00 -8.11791702e+00 -7.52923064e+00 -6.87304143e+00\n",
      " -6.15523241e+00 -5.38223906e+00 -4.56099159e+00 -3.69885285e+00\n",
      " -2.80355229e+00 -1.88311666e+00 -9.45798078e-01 -7.34788079e-15]\n"
     ]
    }
   ],
   "source": [
    "r = np.linspace(0,2*np.pi,200)\n",
    "y = 10*np.sin(3*r)\n",
    "print(y)"
   ]
  },
  {
   "cell_type": "markdown",
   "metadata": {
    "latex": {
     "environment": "problems"
    }
   },
   "source": [
    "Q05.15 Create an array of 25 regularly spaced numbers beginning at 10 and ending with 18."
   ]
  },
  {
   "cell_type": "code",
   "execution_count": 15,
   "metadata": {},
   "outputs": [
    {
     "name": "stdout",
     "output_type": "stream",
     "text": [
      "[10.         10.33333333 10.66666667 11.         11.33333333 11.66666667\n",
      " 12.         12.33333333 12.66666667 13.         13.33333333 13.66666667\n",
      " 14.         14.33333333 14.66666667 15.         15.33333333 15.66666667\n",
      " 16.         16.33333333 16.66666667 17.         17.33333333 17.66666667\n",
      " 18.        ]\n"
     ]
    }
   ],
   "source": [
    "p = np.linspace(10,18,25)\n",
    "print(p)"
   ]
  },
  {
   "cell_type": "markdown",
   "metadata": {
    "latex": {
     "environment": "problems"
    }
   },
   "source": [
    "Q05.16 Create an array of regularly spaced numbers beginning at 10, ending with 18.4 using an increment of 0.6."
   ]
  },
  {
   "cell_type": "code",
   "execution_count": 16,
   "metadata": {},
   "outputs": [
    {
     "name": "stdout",
     "output_type": "stream",
     "text": [
      "[10.  10.6 11.2 11.8 12.4 13.  13.6 14.2 14.8 15.4 16.  16.6 17.2 17.8\n",
      " 18.4]\n"
     ]
    }
   ],
   "source": [
    "q = np.arange(10,18.4+0.6,0.6)\n",
    "print(q)"
   ]
  },
  {
   "cell_type": "markdown",
   "metadata": {},
   "source": [
    "#### Array Manipulation"
   ]
  },
  {
   "cell_type": "markdown",
   "metadata": {},
   "source": [
    "Q05.20 Create a NumPy array called ```A``` and store the values 5, 8, -8, 99, and 0 in array ```A``` in a single row, five columns. Reshape ```A``` to an array with one column and five rows."
   ]
  },
  {
   "cell_type": "code",
   "execution_count": 17,
   "metadata": {},
   "outputs": [
    {
     "name": "stdout",
     "output_type": "stream",
     "text": [
      "[ 5  8 -8 99  0]\n",
      "[[ 5]\n",
      " [ 8]\n",
      " [-8]\n",
      " [99]\n",
      " [ 0]]\n"
     ]
    }
   ],
   "source": [
    "A = np.array([5,8,-8,99,0])\n",
    "print(A)\n",
    "B = A.reshape((5,1))\n",
    "print(B)"
   ]
  },
  {
   "cell_type": "markdown",
   "metadata": {},
   "source": [
    "Q05.21 Create a NumPy array called ```B``` and store the values 1, 2, 3, 4, 5 as floats, not integers."
   ]
  },
  {
   "cell_type": "code",
   "execution_count": 18,
   "metadata": {},
   "outputs": [
    {
     "name": "stdout",
     "output_type": "stream",
     "text": [
      "[1. 2. 3. 4. 5.]\n"
     ]
    }
   ],
   "source": [
    "B = np.array([1,2,3,4,5], dtype=np.float64)\n",
    "print(B)"
   ]
  },
  {
   "cell_type": "markdown",
   "metadata": {},
   "source": [
    "#### Array Slicing"
   ]
  },
  {
   "cell_type": "markdown",
   "metadata": {},
   "source": [
    "Q05.30 Create an array ```B``` that contains integers 0 to 24 (including 24) in one row.  Then reshape ```B``` into a 5 row by 5 column array.\n",
    "\n",
    "(a) Extract the 2nd row from ```B```.  Store it as a one column array called ```x```.\n",
    "\n",
    "(b) Store the number of elements in array ```x``` in a new variable called ```y```. \n",
    "\n",
    "(c) Extract the last column of ```B``` and store it in an array called ```z```.  \n",
    "\n",
    "(d) Store a transposed version of ```B``` in an array called ```t```."
   ]
  },
  {
   "cell_type": "code",
   "execution_count": 19,
   "metadata": {},
   "outputs": [
    {
     "name": "stdout",
     "output_type": "stream",
     "text": [
      "[[ 0  1  2  3  4]\n",
      " [ 5  6  7  8  9]\n",
      " [10 11 12 13 14]\n",
      " [15 16 17 18 19]\n",
      " [20 21 22 23 24]]\n",
      "[5 6 7 8 9]\n",
      "5\n",
      "[ 4  9 14 19 24]\n",
      "[[ 0  5 10 15 20]\n",
      " [ 1  6 11 16 21]\n",
      " [ 2  7 12 17 22]\n",
      " [ 3  8 13 18 23]\n",
      " [ 4  9 14 19 24]]\n"
     ]
    }
   ],
   "source": [
    "B = np.arange(0,25)\n",
    "B = B.reshape((5,5))\n",
    "print(B)\n",
    "\n",
    "#(a)\n",
    "x = B[1,:]\n",
    "print(x)\n",
    "\n",
    "#(b)\n",
    "y = len(B)\n",
    "print(y)\n",
    "\n",
    "#(c)\n",
    "z = B[:,-1]\n",
    "print(z)\n",
    "\n",
    "#(d)\n",
    "t = B.transpose()\n",
    "print(t)"
   ]
  },
  {
   "cell_type": "markdown",
   "metadata": {},
   "source": [
    "Q05.31 Run the following code to create a NumPy array ```C```\n",
    "\n",
    "```C = np.array(range(11)) + 5```\n",
    "\n",
    "(a) Extract the 4th value in array ```C``` into a variable called ```x```.\n",
    "\n",
    "(b) Extract the 2nd-to-last value in array ```C``` into a variable called ```y```.\n",
    "\n",
    "(c) Extract the values from array ```C``` starting from the 3rd value up to and including the 7th value into a variable called ```z```.\n",
    "\n",
    "Q05.32 Run the following code to create a NumPy array ```D```"
   ]
  },
  {
   "cell_type": "code",
   "execution_count": null,
   "metadata": {},
   "outputs": [],
   "source": []
  },
  {
   "cell_type": "markdown",
   "metadata": {},
   "source": [
    "```D = np.array(range(18)) + 3```\n",
    "\n",
    "(a) Extract every other value from array ```D``` starting from the 2nd value through the 10th value.  Store the result in a variable called ```x```.\n",
    "\n",
    "(b) Extract every other value from array ```D``` starting from the 10th value through the 2nd value.  Store the result a variable called ```y```.\n",
    "\n",
    "(c) Create a variable ```z``` that contains all of the values in ```D``` in reverse order."
   ]
  },
  {
   "cell_type": "code",
   "execution_count": null,
   "metadata": {},
   "outputs": [],
   "source": []
  },
  {
   "cell_type": "markdown",
   "metadata": {},
   "source": [
    "Q05.33 The 1D NumPy array ```F``` is defined below.  But construct your code to work with any 1D NumPy array filled with numbers.\n",
    "\n",
    "```F = np.array([5, -4.7, 99, 50, 6, -1, 0, 50, -78, 27, 10])```\n",
    "\n",
    "(a) Select all the elements from ```F``` that are greater than ```5``` and store them in ```x```.\n",
    "\n",
    "(b) Select all of the elements from ```F``` that are between ```5``` and ```30```.  Store them in ```y```.\n",
    "\n",
    "(c) Select all of the elements from ```F``` that are between ```5``` and ```30``` or that are equal to ```50```.  Store them in ```z```.\n",
    "\n",
    "Hint: To perform the logical ```OR``` or ```AND``` operations, on boolean arrays of the same dimensions, NumPy functions are needed.  The standard Python ```\"or\"``` and ```\"and\"``` will not work. \n",
    "\n",
    "Hint: You can use either logical indexing or ```np.where()``` to get the appropriate values from ```A```."
   ]
  },
  {
   "cell_type": "code",
   "execution_count": null,
   "metadata": {},
   "outputs": [],
   "source": []
  },
  {
   "cell_type": "markdown",
   "metadata": {},
   "source": [
    "Q05.34 The 1D NumPy array ```B``` is defined below.  But your code should work with any 1D NumPy array filled with numeric values.\n",
    "\n",
    "```G = np.array([5, -4.7, 99, 50, 6, -1, 0, 50, -78, 27, 10])```\n",
    "\n",
    "(a) Select all of the positive numbers in ```G``` and store them in ```x```.\n",
    "\n",
    "(b) Select all the numbers in ```G``` between ```0``` and  ```30``` and store them in ```y```.\n",
    "\n",
    "(c) Select all of the numbers in ```G``` that are either less than ```-50``` or greater than ```50``` and store them in ```z```."
   ]
  },
  {
   "cell_type": "code",
   "execution_count": null,
   "metadata": {},
   "outputs": [],
   "source": []
  },
  {
   "cell_type": "markdown",
   "metadata": {},
   "source": [
    "Q05.35 Define an integer ```c``` which is a random integer between ```100``` and ```999``` (including ```100``` and ```999```)\n",
    "\n",
    "(a) pull the first digit out of ```c``` and assign it to the variable ```x```\n",
    "\n",
    "(b) pull the second digit out of ```c``` and assign it to the variable ```y```\n",
    "\n",
    "(c) pull the third digit out of ```c``` and assign it to the variable ```z```."
   ]
  },
  {
   "cell_type": "code",
   "execution_count": null,
   "metadata": {},
   "outputs": [],
   "source": []
  },
  {
   "cell_type": "markdown",
   "metadata": {},
   "source": [
    "#### Meshgrids"
   ]
  },
  {
   "cell_type": "markdown",
   "metadata": {},
   "source": [
    "Q05.40 Create two 2D arrays from the two 1D arrays below using NumPy's ```np.meshgrid()``` function. \n",
    "\n",
    "```text\n",
    "\n",
    "x = [0.0, 0.1, 0.2, 0.3, 0.4, 0.5]\n",
    "\n",
    "y = [0, 2, 4, 6]\n",
    "```\n",
    "\n",
    "Q05.41 Create a meshgrid of the two arrays below:\n",
    "\n",
    "```text\n",
    "\n",
    "x = [1, 2, 3, 4, 5, 6, 7, 8, 9, 10]\n",
    "\n",
    "y = [1, 2, 3, 4, 5, 6, 7, 8, 9, 10]\n",
    "```\n",
    "\n",
    "Use element-wise multiplication to multiply each element in the first resulting 2D array with the corresponding element is the second array to build a multiplication table."
   ]
  },
  {
   "cell_type": "markdown",
   "metadata": {},
   "source": [
    "#### Array Operations"
   ]
  },
  {
   "cell_type": "markdown",
   "metadata": {},
   "source": [
    "Q05.50 Create the two arrays below and perform each calculation.\n",
    "\n",
    "```a = [2 4 6]```\n",
    "\n",
    "```b = [-1 0 1]```\n",
    "\n",
    "(a) $a + b$\n",
    "\n",
    "(b) $1.5a -2b$\n",
    "\n",
    "(c) $0.5ab$\n",
    "\n",
    "(d) $\\frac{b^2}{a}$\n",
    "\n",
    "\n",
    "Q05.51 Create an array of angles between (and including) 0 and 2$\\pi$ radians in increments of $\\pi/2$ radians.\n",
    "\n",
    "(a) Calculate the sine of each angle in the array\n",
    "\n",
    "(b) Calculate the cosine of each angle in the array\n",
    "\n",
    "(c) Convert each angle in the array to degrees\n",
    "\n",
    "Q05.52 Create the two arrays ```F1```, ```F2``` below and then perform the following operations.\n",
    "\n",
    "```F1 = [-1, 0, 2]```\n",
    "\n",
    "```F2 = [5, -2, 0]```\n",
    "\n",
    "(a) Calculate the dot product of ```F1``` and ```F2```\n",
    "\n",
    "(b) Calculate cross product of ```F1``` and ```F2```\n",
    "\n",
    "(c) Calculate the element-wise product (element-wise multiplication of ```F1``` and ```F2```)\n",
    "\n",
    "Q05.53 Compute all possible prices of flooring that can have lengths of ```2```, ```4```, ```6```, and ```8``` meters and widths of ```1```, ```1.5```, and ```2``` meters if the flooring costs \\$32.19 per square meter. Store the result in a 2D array. The lengths should increase from top to bottom and widths should increase from left to right.\n",
    "\n",
    "Q05.54 Create array ```H``` defined by the code below:\n",
    "\n",
    "```H = np.array([-5, 10, 12, 500, 20, 10, -46, 16])```\n",
    "\n",
    "(a) Create a boolean array ```x``` based on the variable ```H```.  ```x``` should be ```True``` everywhere ```H``` equals ```10``` and ```False``` everywhere else.\n",
    "\n",
    "(b) Create a boolean array ```y``` based on the variable ```H```.  ```y``` should be ```True``` everywhere ```H``` is not equal to ```10```.  ```y``` should be ```False``` everywhere else.\n",
    "\n",
    "(c) Create a boolean array ```z``` based on the variable ```H```.  ```z``` should be ```True``` everywhere ```H``` is less than or equal to ```20```.  ```z``` should be ```False``` everywhere else.\n",
    "\n",
    "Q05.55 Create array ```J``` using the code below:\n",
    "\n",
    "```\n",
    "J = np.array(range(7*5)).reshape((7, 5))\n",
    "J[4, 3] = 500\n",
    "```\n",
    "\n",
    "(a) Store the row index of the number ```500``` in a variable called ```row_500```.\n",
    "\n",
    "(b) Store the column index of the number ```500``` in a variable called ```col_500```.\n",
    "\n",
    "Q05.56 Create array ```K``` using the code below:\n",
    "\n",
    "```\n",
    "K = np.random.randint(100, 500, 7*7).reshape(7, 7)\n",
    "K[2, 6] = 250\n",
    "```\n",
    "\n",
    "(a) Extract all of the values from ```K``` that are greater or equal to ```250``` and store them in an array called ```x```. \n",
    "\n",
    "(b) Extract all of the values from ```K``` that are less than ```250``` and store them in an array called ```y```.\n",
    "\n",
    "(c) Programmatically determine which column and which row the number ```250``` is stored inside of array ```K```."
   ]
  },
  {
   "cell_type": "markdown",
   "metadata": {},
   "source": [
    "#### Systems of Linear Equations"
   ]
  },
  {
   "cell_type": "markdown",
   "metadata": {},
   "source": [
    "Q05.70 Use the system of linear equations below to calculate the values of $x$ and $y$.\n",
    "\n",
    "$$ 4x - 2y = -42 $$\n",
    "\n",
    "$$ -6x + y = 31 $$\n",
    "\n",
    "Q05.71 Use the system of linear equations below to calculate the values of $x$, $y$, and $z$.\n",
    "\n",
    "$$ \\frac{x}{2} +2y - z = 5 $$\n",
    "\n",
    "$$ x + 3y - 4z = -1 $$\n",
    "\n",
    "$$ -x - 3y + 2z = -5 $$\n",
    "\n",
    "Q05.72 Use the system of linear equations below to calculate the values of $F_1$, $F_2$, and $F_3$.\n",
    "\n",
    "$$ 2F_1 + 3F_2 - F_3 = -9 $$\n",
    "\n",
    "$$ -F_1 + 2F_2 + 5F_3 = -20 $$\n",
    "\n",
    "$$ F_1 - F_2 - F_3 = 1 $$\n"
   ]
  }
 ],
 "metadata": {
  "kernelspec": {
   "display_name": "Python 3",
   "language": "python",
   "name": "python3"
  },
  "language_info": {
   "codemirror_mode": {
    "name": "ipython",
    "version": 3
   },
   "file_extension": ".py",
   "mimetype": "text/x-python",
   "name": "python",
   "nbconvert_exporter": "python",
   "pygments_lexer": "ipython3",
   "version": "3.8.5"
  }
 },
 "nbformat": 4,
 "nbformat_minor": 2
}
