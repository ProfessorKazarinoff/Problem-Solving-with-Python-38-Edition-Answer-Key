{
 "cells": [
  {
   "cell_type": "markdown",
   "metadata": {},
   "source": [
    "## Review Questions"
   ]
  },
  {
   "cell_type": "markdown",
   "metadata": {},
   "source": [
    "#### Array Creation"
   ]
  },
  {
   "cell_type": "markdown",
   "metadata": {
    "latex": {
     "environment": "problems"
    }
   },
   "source": [
    "Q05.01 Create an array of the numbers ```1```, ```5```, ```19```, ```30```"
   ]
  },
  {
   "cell_type": "code",
   "execution_count": 1,
   "metadata": {},
   "outputs": [
    {
     "name": "stdout",
     "output_type": "stream",
     "text": [
      "[ 1  5 19 30]\n"
     ]
    }
   ],
   "source": [
    "import numpy as np\n",
    "\n",
    "a = np.array([1,5,19,30])\n",
    "print(a)"
   ]
  },
  {
   "cell_type": "markdown",
   "metadata": {
    "latex": {
     "environment": "problems"
    }
   },
   "source": [
    "Q05.02 Create an array of the numbers ```-3```, ```15```, ```0.001```, ```6.02e23```"
   ]
  },
  {
   "cell_type": "code",
   "execution_count": 2,
   "metadata": {},
   "outputs": [
    {
     "name": "stdout",
     "output_type": "stream",
     "text": [
      "[-3.00e+00  1.50e+01  1.00e-03  6.02e+23]\n"
     ]
    }
   ],
   "source": [
    "b = np.array([-3,15,0.001,6.02e23])\n",
    "print(b)"
   ]
  },
  {
   "cell_type": "markdown",
   "metadata": {
    "latex": {
     "environment": "problems"
    }
   },
   "source": [
    "Q05.03 Create an array of integers between -10 and 10"
   ]
  },
  {
   "cell_type": "code",
   "execution_count": 3,
   "metadata": {},
   "outputs": [
    {
     "name": "stdout",
     "output_type": "stream",
     "text": [
      "[-10  -9  -8  -7  -6  -5  -4  -3  -2  -1   0   1   2   3   4   5   6   7\n",
      "   8   9  10]\n"
     ]
    }
   ],
   "source": [
    "c = np.arange(-10,11)\n",
    "print(c)"
   ]
  },
  {
   "cell_type": "markdown",
   "metadata": {
    "latex": {
     "environment": "problems"
    }
   },
   "source": [
    "Q05.04 Create an array of 10 equally spaced angles between 0 and 2$\\pi$"
   ]
  },
  {
   "cell_type": "code",
   "execution_count": 4,
   "metadata": {},
   "outputs": [
    {
     "name": "stdout",
     "output_type": "stream",
     "text": [
      "[0.         0.6981317  1.3962634  2.0943951  2.7925268  3.4906585\n",
      " 4.1887902  4.88692191 5.58505361 6.28318531]\n"
     ]
    }
   ],
   "source": [
    "d = np.linspace(0,2*np.pi,10)\n",
    "print(d)"
   ]
  },
  {
   "cell_type": "markdown",
   "metadata": {
    "latex": {
     "environment": "problems"
    }
   },
   "source": [
    "Q05.05 Create an array of logarithmically spaced numbers between 1 and 1 million. Hint: remember to pass exponents to the ```np.logspace()``` function."
   ]
  },
  {
   "cell_type": "code",
   "execution_count": 5,
   "metadata": {},
   "outputs": [
    {
     "name": "stdout",
     "output_type": "stream",
     "text": [
      "[1.e+01 1.e+02 1.e+03 1.e+04 1.e+05 1.e+06]\n"
     ]
    }
   ],
   "source": [
    "f = np.logspace(1,6,6)\n",
    "print(f)"
   ]
  },
  {
   "cell_type": "markdown",
   "metadata": {
    "latex": {
     "environment": "problems"
    }
   },
   "source": [
    "Q05.06 Create an array of 20 random integers between 1 and 10"
   ]
  },
  {
   "cell_type": "code",
   "execution_count": 6,
   "metadata": {},
   "outputs": [
    {
     "name": "stdout",
     "output_type": "stream",
     "text": [
      "[ 7  8 10 10  3  3  4  1 10  7  5  8  9  6  4  7  7  6  9  8]\n"
     ]
    }
   ],
   "source": [
    "g = np.random.randint(1,11,20)\n",
    "print(g)"
   ]
  },
  {
   "cell_type": "markdown",
   "metadata": {
    "latex": {
     "environment": "problems"
    }
   },
   "source": [
    "Q05.07 Create an array of 30 random numbers with a normal distribution"
   ]
  },
  {
   "cell_type": "code",
   "execution_count": 7,
   "metadata": {},
   "outputs": [
    {
     "name": "stdout",
     "output_type": "stream",
     "text": [
      "[ 0.56001026  0.43497158 -3.07254122  1.49117496 -0.60042265  0.20530545\n",
      " -0.36522797  0.138874    0.22891164 -0.50135172  0.53110863 -0.49882074\n",
      " -0.25474104 -0.73451207 -0.8152749   0.65575158 -1.37889465 -0.655284\n",
      " -1.57593082 -0.94872228  1.71188368 -1.20648031  0.3858553  -1.20990068\n",
      " -1.21422483  0.59350956 -0.14986626  0.92353358  0.50936535 -0.71430666]\n"
     ]
    }
   ],
   "source": [
    "h = np.random.randn(30)\n",
    "print(h)"
   ]
  },
  {
   "cell_type": "markdown",
   "metadata": {
    "latex": {
     "environment": "problems"
    }
   },
   "source": [
    "Q05.08 Create an array of 30 random numbers with a normal distribution that has a mean $\\mu$ of 78.5 and a standard deviation $\\sigma$ of 5.2"
   ]
  },
  {
   "cell_type": "code",
   "execution_count": 8,
   "metadata": {},
   "outputs": [
    {
     "name": "stdout",
     "output_type": "stream",
     "text": [
      "[79.28083024 80.67220709 72.61147359 85.06774107 72.69936161 84.30291831\n",
      " 77.22118023 76.5079067  83.32524995 76.48768061 72.91506925 83.71487774\n",
      " 78.4869765  75.38475077 77.93898385 84.94928036 80.22003337 69.50472901\n",
      " 86.21482995 88.66762196 72.91024652 80.67153367 79.27792512 82.62521165\n",
      " 86.70388058 70.9621571  82.53098071 83.80656746 80.31183708 68.14446881]\n"
     ]
    }
   ],
   "source": [
    "mu = 78.5\n",
    "sigma = 5.2\n",
    "\n",
    "k = sigma * np.random.randn(30) + mu\n",
    "\n",
    "print(k)"
   ]
  },
  {
   "cell_type": "markdown",
   "metadata": {
    "latex": {
     "environment": "problems"
    }
   },
   "source": [
    "Q05.09 Create an array of 18 random floating-point numbers between 0 and 1"
   ]
  },
  {
   "cell_type": "code",
   "execution_count": 9,
   "metadata": {},
   "outputs": [
    {
     "name": "stdout",
     "output_type": "stream",
     "text": [
      "[0.84670169 0.1597745  0.41980051 0.75153478 0.41644871 0.58476362\n",
      " 0.10960059 0.1591185  0.85789279 0.59085377 0.87814886 0.36162054\n",
      " 0.39969052 0.47624505 0.5574128  0.66442454 0.26383176 0.91244256]\n"
     ]
    }
   ],
   "source": [
    "l = np.random.rand(18)\n",
    "print(l)"
   ]
  },
  {
   "cell_type": "markdown",
   "metadata": {
    "latex": {
     "environment": "problems"
    }
   },
   "source": [
    "Q05.10 Create an array of 18 random floating-point numbers between -1 and 0"
   ]
  },
  {
   "cell_type": "code",
   "execution_count": 10,
   "metadata": {},
   "outputs": [
    {
     "name": "stdout",
     "output_type": "stream",
     "text": [
      "[-0.9172642  -0.6131694  -0.7063505  -0.27534621 -0.63113137 -0.57634189\n",
      " -0.52376244 -0.81742478 -0.48755416 -0.27698799 -0.86372277 -0.33151523\n",
      " -0.23092399 -0.47935819 -0.84200965 -0.36642593 -0.36141487 -0.92290452]\n"
     ]
    }
   ],
   "source": [
    "n = -1*np.random.rand(18)\n",
    "print(n)"
   ]
  },
  {
   "cell_type": "markdown",
   "metadata": {
    "latex": {
     "environment": "problems"
    }
   },
   "source": [
    "Q05.11 Create an array of 18 random floating-point numbers between 0 and 10"
   ]
  },
  {
   "cell_type": "code",
   "execution_count": 11,
   "metadata": {},
   "outputs": [
    {
     "name": "stdout",
     "output_type": "stream",
     "text": [
      "[5.67869671 8.73872323 8.10213764 7.0363342  6.58938529 1.19319796\n",
      " 8.19842769 1.041447   5.17304429 4.20468722 3.15203562 0.81396216\n",
      " 4.54138411 3.61662237 7.21061741 6.51469439 7.59769764 6.80960902]\n"
     ]
    }
   ],
   "source": [
    "m = 10*np.random.rand(18)\n",
    "print(m)"
   ]
  },
  {
   "cell_type": "markdown",
   "metadata": {
    "latex": {
     "environment": "problems"
    }
   },
   "source": [
    "Q05.12 Create a variable $x$ that is an NumPy array which contains values 0, 0.1, 0.2, ..., 4.9, 5.0.  Hard coding the values one will be time-consuming, use a NumPy function to create the array instead."
   ]
  },
  {
   "cell_type": "code",
   "execution_count": 12,
   "metadata": {},
   "outputs": [
    {
     "name": "stdout",
     "output_type": "stream",
     "text": [
      "[0.  0.1 0.2 0.3 0.4 0.5 0.6 0.7 0.8 0.9 1.  1.1 1.2 1.3 1.4 1.5 1.6 1.7\n",
      " 1.8 1.9 2.  2.1 2.2 2.3 2.4 2.5 2.6 2.7 2.8 2.9 3.  3.1 3.2 3.3 3.4 3.5\n",
      " 3.6 3.7 3.8 3.9 4.  4.1 4.2 4.3 4.4 4.5 4.6 4.7 4.8 4.9 5. ]\n"
     ]
    }
   ],
   "source": [
    "x = np.arange(0,5.1,0.1)\n",
    "print(x)"
   ]
  },
  {
   "cell_type": "markdown",
   "metadata": {
    "latex": {
     "environment": "problems"
    }
   },
   "source": [
    "Q05.13 Create a Python list containing the values 1, 2, 5.6, and 9 and store the Python list in a variable called ```x```.  Then create a NumPy array of the same values and store it in a variable called ```y```."
   ]
  },
  {
   "cell_type": "code",
   "execution_count": 13,
   "metadata": {},
   "outputs": [
    {
     "name": "stdout",
     "output_type": "stream",
     "text": [
      "[1.  2.  5.6 9. ]\n"
     ]
    }
   ],
   "source": [
    "x = [1, 2, 5.6, 9]\n",
    "y = np.array(x)\n",
    "print(y)"
   ]
  },
  {
   "cell_type": "markdown",
   "metadata": {
    "latex": {
     "environment": "problems"
    }
   },
   "source": [
    "Q05.14 Create an array called ```r``` of 200 evenly spaced numbers between and including 0 to 2$\\pi$, then create an array ```y``` such that $y=10sin(3r)$."
   ]
  },
  {
   "cell_type": "code",
   "execution_count": 14,
   "metadata": {},
   "outputs": [
    {
     "name": "stdout",
     "output_type": "stream",
     "text": [
      "[ 0.00000000e+00  9.45798078e-01  1.88311666e+00  2.80355229e+00\n",
      "  3.69885285e+00  4.56099159e+00  5.38223906e+00  6.15523241e+00\n",
      "  6.87304143e+00  7.52923064e+00  8.11791702e+00  8.63382275e+00\n",
      "  9.07232251e+00  9.42948495e+00  9.70210796e+00  9.88774735e+00\n",
      "  9.98473878e+00  9.99221269e+00  9.91010207e+00  9.73914308e+00\n",
      "  9.48086844e+00  9.13759368e+00  8.71239643e+00  8.20908875e+00\n",
      "  7.63218303e+00  6.98685146e+00  6.27887973e+00  5.51461512e+00\n",
      "  4.70090958e+00  3.84505835e+00  2.95473450e+00  2.03792016e+00\n",
      "  1.10283499e+00  1.57862420e-01 -7.88525454e-01 -1.72784385e+00\n",
      " -2.65167138e+00 -3.55172553e+00 -4.41993691e+00 -5.24852163e+00\n",
      " -6.03005107e+00 -6.75751849e+00 -7.42440181e+00 -8.02472214e+00\n",
      " -8.55309735e+00 -9.00479032e+00 -9.37575144e+00 -9.66265486e+00\n",
      " -9.86292838e+00 -9.97477646e+00 -9.99719634e+00 -9.92998700e+00\n",
      " -9.77375101e+00 -9.52988909e+00 -9.20058757e+00 -8.78879879e+00\n",
      " -8.29821460e+00 -7.73323331e+00 -7.09892022e+00 -6.40096223e+00\n",
      " -5.64561683e+00 -4.83965601e+00 -3.99030558e+00 -3.10518032e+00\n",
      " -2.19221577e+00 -1.25959705e+00 -3.15685498e-01  6.31056313e-01\n",
      "  1.57214043e+00  2.49912962e+00  3.40371303e+00  4.27778068e+00\n",
      "  5.11349616e+00  5.90336692e+00  6.64031143e+00  7.31772266e+00\n",
      "  7.92952733e+00  8.47024034e+00  8.93501396e+00  9.31968129e+00\n",
      "  9.62079363e+00  9.83565137e+00  9.96232822e+00  9.99968847e+00\n",
      "  9.94739716e+00  9.80592311e+00  9.57653470e+00  9.26128849e+00\n",
      "  8.86301080e+00  8.38527236e+00  7.83235632e+00  7.20921979e+00\n",
      "  6.52144947e+00  5.77521152e+00  4.97719629e+00  4.13455834e+00\n",
      "  3.25485227e+00  2.34596503e+00  1.41604519e+00  4.73429900e-01\n",
      " -4.73429900e-01 -1.41604519e+00 -2.34596503e+00 -3.25485227e+00\n",
      " -4.13455834e+00 -4.97719629e+00 -5.77521152e+00 -6.52144947e+00\n",
      " -7.20921979e+00 -7.83235632e+00 -8.38527236e+00 -8.86301080e+00\n",
      " -9.26128849e+00 -9.57653470e+00 -9.80592311e+00 -9.94739716e+00\n",
      " -9.99968847e+00 -9.96232822e+00 -9.83565137e+00 -9.62079363e+00\n",
      " -9.31968129e+00 -8.93501396e+00 -8.47024034e+00 -7.92952733e+00\n",
      " -7.31772266e+00 -6.64031143e+00 -5.90336692e+00 -5.11349616e+00\n",
      " -4.27778068e+00 -3.40371303e+00 -2.49912962e+00 -1.57214043e+00\n",
      " -6.31056313e-01  3.15685498e-01  1.25959705e+00  2.19221577e+00\n",
      "  3.10518032e+00  3.99030558e+00  4.83965601e+00  5.64561683e+00\n",
      "  6.40096223e+00  7.09892022e+00  7.73323331e+00  8.29821460e+00\n",
      "  8.78879879e+00  9.20058757e+00  9.52988909e+00  9.77375101e+00\n",
      "  9.92998700e+00  9.99719634e+00  9.97477646e+00  9.86292838e+00\n",
      "  9.66265486e+00  9.37575144e+00  9.00479032e+00  8.55309735e+00\n",
      "  8.02472214e+00  7.42440181e+00  6.75751849e+00  6.03005107e+00\n",
      "  5.24852163e+00  4.41993691e+00  3.55172553e+00  2.65167138e+00\n",
      "  1.72784385e+00  7.88525454e-01 -1.57862420e-01 -1.10283499e+00\n",
      " -2.03792016e+00 -2.95473450e+00 -3.84505835e+00 -4.70090958e+00\n",
      " -5.51461512e+00 -6.27887973e+00 -6.98685146e+00 -7.63218303e+00\n",
      " -8.20908875e+00 -8.71239643e+00 -9.13759368e+00 -9.48086844e+00\n",
      " -9.73914308e+00 -9.91010207e+00 -9.99221269e+00 -9.98473878e+00\n",
      " -9.88774735e+00 -9.70210796e+00 -9.42948495e+00 -9.07232251e+00\n",
      " -8.63382275e+00 -8.11791702e+00 -7.52923064e+00 -6.87304143e+00\n",
      " -6.15523241e+00 -5.38223906e+00 -4.56099159e+00 -3.69885285e+00\n",
      " -2.80355229e+00 -1.88311666e+00 -9.45798078e-01 -7.34788079e-15]\n"
     ]
    }
   ],
   "source": [
    "r = np.linspace(0,2*np.pi,200)\n",
    "y = 10*np.sin(3*r)\n",
    "print(y)"
   ]
  },
  {
   "cell_type": "markdown",
   "metadata": {
    "latex": {
     "environment": "problems"
    }
   },
   "source": [
    "Q05.15 Create an array of 25 regularly spaced numbers beginning at 10 and ending with 18."
   ]
  },
  {
   "cell_type": "code",
   "execution_count": 15,
   "metadata": {},
   "outputs": [
    {
     "name": "stdout",
     "output_type": "stream",
     "text": [
      "[10.         10.33333333 10.66666667 11.         11.33333333 11.66666667\n",
      " 12.         12.33333333 12.66666667 13.         13.33333333 13.66666667\n",
      " 14.         14.33333333 14.66666667 15.         15.33333333 15.66666667\n",
      " 16.         16.33333333 16.66666667 17.         17.33333333 17.66666667\n",
      " 18.        ]\n"
     ]
    }
   ],
   "source": [
    "p = np.linspace(10,18,25)\n",
    "print(p)"
   ]
  },
  {
   "cell_type": "markdown",
   "metadata": {
    "latex": {
     "environment": "problems"
    }
   },
   "source": [
    "Q05.16 Create an array of regularly spaced numbers beginning at 10, ending with 18.4 using an increment of 0.6."
   ]
  },
  {
   "cell_type": "code",
   "execution_count": 16,
   "metadata": {},
   "outputs": [
    {
     "name": "stdout",
     "output_type": "stream",
     "text": [
      "[10.  10.6 11.2 11.8 12.4 13.  13.6 14.2 14.8 15.4 16.  16.6 17.2 17.8\n",
      " 18.4]\n"
     ]
    }
   ],
   "source": [
    "q = np.arange(10,18.4+0.6,0.6)\n",
    "print(q)"
   ]
  },
  {
   "cell_type": "markdown",
   "metadata": {},
   "source": [
    "#### Array Manipulation"
   ]
  },
  {
   "cell_type": "markdown",
   "metadata": {},
   "source": [
    "Q05.20 Create a NumPy array called ```A``` and store the values 5, 8, -8, 99, and 0 in array ```A``` in a single row, five columns. Reshape ```A``` to an array with one column and five rows."
   ]
  },
  {
   "cell_type": "code",
   "execution_count": 17,
   "metadata": {},
   "outputs": [
    {
     "name": "stdout",
     "output_type": "stream",
     "text": [
      "[ 5  8 -8 99  0]\n",
      "[[ 5]\n",
      " [ 8]\n",
      " [-8]\n",
      " [99]\n",
      " [ 0]]\n"
     ]
    }
   ],
   "source": [
    "A = np.array([5,8,-8,99,0])\n",
    "print(A)\n",
    "B = A.reshape((5,1))\n",
    "print(B)"
   ]
  },
  {
   "cell_type": "markdown",
   "metadata": {},
   "source": [
    "Q05.21 Create a NumPy array called ```B``` and store the values 1, 2, 3, 4, 5 as floats, not integers."
   ]
  },
  {
   "cell_type": "code",
   "execution_count": 18,
   "metadata": {},
   "outputs": [
    {
     "name": "stdout",
     "output_type": "stream",
     "text": [
      "[1. 2. 3. 4. 5.]\n"
     ]
    }
   ],
   "source": [
    "B = np.array([1,2,3,4,5], dtype=np.float64)\n",
    "print(B)"
   ]
  },
  {
   "cell_type": "markdown",
   "metadata": {},
   "source": [
    "#### Array Slicing"
   ]
  },
  {
   "cell_type": "markdown",
   "metadata": {},
   "source": [
    "Q05.30 Create an array ```B``` that contains integers 0 to 24 (including 24) in one row.  Then reshape ```B``` into a 5 row by 5 column array.\n",
    "\n",
    "(a) Extract the 2nd row from ```B```.  Store it as a one column array called ```x```.\n",
    "\n",
    "(b) Store the number of elements in array ```x``` in a new variable called ```y```. \n",
    "\n",
    "(c) Extract the last column of ```B``` and store it in an array called ```z```.  \n",
    "\n",
    "(d) Store a transposed version of ```B``` in an array called ```t```."
   ]
  },
  {
   "cell_type": "code",
   "execution_count": 19,
   "metadata": {},
   "outputs": [
    {
     "name": "stdout",
     "output_type": "stream",
     "text": [
      "[[ 0  1  2  3  4]\n",
      " [ 5  6  7  8  9]\n",
      " [10 11 12 13 14]\n",
      " [15 16 17 18 19]\n",
      " [20 21 22 23 24]]\n",
      "[5 6 7 8 9]\n",
      "5\n",
      "[ 4  9 14 19 24]\n",
      "[[ 0  5 10 15 20]\n",
      " [ 1  6 11 16 21]\n",
      " [ 2  7 12 17 22]\n",
      " [ 3  8 13 18 23]\n",
      " [ 4  9 14 19 24]]\n"
     ]
    }
   ],
   "source": [
    "B = np.arange(0,25)\n",
    "B = B.reshape((5,5))\n",
    "print(B)\n",
    "\n",
    "#(a)\n",
    "x = B[1,:]\n",
    "print(x)\n",
    "\n",
    "#(b)\n",
    "y = len(B)\n",
    "print(y)\n",
    "\n",
    "#(c)\n",
    "z = B[:,-1]\n",
    "print(z)\n",
    "\n",
    "#(d)\n",
    "t = B.transpose()\n",
    "print(t)"
   ]
  },
  {
   "cell_type": "markdown",
   "metadata": {},
   "source": [
    "Q05.31 Run the following code to create a NumPy array ```C```\n",
    "\n",
    "```C = np.array(range(11)) + 5```\n",
    "\n",
    "(a) Extract the 4th value in array ```C``` into a variable called ```x```.\n",
    "\n",
    "(b) Extract the 2nd-to-last value in array ```C``` into a variable called ```y```.\n",
    "\n",
    "(c) Extract the values from array ```C``` starting from the 3rd value up to and including the 7th value into a variable called ```z```."
   ]
  },
  {
   "cell_type": "code",
   "execution_count": 20,
   "metadata": {},
   "outputs": [
    {
     "name": "stdout",
     "output_type": "stream",
     "text": [
      "[ 5  6  7  8  9 10 11 12 13 14 15]\n",
      "8\n",
      "14\n",
      "[ 7  8  9 10 11]\n"
     ]
    }
   ],
   "source": [
    "C = np.array(range(11)) + 5\n",
    "print(C)\n",
    "\n",
    "# (a)\n",
    "x = C[3]\n",
    "print(x)\n",
    "\n",
    "# (b)\n",
    "y = C[-2]\n",
    "print(y)\n",
    "\n",
    "# (c)\n",
    "z = C[2:7]\n",
    "print(z)"
   ]
  },
  {
   "cell_type": "markdown",
   "metadata": {},
   "source": [
    "Q05.32 Run the following code to create a NumPy array ```D```\n",
    "\n",
    "```D = np.array(range(18)) + 3```\n",
    "\n",
    "(a) Extract every other value from array ```D``` starting from the 2nd value through the 10th value.  Store the result in a variable called ```x```.\n",
    "\n",
    "(b) Extract every other value from array ```D``` starting from the 10th value through the 2nd value.  Store the result a variable called ```y```.\n",
    "\n",
    "(c) Create a variable ```z``` that contains all of the values in ```D``` in reverse order."
   ]
  },
  {
   "cell_type": "code",
   "execution_count": 21,
   "metadata": {},
   "outputs": [
    {
     "name": "stdout",
     "output_type": "stream",
     "text": [
      "[ 3  4  5  6  7  8  9 10 11 12 13 14 15 16 17 18 19 20]\n",
      "[ 4  6  8 10 12]\n",
      "[12 10  8  6  4]\n",
      "[20 19 18 17 16 15 14 13 12 11 10  9  8  7  6  5  4  3]\n"
     ]
    }
   ],
   "source": [
    "D = np.array(range(18)) + 3\n",
    "print(D)\n",
    "\n",
    "# (a)\n",
    "x = D[1:10:2]\n",
    "print(x)\n",
    "\n",
    "# (b)\n",
    "y = D[9:0:-2]\n",
    "print(y)\n",
    "\n",
    "# (c)\n",
    "z = D[::-1]\n",
    "print(z)"
   ]
  },
  {
   "cell_type": "markdown",
   "metadata": {},
   "source": [
    "Q05.33 The 1D NumPy array ```F``` is defined below.  But construct your code to work with any 1D NumPy array filled with numbers.\n",
    "\n",
    "```F = np.array([5, -4.7, 99, 50, 6, -1, 0, 50, -78, 27, 10])```\n",
    "\n",
    "(a) Select all the elements from ```F``` that are greater than ```5``` and store them in ```x```.\n",
    "\n",
    "(b) Select all of the elements from ```F``` that are between ```5``` and ```30```.  Store them in ```y```.\n",
    "\n",
    "(c) Select all of the elements from ```F``` that are between ```5``` and ```30``` or that are equal to ```50```.  Store them in ```z```.\n",
    "\n",
    "Hint: To perform the logical ```OR``` or ```AND``` operations, on boolean arrays of the same dimensions, NumPy functions are needed.  The standard Python ```\"or\"``` and ```\"and\"``` will not work. \n",
    "\n",
    "Hint: You can use either logical indexing or ```np.where()``` to get the appropriate values from ```A```."
   ]
  },
  {
   "cell_type": "code",
   "execution_count": 22,
   "metadata": {},
   "outputs": [
    {
     "name": "stdout",
     "output_type": "stream",
     "text": [
      "[  5.   -4.7  99.   50.    6.   -1.    0.   50.  -78.   27.   10. ]\n",
      "[99. 50.  6. 50. 27. 10.]\n",
      "[ 6. 27. 10.]\n",
      "[50.  6. 50. 27. 10.]\n"
     ]
    }
   ],
   "source": [
    "F = np.array([5, -4.7, 99, 50, 6, -1, 0, 50, -78, 27, 10])\n",
    "print(F)\n",
    "\n",
    "# (a)\n",
    "x = F[F>5]\n",
    "print(x)\n",
    "\n",
    "# (b)\n",
    "m1 = np.logical_and(5<F,F<50)\n",
    "y = F[m1]\n",
    "print(y)\n",
    "\n",
    "# (c)\n",
    "m1 = np.logical_and(5<F,F<50)\n",
    "m2 = F==50.0\n",
    "m3 = np.logical_or(m1,m2)\n",
    "z = F[m3]\n",
    "print(z)"
   ]
  },
  {
   "cell_type": "markdown",
   "metadata": {},
   "source": [
    "Q05.34 The 1D NumPy array ```B``` is defined below.  But your code should work with any 1D NumPy array filled with numeric values.\n",
    "\n",
    "```G = np.array([5, -4.7, 99, 50, 6, -1, 0, 50, -78, 27, 10])```\n",
    "\n",
    "(a) Select all of the positive numbers in ```G``` and store them in ```x```.\n",
    "\n",
    "(b) Select all the numbers in ```G``` between ```0``` and  ```30``` and store them in ```y```.\n",
    "\n",
    "(c) Select all of the numbers in ```G``` that are either less than ```-50``` or greater than ```50``` and store them in ```z```."
   ]
  },
  {
   "cell_type": "code",
   "execution_count": 23,
   "metadata": {},
   "outputs": [
    {
     "name": "stdout",
     "output_type": "stream",
     "text": [
      "[  5.   -4.7  99.   50.    6.   -1.    0.   50.  -78.   27.   10. ]\n",
      "[ 5. 99. 50.  6. 50. 27. 10.]\n",
      "[ 5.  6. 27. 10.]\n",
      "[ 99. -78.]\n"
     ]
    }
   ],
   "source": [
    "G = np.array([5, -4.7, 99, 50, 6, -1, 0, 50, -78, 27, 10])\n",
    "\n",
    "print(G)\n",
    "\n",
    "# (a)\n",
    "x = G[F>0]\n",
    "print(x)\n",
    "\n",
    "# (b)\n",
    "m1 = np.logical_and(0<G,G<30)\n",
    "y = F[m1]\n",
    "print(y)\n",
    "\n",
    "# (c)\n",
    "m2 = np.logical_or(G<-50,50<G)\n",
    "z = F[m2]\n",
    "print(z)"
   ]
  },
  {
   "cell_type": "markdown",
   "metadata": {},
   "source": [
    "Q05.35 Define an integer ```c``` which is a random integer between ```100``` and ```999``` (including ```100``` and ```999```)\n",
    "\n",
    "(a) pull the first digit out of ```c``` and assign it to the variable ```x```\n",
    "\n",
    "(b) pull the second digit out of ```c``` and assign it to the variable ```y```\n",
    "\n",
    "(c) pull the third digit out of ```c``` and assign it to the variable ```z```."
   ]
  },
  {
   "cell_type": "code",
   "execution_count": 24,
   "metadata": {},
   "outputs": [
    {
     "name": "stdout",
     "output_type": "stream",
     "text": [
      "[951]\n",
      "[951]\n",
      "9\n",
      "5\n",
      "1\n"
     ]
    }
   ],
   "source": [
    "c = np.random.randint(100,1000,1)\n",
    "print(c)\n",
    "\n",
    "# (a)\n",
    "s = np.array2string(c)\n",
    "print(s)\n",
    "x = s[1]\n",
    "print(x)\n",
    "\n",
    "# (b)\n",
    "y = s[2]\n",
    "print(y)\n",
    "\n",
    "# (c)\n",
    "z = s[3]\n",
    "print(z)"
   ]
  },
  {
   "cell_type": "markdown",
   "metadata": {},
   "source": [
    "#### Meshgrids"
   ]
  },
  {
   "cell_type": "markdown",
   "metadata": {},
   "source": [
    "Q05.40 Create two 2D arrays from the two 1D arrays below using NumPy's ```np.meshgrid()``` function. \n",
    "\n",
    "```text\n",
    "\n",
    "x = [0.0, 0.1, 0.2, 0.3, 0.4, 0.5]\n",
    "\n",
    "y = [0, 2, 4, 6]\n",
    "```"
   ]
  },
  {
   "cell_type": "code",
   "execution_count": 25,
   "metadata": {},
   "outputs": [
    {
     "name": "stdout",
     "output_type": "stream",
     "text": [
      "[[0.  0.1 0.2 0.3 0.4 0.5]\n",
      " [0.  0.1 0.2 0.3 0.4 0.5]\n",
      " [0.  0.1 0.2 0.3 0.4 0.5]\n",
      " [0.  0.1 0.2 0.3 0.4 0.5]]\n",
      "[[0 0 0 0 0 0]\n",
      " [2 2 2 2 2 2]\n",
      " [4 4 4 4 4 4]\n",
      " [6 6 6 6 6 6]]\n"
     ]
    }
   ],
   "source": [
    "x = [0.0, 0.1, 0.2, 0.3, 0.4, 0.5]\n",
    "\n",
    "y = [0, 2, 4, 6]\n",
    "\n",
    "X1, Y1 = np.meshgrid(x,y)\n",
    "print(X1)\n",
    "print(Y1)"
   ]
  },
  {
   "cell_type": "markdown",
   "metadata": {},
   "source": [
    "Q05.41 Create a meshgrid of the two arrays below:\n",
    "\n",
    "```text\n",
    "\n",
    "x = [1, 2, 3, 4, 5, 6, 7, 8, 9, 10]\n",
    "\n",
    "y = [1, 2, 3, 4, 5, 6, 7, 8, 9, 10]\n",
    "```\n",
    "\n",
    "Use element-wise multiplication to multiply each element in the first resulting 2D array with the corresponding element is the second array to build a multiplication table."
   ]
  },
  {
   "cell_type": "code",
   "execution_count": 26,
   "metadata": {},
   "outputs": [
    {
     "name": "stdout",
     "output_type": "stream",
     "text": [
      "[[ 1  2  3  4  5  6  7  8  9 10]\n",
      " [ 1  2  3  4  5  6  7  8  9 10]\n",
      " [ 1  2  3  4  5  6  7  8  9 10]\n",
      " [ 1  2  3  4  5  6  7  8  9 10]\n",
      " [ 1  2  3  4  5  6  7  8  9 10]\n",
      " [ 1  2  3  4  5  6  7  8  9 10]\n",
      " [ 1  2  3  4  5  6  7  8  9 10]\n",
      " [ 1  2  3  4  5  6  7  8  9 10]\n",
      " [ 1  2  3  4  5  6  7  8  9 10]\n",
      " [ 1  2  3  4  5  6  7  8  9 10]]\n",
      "[[ 1  1  1  1  1  1  1  1  1  1]\n",
      " [ 2  2  2  2  2  2  2  2  2  2]\n",
      " [ 3  3  3  3  3  3  3  3  3  3]\n",
      " [ 4  4  4  4  4  4  4  4  4  4]\n",
      " [ 5  5  5  5  5  5  5  5  5  5]\n",
      " [ 6  6  6  6  6  6  6  6  6  6]\n",
      " [ 7  7  7  7  7  7  7  7  7  7]\n",
      " [ 8  8  8  8  8  8  8  8  8  8]\n",
      " [ 9  9  9  9  9  9  9  9  9  9]\n",
      " [10 10 10 10 10 10 10 10 10 10]]\n",
      "[[  1   2   3   4   5   6   7   8   9  10]\n",
      " [  2   4   6   8  10  12  14  16  18  20]\n",
      " [  3   6   9  12  15  18  21  24  27  30]\n",
      " [  4   8  12  16  20  24  28  32  36  40]\n",
      " [  5  10  15  20  25  30  35  40  45  50]\n",
      " [  6  12  18  24  30  36  42  48  54  60]\n",
      " [  7  14  21  28  35  42  49  56  63  70]\n",
      " [  8  16  24  32  40  48  56  64  72  80]\n",
      " [  9  18  27  36  45  54  63  72  81  90]\n",
      " [ 10  20  30  40  50  60  70  80  90 100]]\n"
     ]
    }
   ],
   "source": [
    "x = [1, 2, 3, 4, 5, 6, 7, 8, 9, 10]\n",
    "\n",
    "y = [1, 2, 3, 4, 5, 6, 7, 8, 9, 10]\n",
    "\n",
    "X1, Y1 = np.meshgrid(x,y)\n",
    "print(X1)\n",
    "print(Y1)\n",
    "\n",
    "prod = X1*Y1\n",
    "print(prod)"
   ]
  },
  {
   "cell_type": "markdown",
   "metadata": {},
   "source": [
    "#### Array Operations"
   ]
  },
  {
   "cell_type": "markdown",
   "metadata": {},
   "source": [
    "Q05.50 Create the two arrays below and perform each calculation.\n",
    "\n",
    "```a = [2 4 6]```\n",
    "\n",
    "```b = [-1 0 1]```\n",
    "\n",
    "(a) $a + b$\n",
    "\n",
    "(b) $1.5a -2b$\n",
    "\n",
    "(c) $0.5ab$\n",
    "\n",
    "(d) $\\frac{b^2}{a}$"
   ]
  },
  {
   "cell_type": "code",
   "execution_count": 27,
   "metadata": {},
   "outputs": [
    {
     "name": "stdout",
     "output_type": "stream",
     "text": [
      "[1 4 7]\n",
      "[5. 6. 7.]\n",
      "[-1.  0.  3.]\n",
      "[0.5        0.         0.16666667]\n"
     ]
    }
   ],
   "source": [
    "a = np.array([2, 4, 6])\n",
    "\n",
    "b = np.array([-1, 0, 1])\n",
    "\n",
    "# (a)\n",
    "ans1 = a + b\n",
    "print(ans1)\n",
    "\n",
    "# (b)\n",
    "ans2 = 1.5*a - 2*b\n",
    "print(ans2)\n",
    "\n",
    "# (c)\n",
    "ans3 = 0.5*a*b\n",
    "print(ans3)\n",
    "\n",
    "# (d)\n",
    "ans4 = b**2/a\n",
    "print(ans4)"
   ]
  },
  {
   "cell_type": "markdown",
   "metadata": {},
   "source": [
    "Q05.51 Create an array of angles between (and including) 0 and 2$\\pi$ radians in increments of $\\pi/2$ radians.\n",
    "\n",
    "(a) Calculate the sine of each angle in the array\n",
    "\n",
    "(b) Calculate the cosine of each angle in the array\n",
    "\n",
    "(c) Convert each angle in the array to degrees"
   ]
  },
  {
   "cell_type": "code",
   "execution_count": 28,
   "metadata": {},
   "outputs": [
    {
     "name": "stdout",
     "output_type": "stream",
     "text": [
      "[0.         1.57079633 3.14159265 4.71238898 6.28318531]\n",
      "[ 0.0000000e+00  1.0000000e+00  1.2246468e-16 -1.0000000e+00\n",
      " -2.4492936e-16]\n",
      "[ 1.0000000e+00  6.1232340e-17 -1.0000000e+00 -1.8369702e-16\n",
      "  1.0000000e+00]\n",
      "[  0.  90. 180. 270. 360.]\n"
     ]
    }
   ],
   "source": [
    "a = np.arange(0,2*np.pi+np.pi/2,np.pi/2)\n",
    "print(a)\n",
    "\n",
    "# (a)\n",
    "ans1 = np.sin(a)\n",
    "print(ans1)\n",
    "\n",
    "# (b)\n",
    "ans2 = np.cos(a)\n",
    "print(ans2)\n",
    "\n",
    "# (c)\n",
    "ans3 = np.degrees(a)\n",
    "print(ans3)"
   ]
  },
  {
   "cell_type": "markdown",
   "metadata": {},
   "source": [
    "Q05.52 Create the two arrays ```F1```, ```F2``` below and then perform the following operations.\n",
    "\n",
    "```F1 = [-1, 0, 2]```\n",
    "\n",
    "```F2 = [5, -2, 0]```\n",
    "\n",
    "(a) Calculate the dot product of ```F1``` and ```F2```\n",
    "\n",
    "(b) Calculate cross product of ```F1``` and ```F2```\n",
    "\n",
    "(c) Calculate the element-wise product (element-wise multiplication of ```F1``` and ```F2```)"
   ]
  },
  {
   "cell_type": "code",
   "execution_count": 29,
   "metadata": {},
   "outputs": [
    {
     "name": "stdout",
     "output_type": "stream",
     "text": [
      "[2 4 6]\n",
      "[-1  0  1]\n",
      "4\n",
      "[ 4 -8  4]\n",
      "[-2  0  6]\n"
     ]
    }
   ],
   "source": [
    "F1 = np.array([2, 4, 6])\n",
    "\n",
    "F2 = np.array([-1, 0, 1])\n",
    "\n",
    "print(F1)\n",
    "print(F2)\n",
    "\n",
    "# (a)\n",
    "ans1 = np.dot(F1,F2)\n",
    "print(ans1)\n",
    "\n",
    "# (b)\n",
    "ans2 = np.cross(F1,F2)\n",
    "print(ans2)\n",
    "\n",
    "# (c)\n",
    "ans3 = F1*F2\n",
    "print(ans3)"
   ]
  },
  {
   "cell_type": "markdown",
   "metadata": {},
   "source": [
    "Q05.53 Compute all possible prices of flooring that can have lengths of ```2```, ```4```, ```6```, and ```8``` meters and widths of ```1```, ```1.5```, and ```2``` meters if the flooring costs \\$32.19 per square meter. Store the result in a 2D array. The lengths should increase from top to bottom and widths should increase from left to right."
   ]
  },
  {
   "cell_type": "code",
   "execution_count": 30,
   "metadata": {},
   "outputs": [
    {
     "name": "stdout",
     "output_type": "stream",
     "text": [
      "[[2 2 2]\n",
      " [4 4 4]\n",
      " [6 6 6]\n",
      " [8 8 8]]\n",
      "[[1.  1.5 2. ]\n",
      " [1.  1.5 2. ]\n",
      " [1.  1.5 2. ]\n",
      " [1.  1.5 2. ]]\n",
      "[[ 64.38  96.57 128.76]\n",
      " [128.76 193.14 257.52]\n",
      " [193.14 289.71 386.28]\n",
      " [257.52 386.28 515.04]]\n"
     ]
    }
   ],
   "source": [
    "l = np.array([2,4,6,8])\n",
    "w = np.array([1,1.5,2])\n",
    "\n",
    "W,L = np.meshgrid(w,l)\n",
    "print(L)\n",
    "print(W)\n",
    "\n",
    "prices = L*W*32.19\n",
    "print(prices)"
   ]
  },
  {
   "cell_type": "markdown",
   "metadata": {},
   "source": [
    "Q05.54 Create array ```H``` defined by the code below:\n",
    "\n",
    "```H = np.array([-5, 10, 12, 500, 20, 10, -46, 16])```\n",
    "\n",
    "(a) Create a boolean array ```x``` based on the variable ```H```.  ```x``` should be ```True``` everywhere ```H``` equals ```10``` and ```False``` everywhere else.\n",
    "\n",
    "(b) Create a boolean array ```y``` based on the variable ```H```.  ```y``` should be ```True``` everywhere ```H``` is not equal to ```10```.  ```y``` should be ```False``` everywhere else.\n",
    "\n",
    "(c) Create a boolean array ```z``` based on the variable ```H```.  ```z``` should be ```True``` everywhere ```H``` is less than or equal to ```20```.  ```z``` should be ```False``` everywhere else."
   ]
  },
  {
   "cell_type": "code",
   "execution_count": 31,
   "metadata": {},
   "outputs": [
    {
     "name": "stdout",
     "output_type": "stream",
     "text": [
      "[ -5  10  12 500  20  10 -46  16]\n",
      "[False  True False False False  True False False]\n",
      "[ True False  True  True  True False  True  True]\n",
      "[ True  True  True False  True  True  True  True]\n"
     ]
    }
   ],
   "source": [
    "H = np.array([-5, 10, 12, 500, 20, 10, -46, 16])\n",
    "\n",
    "print(H)\n",
    "\n",
    "# (a)\n",
    "x = H==10\n",
    "print(x)\n",
    "\n",
    "# (b)\n",
    "y = H!=10\n",
    "print(y)\n",
    "\n",
    "# (c)\n",
    "z = H<=20\n",
    "print(z)"
   ]
  },
  {
   "cell_type": "markdown",
   "metadata": {},
   "source": [
    "Q05.55 Create array ```J``` using the code below:\n",
    "\n",
    "```\n",
    "J = np.array(range(7*5)).reshape((7, 5))\n",
    "J[4, 3] = 500\n",
    "```\n",
    "\n",
    "(a) Store the row index of the number ```500``` in a variable called ```row_500```.\n",
    "\n",
    "(b) Store the column index of the number ```500``` in a variable called ```col_500```."
   ]
  },
  {
   "cell_type": "code",
   "execution_count": 32,
   "metadata": {},
   "outputs": [
    {
     "name": "stdout",
     "output_type": "stream",
     "text": [
      "[[  0   1   2   3   4]\n",
      " [  5   6   7   8   9]\n",
      " [ 10  11  12  13  14]\n",
      " [ 15  16  17  18  19]\n",
      " [ 20  21  22 500  24]\n",
      " [ 25  26  27  28  29]\n",
      " [ 30  31  32  33  34]]\n",
      "4\n",
      "3\n"
     ]
    }
   ],
   "source": [
    "J = np.array(range(7*5)).reshape((7, 5))\n",
    "J[4, 3] = 500\n",
    "print(J)\n",
    "\n",
    "# (a)\n",
    "row_col = np.where(J==500)\n",
    "row_500 = row_col[0][0]\n",
    "print(row_500)\n",
    "\n",
    "# (b)\n",
    "row_col = np.where(J==500)\n",
    "col_500 = row_col[1][0]\n",
    "print(col_500)"
   ]
  },
  {
   "cell_type": "markdown",
   "metadata": {},
   "source": [
    "Q05.56 Create array ```K``` using the code below:\n",
    "\n",
    "```\n",
    "K = np.random.randint(100, 500, 7*7).reshape(7, 7)\n",
    "K[2, 6] = 250\n",
    "```\n",
    "\n",
    "(a) Extract all of the values from ```K``` that are greater or equal to ```250``` and store them in an array called ```x```. \n",
    "\n",
    "(b) Extract all of the values from ```K``` that are less than ```250``` and store them in an array called ```y```.\n",
    "\n",
    "(c) Programmatically determine which column and which row the number ```250``` is stored inside of array ```K```."
   ]
  },
  {
   "cell_type": "code",
   "execution_count": 33,
   "metadata": {},
   "outputs": [
    {
     "name": "stdout",
     "output_type": "stream",
     "text": [
      "[[241 147 408 204 410 176 232]\n",
      " [399 156 361 496 187 245 494]\n",
      " [162 238 343 139 309 244 250]\n",
      " [148 481 388 484 235 302 173]\n",
      " [391 326 457 160 311 462 153]\n",
      " [210 134 495 304 450 287 138]\n",
      " [251 356 467 443 116 467 480]]\n",
      "[408 410 399 361 496 494 343 309 250 481 388 484 302 391 326 457 311 462\n",
      " 495 304 450 287 251 356 467 443 467 480]\n",
      "[241 147 204 176 232 156 187 245 162 238 139 244 148 235 173 160 153 210\n",
      " 134 138 116]\n",
      "row: 2\n",
      "col 6\n"
     ]
    }
   ],
   "source": [
    "K = np.random.randint(100, 500, 7*7).reshape(7, 7)\n",
    "K[2, 6] = 250\n",
    "print(K)\n",
    "\n",
    "# (a)\n",
    "m1 = K>=250\n",
    "x = K[m1]\n",
    "print(x)\n",
    "\n",
    "# (b)\n",
    "m2 = K<250\n",
    "y = K[m2]\n",
    "print(y)\n",
    "\n",
    "# (c)\n",
    "loc_row_col = np.where(K==250)\n",
    "row = loc_row_col[0][0]\n",
    "print(\"row:\", row)\n",
    "col = loc_row_col[1][0]\n",
    "print(\"col\", col)"
   ]
  },
  {
   "cell_type": "markdown",
   "metadata": {},
   "source": [
    "#### Systems of Linear Equations"
   ]
  },
  {
   "cell_type": "markdown",
   "metadata": {},
   "source": [
    "Q05.70 Use the system of linear equations below to calculate the values of $x$ and $y$.\n",
    "\n",
    "$$ 4x - 2y = -42 $$\n",
    "\n",
    "$$ -6x + y = 31 $$"
   ]
  },
  {
   "cell_type": "code",
   "execution_count": 34,
   "metadata": {},
   "outputs": [
    {
     "name": "stdout",
     "output_type": "stream",
     "text": [
      "x= -2.5\n",
      "y= 16.0\n",
      "check 1st equation:  -42.0\n",
      "check 2nd equation:  31.0\n"
     ]
    }
   ],
   "source": [
    "A = np.array([[4, -2], [-6, 1]])\n",
    "b = np.array([-42, 31])\n",
    "ans = np.linalg.solve(A, b)\n",
    "x = ans[0]\n",
    "print(\"x=\", x)\n",
    "y = ans[1]\n",
    "print(\"y=\", y)\n",
    "check1 = 4*x - 2*y\n",
    "print(\"check 1st equation: \", check1)\n",
    "check2 = -6*x + y\n",
    "print(\"check 2nd equation: \", check2)"
   ]
  },
  {
   "cell_type": "markdown",
   "metadata": {},
   "source": [
    "Q05.71 Use the system of linear equations below to calculate the values of $x$, $y$, and $z$.\n",
    "\n",
    "$$ \\frac{x}{2} +2y - z = 5 $$\n",
    "\n",
    "$$ x + 3y - 4z = -1 $$\n",
    "\n",
    "$$ -x - 3y + 2z = -5 $$"
   ]
  },
  {
   "cell_type": "code",
   "execution_count": 35,
   "metadata": {},
   "outputs": [
    {
     "name": "stdout",
     "output_type": "stream",
     "text": [
      "x= -4.0\n",
      "y= 5.0\n",
      "z= 3.0\n",
      "check 1st equation:  5.0\n",
      "check 2nd equation:  -1.0\n",
      "check 3nd equation:  -5.0\n"
     ]
    }
   ],
   "source": [
    "A = np.array([[1/2, 2, -1], [1, 3, -4], [-1, -3, 2]])\n",
    "b = np.array([5, -1, -5])\n",
    "ans = np.linalg.solve(A, b)\n",
    "x = ans[0]\n",
    "print(\"x=\", x)\n",
    "y = ans[1]\n",
    "print(\"y=\", y)\n",
    "z = ans[2]\n",
    "print(\"z=\", z)\n",
    "\n",
    "check1 = 0.5*x + 2*y - z\n",
    "print(\"check 1st equation: \", check1)\n",
    "check2 = x + 3*y - 4*z\n",
    "print(\"check 2nd equation: \", check2)\n",
    "check3 = -x + -3*y + 2*z\n",
    "print(\"check 3nd equation: \", check3)"
   ]
  },
  {
   "cell_type": "markdown",
   "metadata": {},
   "source": [
    "Q05.72 Use the system of linear equations below to calculate the values of $F_1$, $F_2$, and $F_3$.\n",
    "\n",
    "$$ 2F_1 + 3F_2 - F_3 = -9 $$\n",
    "\n",
    "$$ -F_1 + 2F_2 + 5F_3 = -20 $$\n",
    "\n",
    "$$ F_1 - F_2 - F_3 = 1 $$"
   ]
  },
  {
   "cell_type": "code",
   "execution_count": 36,
   "metadata": {},
   "outputs": [
    {
     "name": "stdout",
     "output_type": "stream",
     "text": [
      "F1= -6.526315789473685\n",
      "F2= -0.36842105263157887\n",
      "F3= -5.157894736842105\n",
      "check 1st equation:  -9.0\n",
      "check 2nd equation:  -20.0\n",
      "check 3nd equation:  -1.0000000000000009\n"
     ]
    }
   ],
   "source": [
    "A = np.array([[2, 3, -1], [-1, 2, 5], [1, -1, -1]])\n",
    "b = np.array([-9, -20, -1])\n",
    "ans = np.linalg.solve(A, b)\n",
    "F1 = ans[0]\n",
    "print(\"F1=\", F1)\n",
    "F2 = ans[1]\n",
    "print(\"F2=\", F2)\n",
    "F3 = ans[2]\n",
    "print(\"F3=\", F3)\n",
    "\n",
    "check1 = 2*F1 + 3*F2 -1*F3\n",
    "print(\"check 1st equation: \", check1)\n",
    "check2 = -1*F1 + 2*F2 + 5*F3\n",
    "print(\"check 2nd equation: \", check2)\n",
    "check3 = F1 - F2 - F3\n",
    "print(\"check 3nd equation: \", check3)"
   ]
  }
 ],
 "metadata": {
  "kernelspec": {
   "display_name": "Python 3",
   "language": "python",
   "name": "python3"
  },
  "language_info": {
   "codemirror_mode": {
    "name": "ipython",
    "version": 3
   },
   "file_extension": ".py",
   "mimetype": "text/x-python",
   "name": "python",
   "nbconvert_exporter": "python",
   "pygments_lexer": "ipython3",
   "version": "3.8.5"
  }
 },
 "nbformat": 4,
 "nbformat_minor": 2
}
