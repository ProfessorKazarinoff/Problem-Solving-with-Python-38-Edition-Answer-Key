{
 "cells": [
  {
   "cell_type": "markdown",
   "metadata": {},
   "source": [
    "## Review Questions"
   ]
  },
  {
   "cell_type": "markdown",
   "metadata": {
    "latex": {
     "environment": "problems"
    }
   },
   "source": [
    "#### Determine the Data Type\n",
    "\n",
    "Q04.01 Find the data type of ```a``` if ```a=9```"
   ]
  },
  {
   "cell_type": "code",
   "execution_count": 1,
   "metadata": {},
   "outputs": [
    {
     "data": {
      "text/plain": [
       "int"
      ]
     },
     "execution_count": 1,
     "metadata": {},
     "output_type": "execute_result"
    }
   ],
   "source": [
    "type(9)"
   ]
  },
  {
   "cell_type": "markdown",
   "metadata": {
    "latex": {
     "environment": "problems"
    }
   },
   "source": [
    "Q04.02 Find the data type of ```a``` if ```a=9.```  (note the ```.``` after the number 9)"
   ]
  },
  {
   "cell_type": "code",
   "execution_count": 2,
   "metadata": {},
   "outputs": [
    {
     "data": {
      "text/plain": [
       "float"
      ]
     },
     "execution_count": 2,
     "metadata": {},
     "output_type": "execute_result"
    }
   ],
   "source": [
    "type(9.)"
   ]
  },
  {
   "cell_type": "markdown",
   "metadata": {
    "latex": {
     "environment": "problems"
    }
   },
   "source": [
    "Q04.03 Find the data type of ```a``` if ```a='9.'```"
   ]
  },
  {
   "cell_type": "code",
   "execution_count": 3,
   "metadata": {},
   "outputs": [
    {
     "data": {
      "text/plain": [
       "str"
      ]
     },
     "execution_count": 3,
     "metadata": {},
     "output_type": "execute_result"
    }
   ],
   "source": [
    "type('9.')"
   ]
  },
  {
   "cell_type": "markdown",
   "metadata": {
    "latex": {
     "environment": "problems"
    }
   },
   "source": [
    "Q04.04 Find the data type of ```a``` if ```a=(9)```"
   ]
  },
  {
   "cell_type": "code",
   "execution_count": 4,
   "metadata": {},
   "outputs": [
    {
     "data": {
      "text/plain": [
       "int"
      ]
     },
     "execution_count": 4,
     "metadata": {},
     "output_type": "execute_result"
    }
   ],
   "source": [
    "type((9))"
   ]
  },
  {
   "cell_type": "markdown",
   "metadata": {
    "latex": {
     "environment": "problems"
    }
   },
   "source": [
    "Q04.05 Find the data type of ```a``` if ```a=False```"
   ]
  },
  {
   "cell_type": "code",
   "execution_count": 5,
   "metadata": {},
   "outputs": [
    {
     "data": {
      "text/plain": [
       "bool"
      ]
     },
     "execution_count": 5,
     "metadata": {},
     "output_type": "execute_result"
    }
   ],
   "source": [
    "type(False)"
   ]
  },
  {
   "cell_type": "markdown",
   "metadata": {
    "latex": {
     "environment": "problems"
    }
   },
   "source": [
    "Q04.06 Find the data type of ```a``` if ```a=[1,2,3]```"
   ]
  },
  {
   "cell_type": "code",
   "execution_count": 6,
   "metadata": {},
   "outputs": [
    {
     "data": {
      "text/plain": [
       "list"
      ]
     },
     "execution_count": 6,
     "metadata": {},
     "output_type": "execute_result"
    }
   ],
   "source": [
    "type([1,2,3])"
   ]
  },
  {
   "cell_type": "markdown",
   "metadata": {
    "latex": {
     "environment": "problems"
    }
   },
   "source": [
    "Q04.07 Find the data type of ```a``` if ```a=(1,2,3)```"
   ]
  },
  {
   "cell_type": "code",
   "execution_count": 7,
   "metadata": {},
   "outputs": [
    {
     "data": {
      "text/plain": [
       "tuple"
      ]
     },
     "execution_count": 7,
     "metadata": {},
     "output_type": "execute_result"
    }
   ],
   "source": [
    "type((1,2,3))"
   ]
  },
  {
   "cell_type": "markdown",
   "metadata": {
    "latex": {
     "environment": "problems"
    }
   },
   "source": [
    "Q04.08 Find the data type of ```a``` if ```a={'key': 9}```"
   ]
  },
  {
   "cell_type": "code",
   "execution_count": 8,
   "metadata": {},
   "outputs": [
    {
     "data": {
      "text/plain": [
       "dict"
      ]
     },
     "execution_count": 8,
     "metadata": {},
     "output_type": "execute_result"
    }
   ],
   "source": [
    "type({'key': 9})"
   ]
  },
  {
   "cell_type": "markdown",
   "metadata": {
    "latex": {
     "environment": "problems"
    }
   },
   "source": [
    "Q04.09 Find the data type of ```a``` if ```a=1 + 9j```"
   ]
  },
  {
   "cell_type": "code",
   "execution_count": 9,
   "metadata": {},
   "outputs": [
    {
     "data": {
      "text/plain": [
       "complex"
      ]
     },
     "execution_count": 9,
     "metadata": {},
     "output_type": "execute_result"
    }
   ],
   "source": [
    "type(1 + 9j)"
   ]
  },
  {
   "cell_type": "markdown",
   "metadata": {},
   "source": [
    "#### Numeric Data Types"
   ]
  },
  {
   "cell_type": "markdown",
   "metadata": {},
   "source": [
    "Q04.10 Set ```a=1``` and ```b=2```. What data type is ```a/b```?"
   ]
  },
  {
   "cell_type": "code",
   "execution_count": 10,
   "metadata": {},
   "outputs": [
    {
     "data": {
      "text/plain": [
       "float"
      ]
     },
     "execution_count": 10,
     "metadata": {},
     "output_type": "execute_result"
    }
   ],
   "source": [
    "a = 1\n",
    "b = 2\n",
    "type(a/b)  #a/b is a float"
   ]
  },
  {
   "cell_type": "markdown",
   "metadata": {},
   "source": [
    "Q04.11 Set ```a=1``` and ```b=2```. What data type is ```a*b```?"
   ]
  },
  {
   "cell_type": "code",
   "execution_count": 11,
   "metadata": {},
   "outputs": [
    {
     "data": {
      "text/plain": [
       "int"
      ]
     },
     "execution_count": 11,
     "metadata": {},
     "output_type": "execute_result"
    }
   ],
   "source": [
    "a = 1\n",
    "b = 2\n",
    "type(a*b) # a*b is an int"
   ]
  },
  {
   "cell_type": "markdown",
   "metadata": {},
   "source": [
    "Q04.12 What is ```5.1``` plus ```0 + 3j```? Complete this calculation by defining one variable as a floating point number and another variable as a complex number."
   ]
  },
  {
   "cell_type": "code",
   "execution_count": 12,
   "metadata": {},
   "outputs": [
    {
     "data": {
      "text/plain": [
       "(5.1+3j)"
      ]
     },
     "execution_count": 12,
     "metadata": {},
     "output_type": "execute_result"
    }
   ],
   "source": [
    "a = 5.1\n",
    "b = 0 + 3j\n",
    "a + b"
   ]
  },
  {
   "cell_type": "markdown",
   "metadata": {},
   "source": [
    "Q04.13 What floating point number converts to the boolean ```False```? Show this in code using the ```bool()``` function."
   ]
  },
  {
   "cell_type": "code",
   "execution_count": 13,
   "metadata": {},
   "outputs": [
    {
     "name": "stdout",
     "output_type": "stream",
     "text": [
      "<class 'float'>\n"
     ]
    },
    {
     "data": {
      "text/plain": [
       "False"
      ]
     },
     "execution_count": 13,
     "metadata": {},
     "output_type": "execute_result"
    }
   ],
   "source": [
    "print(type(0.0))\n",
    "bool(0.0)"
   ]
  },
  {
   "cell_type": "markdown",
   "metadata": {},
   "source": [
    "Q04.14 Create the floating point number $0.001 \\times 10^{-0.2}$ and assign it to the variable ```b```."
   ]
  },
  {
   "cell_type": "code",
   "execution_count": 14,
   "metadata": {},
   "outputs": [
    {
     "name": "stdout",
     "output_type": "stream",
     "text": [
      "0.0006309573444801933\n"
     ]
    }
   ],
   "source": [
    "b = 0.001*10**(-0.2)\n",
    "print(b)"
   ]
  },
  {
   "cell_type": "markdown",
   "metadata": {},
   "source": [
    "Q04.15 Show that ```3e2``` is equivalent to ```3E2``` with the comparison operator ```==```"
   ]
  },
  {
   "cell_type": "code",
   "execution_count": 15,
   "metadata": {},
   "outputs": [
    {
     "data": {
      "text/plain": [
       "True"
      ]
     },
     "execution_count": 15,
     "metadata": {},
     "output_type": "execute_result"
    }
   ],
   "source": [
    "3e2 == 3E2"
   ]
  },
  {
   "cell_type": "markdown",
   "metadata": {},
   "source": [
    "Q04.16 Euler's number, $e$, can be called in Python using the code below:\n",
    "\n",
    "```\n",
    "from math import e\n",
    "```\n",
    "\n",
    "(a) Round $e$ to the nearest integer. Store the result in a variable called ```x```.\n",
    "\n",
    "(b) Round $e$ to the nearest 1000ths place (the nearest 0.001). Store the result in a variable called ```y```.\n",
    "\n",
    "(c) Truncate the decimal portion of $e$ (remove the 0.71828.... portion) so you are left with the integer ```2```. Store the result in a variable called ```z```. Hint: convert $e$ to a string and use string slicing."
   ]
  },
  {
   "cell_type": "code",
   "execution_count": 16,
   "metadata": {},
   "outputs": [
    {
     "name": "stdout",
     "output_type": "stream",
     "text": [
      "3\n",
      "2.718\n",
      "2\n"
     ]
    }
   ],
   "source": [
    "from math import e\n",
    "# (a)\n",
    "x = int(round(e,0))\n",
    "print(x)\n",
    "\n",
    "# (b)\n",
    "y = round(e,3)\n",
    "print(y)\n",
    "\n",
    "# (c)\n",
    "s = str(e)\n",
    "s_trunc = s[0]\n",
    "z = int(s_trunc)\n",
    "print(z)"
   ]
  },
  {
   "cell_type": "markdown",
   "metadata": {},
   "source": [
    "Q04.17 Define the complex number ```A``` using the code below:\n",
    "\n",
    "```A = 4 + 2j```\n",
    "\n",
    "(a) store the real component of ```A``` in a variable called ```real```.\n",
    "\n",
    "(b) store the imaginary component of ```A``` in a variable called ```imaginary```.\n",
    "\n",
    "(c) store the magnitude of ```A``` in a variable called ```mag```. The magnitude of an imaginary number is defined as:\n",
    "\n",
    "$$ magnitude = \\sqrt{(real)^2+(imaginary)^2} $$"
   ]
  },
  {
   "cell_type": "code",
   "execution_count": 17,
   "metadata": {},
   "outputs": [
    {
     "name": "stdout",
     "output_type": "stream",
     "text": [
      "4.0\n",
      "2.0\n",
      "4.47213595499958\n"
     ]
    }
   ],
   "source": [
    "A = 4 + 2j\n",
    "\n",
    "# (a)\n",
    "real = A.real\n",
    "print(real)\n",
    "\n",
    "# (b)\n",
    "imaginary = A.imag\n",
    "print(imaginary)\n",
    "\n",
    "# (c)\n",
    "magnitude = (real**2+imaginary**2)**0.5\n",
    "print(magnitude)"
   ]
  },
  {
   "cell_type": "markdown",
   "metadata": {},
   "source": [
    "#### Booleans"
   ]
  },
  {
   "cell_type": "markdown",
   "metadata": {},
   "source": [
    "Q04.20 Predict the output if the lines ```n=5``` and ```(n<3) and (n<7)``` are run. Then run the the two lines of code."
   ]
  },
  {
   "cell_type": "code",
   "execution_count": 18,
   "metadata": {},
   "outputs": [
    {
     "data": {
      "text/plain": [
       "False"
      ]
     },
     "execution_count": 18,
     "metadata": {},
     "output_type": "execute_result"
    }
   ],
   "source": [
    "# 5<3 is False, 5<7 is False, False and False is False\n",
    "n=5\n",
    "(n<3) and (n<7)"
   ]
  },
  {
   "cell_type": "markdown",
   "metadata": {},
   "source": [
    "Q04.21 Predict the output if the lines of code below are run. Then run the code.\n",
    "\n",
    "```python\n",
    ">>> ans='Yes'\n",
    ">>> ans=='Yes' or ans=='No'\n",
    "```"
   ]
  },
  {
   "cell_type": "code",
   "execution_count": 19,
   "metadata": {},
   "outputs": [
    {
     "data": {
      "text/plain": [
       "True"
      ]
     },
     "execution_count": 19,
     "metadata": {},
     "output_type": "execute_result"
    }
   ],
   "source": [
    "# \"Yes\"==\"Yes\" is True, \"Yes\"==\"No\" is False, True or False is True\n",
    "ans='Yes'\n",
    "ans=='Yes' or ans=='No'"
   ]
  },
  {
   "cell_type": "markdown",
   "metadata": {},
   "source": [
    "Q04.22 Pick a number ```n``` to make the following statement ```True```: ```(2<n) or (n==2+n)``` Then run the code to show your number works."
   ]
  },
  {
   "cell_type": "code",
   "execution_count": 20,
   "metadata": {},
   "outputs": [
    {
     "name": "stdout",
     "output_type": "stream",
     "text": [
      "True\n"
     ]
    }
   ],
   "source": [
    "# n=3, since the logical operator is or, only one of the statements needs to be True.\n",
    "n=3\n",
    "print((2<n) or (n==2+n))"
   ]
  },
  {
   "cell_type": "markdown",
   "metadata": {},
   "source": [
    "Q04.23 Pick a number ```n``` to make the following statement ```False```: ```not (n<6) and (n<4)``` Then run the code to show your number works."
   ]
  },
  {
   "cell_type": "code",
   "execution_count": 21,
   "metadata": {},
   "outputs": [
    {
     "name": "stdout",
     "output_type": "stream",
     "text": [
      "False\n",
      "False\n"
     ]
    }
   ],
   "source": [
    "# n=3, since both 3<6 and 3<4 are both False, n=5 works as well, since n<6 is False and n<4 is True\n",
    "n = 3\n",
    "print(not (n<6) and (n<4))\n",
    "n = 5\n",
    "print(not (n<6) and (n<4))"
   ]
  },
  {
   "cell_type": "markdown",
   "metadata": {},
   "source": [
    "Q04.24 Add the integers ```1``` and ```0``` and convert the answer to a boolean. Add the boolean values ```bool(0) + bool(1)``` and compare the result. "
   ]
  },
  {
   "cell_type": "code",
   "execution_count": 22,
   "metadata": {},
   "outputs": [
    {
     "data": {
      "text/plain": [
       "True"
      ]
     },
     "execution_count": 22,
     "metadata": {},
     "output_type": "execute_result"
    }
   ],
   "source": [
    "a = bool(1+0)\n",
    "b = bool(0)+bool(1)\n",
    "a == b"
   ]
  },
  {
   "cell_type": "markdown",
   "metadata": {},
   "source": [
    "Q04.25 Show that ```(n>5) and (n<=10)``` is equivalent to ```5 < n <= 10``` using the two different numbers for ```n```."
   ]
  },
  {
   "cell_type": "code",
   "execution_count": 23,
   "metadata": {},
   "outputs": [
    {
     "name": "stdout",
     "output_type": "stream",
     "text": [
      "True\n",
      "True\n"
     ]
    }
   ],
   "source": [
    "n = 6\n",
    "print((n>5) and (n<=10)==(5 < n <= 10))\n",
    "n = 10\n",
    "print((n>5) and (n<=10)==(5 < n <= 10))"
   ]
  },
  {
   "cell_type": "markdown",
   "metadata": {},
   "source": [
    "Q04.26 Show that ```(n<5) or (n>=10)``` is equivalent to ```not (5 <= n < 10)``` using the two different numbers for ```n```."
   ]
  },
  {
   "cell_type": "code",
   "execution_count": 24,
   "metadata": {},
   "outputs": [
    {
     "name": "stdout",
     "output_type": "stream",
     "text": [
      "True\n",
      "True\n"
     ]
    }
   ],
   "source": [
    "n = 15\n",
    "print((n<5) or (n>=10) == ( not 5 <= n < 10))\n",
    "n = -3\n",
    "print((n<5) or (n>=10) == ( not 5 <= n < 10))"
   ]
  },
  {
   "cell_type": "markdown",
   "metadata": {},
   "source": [
    "#### Strings"
   ]
  },
  {
   "cell_type": "markdown",
   "metadata": {},
   "source": [
    "Q04.30 Define a string that contains the word $Problem$."
   ]
  },
  {
   "cell_type": "code",
   "execution_count": 25,
   "metadata": {},
   "outputs": [],
   "source": [
    "a = 'Problem'"
   ]
  },
  {
   "cell_type": "markdown",
   "metadata": {},
   "source": [
    "Q04.31 Define one string as the word $Problem$ and define another string as the word $Solving$. Combine these two strings to make the statement $Problem \\ Solving$."
   ]
  },
  {
   "cell_type": "code",
   "execution_count": 26,
   "metadata": {},
   "outputs": [
    {
     "name": "stdout",
     "output_type": "stream",
     "text": [
      "Problem Solving\n"
     ]
    }
   ],
   "source": [
    "a = 'Problem'\n",
    "b = 'Solving'\n",
    "c = a + ' ' + b\n",
    "print(c)"
   ]
  },
  {
   "cell_type": "markdown",
   "metadata": {},
   "source": [
    "Q04.32 (a) Define a string that contains the number $8$ and a string that contains the number $5$. Combine these two strings with the plus operator ```+```.\n",
    "\n",
    " (b) Define an integer as the number $8$ and an integer as the number $5$ and combine these two integers with the plus operator ```+```\n",
    " \n",
    " (c) Explain why the output from (a) was different from the output of (b)\n",
    " \n",
    " (d) Multiply the string $8$ and the integer $5$ with the multiplication operator ```*```.  Compare the output to multiplying the integers $8$ and the integer $5$. Why is the output different?"
   ]
  },
  {
   "cell_type": "code",
   "execution_count": 27,
   "metadata": {},
   "outputs": [
    {
     "name": "stdout",
     "output_type": "stream",
     "text": [
      "85\n",
      "13\n",
      "88888\n",
      "40\n"
     ]
    }
   ],
   "source": [
    "#(a)\n",
    "a = '8'\n",
    "b = '5'\n",
    "print(a+b)\n",
    "\n",
    "#(b)\n",
    "c = 8\n",
    "d = 5\n",
    "print(c+d)\n",
    "\n",
    "#(c)\n",
    "# two strings were added in part (a). The addition operator concatinates, or combines strings. the result is 85\n",
    "# The addition operator adds integers, the result is 13\n",
    "\n",
    "#(d)\n",
    "f = '8'\n",
    "g = 5\n",
    "print(f*g)\n",
    "h = 8\n",
    "k = 5\n",
    "print(h*k)\n",
    "# The output is different, because the multiplication operator repeates a string, resulting is 8 repeated 5 times.\n",
    "# The multiplication operator multiplies integers, resulting in the product 40."
   ]
  },
  {
   "cell_type": "markdown",
   "metadata": {},
   "source": [
    "Q03.33 Complete the following index and slicing operations after ```word = 'Problem'``` is defined.\n",
    "\n",
    "(a) Pull out the letter $P$ from ```word```\n",
    "\n",
    "(b) Pull out the first three letters $Pro$ from ```word```\n",
    "\n",
    "(c) Pull out the second through the fourth letters $rob$ from ```word```\n",
    "\n",
    "(d) Pull out every other letter from ```word``` starting with $P$\n",
    "\n",
    "(e) Use indexing and slicing to output ```word``` backward to produce $melborP$."
   ]
  },
  {
   "cell_type": "code",
   "execution_count": 28,
   "metadata": {},
   "outputs": [
    {
     "name": "stdout",
     "output_type": "stream",
     "text": [
      "P\n",
      "Pro\n",
      "rob\n",
      "Polm\n",
      "melborP\n"
     ]
    }
   ],
   "source": [
    "word = 'Problem'\n",
    "\n",
    "#(a)\n",
    "print(word[0])\n",
    "\n",
    "#(b)\n",
    "print(word[:3])\n",
    "\n",
    "#(c)\n",
    "print(word[1:4])\n",
    "\n",
    "#(d)\n",
    "print(word[0::2])\n",
    "\n",
    "#(e)\n",
    "print(word[::-1])\n"
   ]
  },
  {
   "cell_type": "markdown",
   "metadata": {},
   "source": [
    "Q04.34 Define the strings below:\n",
    "\n",
    " (a) Define string ```a``` as _coffee_,  define string ```b``` as _it's_, define string ```c``` as _hot!_ and define string ```d``` as , (a comma).\n",
    " \n",
    " (b) Combine the strings ```a```, ```b```, ```c``` and ```d``` to produce the string ```coffee, it's hot``` (notice the comma)\n",
    " \n",
    " (c) Print out the statement ```she said \"coffee, it's hot\"``` using the variables ```a```, ```b```, ```c``` and ```d```.\n",
    " "
   ]
  },
  {
   "cell_type": "code",
   "execution_count": 29,
   "metadata": {},
   "outputs": [
    {
     "name": "stdout",
     "output_type": "stream",
     "text": [
      "coffee, it's hot!\n"
     ]
    }
   ],
   "source": [
    "#(a)\n",
    "a = \"coffee\"\n",
    "b = \"it's\"\n",
    "c = \"hot!\"\n",
    "d =\",\"\n",
    "\n",
    "#(b)\n",
    "f = a+d+\" \"+b+\" \"+c\n",
    "\n",
    "#(c)\n",
    "print(a+d+\" \"+b+\" \"+c)"
   ]
  },
  {
   "cell_type": "markdown",
   "metadata": {},
   "source": [
    "Q04.35 Create the string ```path``` with the value _C:\\\\Users\\\\Maelle\\\\Documents_"
   ]
  },
  {
   "cell_type": "code",
   "execution_count": 30,
   "metadata": {},
   "outputs": [
    {
     "name": "stdout",
     "output_type": "stream",
     "text": [
      "C:\\Users\\Maelle\\Documents\n"
     ]
    }
   ],
   "source": [
    "path = \"C:\\\\Users\\\\Maelle\\\\Documents\"\n",
    "print(path)"
   ]
  },
  {
   "cell_type": "markdown",
   "metadata": {},
   "source": [
    "Q04.36 Convert the string ```Problem``` to the list ```['P','r','o','b','l','e','m']``` without writing the list from scratch."
   ]
  },
  {
   "cell_type": "code",
   "execution_count": 31,
   "metadata": {},
   "outputs": [
    {
     "name": "stdout",
     "output_type": "stream",
     "text": [
      "['P', 'r', 'o', 'b', 'l', 'e', 'm']\n"
     ]
    }
   ],
   "source": [
    "a = \"Problem\"\n",
    "b = list(a)\n",
    "print(b)"
   ]
  },
  {
   "cell_type": "markdown",
   "metadata": {},
   "source": [
    "Q04.37 Use the string ```over board``` and slicing to produce the following words:\n",
    "\n",
    "(a) ```over```\n",
    "\n",
    "(b) ```board```\n",
    "\n",
    "(c) ```oar```"
   ]
  },
  {
   "cell_type": "code",
   "execution_count": 32,
   "metadata": {},
   "outputs": [
    {
     "name": "stdout",
     "output_type": "stream",
     "text": [
      "over\n",
      "board\n",
      "oar\n"
     ]
    }
   ],
   "source": [
    "s = \"over board\"\n",
    "\n",
    "#(a)\n",
    "print(s[:4])\n",
    "\n",
    "#(b)\n",
    "print(s[5:])\n",
    "\n",
    "#(c)\n",
    "print(s[6:9])"
   ]
  },
  {
   "cell_type": "markdown",
   "metadata": {},
   "source": [
    "Q04.38 Use the string ```rotten tomatoes``` and slicing to produce the following words:\n",
    "\n",
    "(a) ```to```\n",
    "\n",
    "(b) ```no```\n",
    "\n",
    "(c) ```ten```\n",
    "\n",
    "(d) ```oat```"
   ]
  },
  {
   "cell_type": "code",
   "execution_count": 33,
   "metadata": {},
   "outputs": [
    {
     "name": "stdout",
     "output_type": "stream",
     "text": [
      "to\n",
      "no\n",
      "ten\n",
      "oat\n"
     ]
    }
   ],
   "source": [
    "s = \"rotten tomatoes\"\n",
    "\n",
    "#(a)\n",
    "print(s[7:9])\n",
    "\n",
    "#(b)\n",
    "print(s[5:9:3])\n",
    "\n",
    "#(c)\n",
    "print(s[3:6])\n",
    "\n",
    "#(d)\n",
    "print(s[1]+s[10:12])"
   ]
  },
  {
   "cell_type": "markdown",
   "metadata": {},
   "source": [
    "#### Lists"
   ]
  },
  {
   "cell_type": "markdown",
   "metadata": {},
   "source": [
    "Q04.40 Create a list that contains the numbers $1$, $2.9 \\times 10^8$, and the word $game$."
   ]
  },
  {
   "cell_type": "code",
   "execution_count": 34,
   "metadata": {},
   "outputs": [],
   "source": [
    "l = [1,2.9e8,'game']"
   ]
  },
  {
   "cell_type": "markdown",
   "metadata": {},
   "source": [
    "Q04.41 Create a list that contains the words $problem$, $solving$, $with$, $python$."
   ]
  },
  {
   "cell_type": "code",
   "execution_count": 35,
   "metadata": {},
   "outputs": [],
   "source": [
    "l = ['problem','solving','with','python']"
   ]
  },
  {
   "cell_type": "markdown",
   "metadata": {},
   "source": [
    "Q04.42 Create a list with one value, the number $6$. Convert the list to a boolean with the ```bool()``` function. Next create a list with one value, the number $0$. Convert this list to a boolean and compare the result."
   ]
  },
  {
   "cell_type": "code",
   "execution_count": 36,
   "metadata": {},
   "outputs": [
    {
     "name": "stdout",
     "output_type": "stream",
     "text": [
      "True\n",
      "True\n",
      "True\n"
     ]
    }
   ],
   "source": [
    "l = [6]\n",
    "b1 = bool(l)\n",
    "print(b1)\n",
    "\n",
    "l = [0]\n",
    "b2 = bool(l)\n",
    "print(b2)\n",
    "\n",
    "print(b1==b2)"
   ]
  },
  {
   "cell_type": "markdown",
   "metadata": {},
   "source": [
    "Q04.43 Create an empty list. Convert the empty list to a boolean with the ```bool()``` function."
   ]
  },
  {
   "cell_type": "code",
   "execution_count": 37,
   "metadata": {},
   "outputs": [
    {
     "name": "stdout",
     "output_type": "stream",
     "text": [
      "False\n"
     ]
    }
   ],
   "source": [
    "l = []\n",
    "b = bool(l)\n",
    "print(b)"
   ]
  },
  {
   "cell_type": "markdown",
   "metadata": {},
   "source": [
    "Q04.44 Create a list with the letters $C$, $D$, and $R$. Pull the letters $C$ and $D$ out of your list with indexing."
   ]
  },
  {
   "cell_type": "code",
   "execution_count": 38,
   "metadata": {},
   "outputs": [
    {
     "name": "stdout",
     "output_type": "stream",
     "text": [
      "['C', 'D']\n"
     ]
    }
   ],
   "source": [
    "l = ['C','D','R']\n",
    "print(l[0:2])"
   ]
  },
  {
   "cell_type": "markdown",
   "metadata": {},
   "source": [
    "Q04.45 Create a list with the numbers $1$ to $10$ (counting by ones). Use slicing to pull out the number $5$ from the list."
   ]
  },
  {
   "cell_type": "code",
   "execution_count": 39,
   "metadata": {},
   "outputs": [
    {
     "name": "stdout",
     "output_type": "stream",
     "text": [
      "5\n"
     ]
    }
   ],
   "source": [
    "l = [1,2,3,4,5,6,7,8,9,10]\n",
    "print(l[4])"
   ]
  },
  {
   "cell_type": "markdown",
   "metadata": {},
   "source": [
    "Q04.46 Create a list with the numbers $1$ to $10$ (counting by ones). Use slicing to pull out all of the numbers $5$ or less."
   ]
  },
  {
   "cell_type": "code",
   "execution_count": 40,
   "metadata": {},
   "outputs": [
    {
     "name": "stdout",
     "output_type": "stream",
     "text": [
      "[1, 2, 3, 4, 5]\n"
     ]
    }
   ],
   "source": [
    "l = [1,2,3,4,5,6,7,8,9,10]\n",
    "print(l[:5])"
   ]
  },
  {
   "cell_type": "markdown",
   "metadata": {},
   "source": [
    "Q04.47 Create a list with the numbers $1$ to $10$ (counting by ones). Use slicing to pull out all of the numbers $5$ and greater."
   ]
  },
  {
   "cell_type": "code",
   "execution_count": 41,
   "metadata": {},
   "outputs": [
    {
     "name": "stdout",
     "output_type": "stream",
     "text": [
      "[5, 6, 7, 8, 9, 10]\n"
     ]
    }
   ],
   "source": [
    "l = [1,2,3,4,5,6,7,8,9,10]\n",
    "print(l[4:])"
   ]
  },
  {
   "cell_type": "markdown",
   "metadata": {},
   "source": [
    "Q04.48 Create a list with the numbers $1$ to $10$ (counting by ones). Use slicing to pull out all of the even numbers from the list."
   ]
  },
  {
   "cell_type": "code",
   "execution_count": 42,
   "metadata": {},
   "outputs": [
    {
     "name": "stdout",
     "output_type": "stream",
     "text": [
      "[2, 4, 6, 8, 10]\n"
     ]
    }
   ],
   "source": [
    "l = [1,2,3,4,5,6,7,8,9,10]\n",
    "print(l[1::2])"
   ]
  },
  {
   "cell_type": "markdown",
   "metadata": {},
   "source": [
    "Q04.49 Create a list with the numbers $1$ to $10$ (counting by ones). Use slicing to pull out every odd number from the list."
   ]
  },
  {
   "cell_type": "code",
   "execution_count": 43,
   "metadata": {},
   "outputs": [
    {
     "name": "stdout",
     "output_type": "stream",
     "text": [
      "[1, 3, 5, 7, 9]\n"
     ]
    }
   ],
   "source": [
    "l = [1,2,3,4,5,6,7,8,9,10]\n",
    "print(l[::2])"
   ]
  },
  {
   "cell_type": "markdown",
   "metadata": {},
   "source": [
    "Q04.50 Create a list with the numbers $1$ to $10$ (counting by ones). Use slicing to return the list in reverse order (the returned list starts with $10$ and ends with $1$)."
   ]
  },
  {
   "cell_type": "code",
   "execution_count": 44,
   "metadata": {},
   "outputs": [
    {
     "name": "stdout",
     "output_type": "stream",
     "text": [
      "[10, 9, 8, 7, 6, 5, 4, 3, 2, 1]\n"
     ]
    }
   ],
   "source": [
    "l = [1,2,3,4,5,6,7,8,9,10]\n",
    "print(l[::-1])"
   ]
  },
  {
   "cell_type": "markdown",
   "metadata": {},
   "source": [
    "Q04.51 Create a list containing the values 1, 2, 5.6, and 9 in that order, and store it in a variable called ```x```. "
   ]
  },
  {
   "cell_type": "code",
   "execution_count": 45,
   "metadata": {},
   "outputs": [
    {
     "name": "stdout",
     "output_type": "stream",
     "text": [
      "[1, 2, 5.6, 9]\n"
     ]
    }
   ],
   "source": [
    "x = [1,2,5.6,9]\n",
    "print(x)"
   ]
  },
  {
   "cell_type": "markdown",
   "metadata": {},
   "source": [
    "#### Dictionaries"
   ]
  },
  {
   "cell_type": "markdown",
   "metadata": {},
   "source": [
    "Q04.60 Create a dictionary called ```capitals``` that contains the states and state capitals. Include ```Washington```, capital ```Olympia``` and ```Oregon```, capital ```Salem```."
   ]
  },
  {
   "cell_type": "code",
   "execution_count": 46,
   "metadata": {},
   "outputs": [
    {
     "name": "stdout",
     "output_type": "stream",
     "text": [
      "{'Washington': 'Olympia', 'Oregon': 'Salem'}\n"
     ]
    }
   ],
   "source": [
    "capitals = {'Washington':'Olympia','Oregon':'Salem'}\n",
    "print(capitals)"
   ]
  },
  {
   "cell_type": "markdown",
   "metadata": {},
   "source": [
    "Q04.61 Create a dictionary called ```capitals``` that contains the states and state capitals. Include ```Washington```, capital ```Olympia``` and ```Oregon```, capital ```Salem```. In the line after the dictionary is created add the state ```New York```, capital ```Albany```."
   ]
  },
  {
   "cell_type": "code",
   "execution_count": 47,
   "metadata": {},
   "outputs": [
    {
     "name": "stdout",
     "output_type": "stream",
     "text": [
      "{'Washington': 'Olympia', 'Oregon': 'Salem'}\n",
      "{'Washington': 'Olympia', 'Oregon': 'Salem', 'New York': 'Albany'}\n"
     ]
    }
   ],
   "source": [
    "capitals = {'Washington':'Olympia','Oregon':'Salem'}\n",
    "print(capitals)\n",
    "capitals['New York'] = 'Albany'\n",
    "print(capitals)"
   ]
  },
  {
   "cell_type": "markdown",
   "metadata": {},
   "source": [
    "Q04.62 Create a dictionary ```numbers = {'one':1, 'two':2, 'three':3}```. Pull out the number ```2``` by calling the key ```'two'```."
   ]
  },
  {
   "cell_type": "code",
   "execution_count": 48,
   "metadata": {},
   "outputs": [
    {
     "name": "stdout",
     "output_type": "stream",
     "text": [
      "2\n"
     ]
    }
   ],
   "source": [
    "numbers = {'one':1, 'two':2, 'three':3}\n",
    "print(numbers['two'])"
   ]
  },
  {
   "cell_type": "markdown",
   "metadata": {},
   "source": [
    "Q04.63 Create a dictionary ```colors = {'red':'#FF0000', 'green':'#008000', 'blue':'#0000FF'}```. Pull out all the keys and add them to a list called ```colors_list``` with the ```.keys()``` method."
   ]
  },
  {
   "cell_type": "code",
   "execution_count": 49,
   "metadata": {},
   "outputs": [
    {
     "name": "stdout",
     "output_type": "stream",
     "text": [
      "['red', 'green', 'blue']\n"
     ]
    }
   ],
   "source": [
    "colors = {'red':'#FF0000', 'green':'#008000', 'blue':'#0000FF'}\n",
    "colors_list = list(colors.keys())\n",
    "print(colors_list)"
   ]
  },
  {
   "cell_type": "markdown",
   "metadata": {},
   "source": [
    "Q04.64 Create a dictionary ```colors = {'red':'#FF0000', 'green':'#008000', 'blue':'#0000FF'}```. Pull out all the values and add them to a list called ```colors_hex``` with the ```.values()``` method."
   ]
  },
  {
   "cell_type": "code",
   "execution_count": 50,
   "metadata": {},
   "outputs": [
    {
     "name": "stdout",
     "output_type": "stream",
     "text": [
      "['#FF0000', '#008000', '#0000FF']\n"
     ]
    }
   ],
   "source": [
    "colors = {'red':'#FF0000', 'green':'#008000', 'blue':'#0000FF'}\n",
    "colors_hex = list(colors.values())\n",
    "print(colors_hex)"
   ]
  },
  {
   "cell_type": "markdown",
   "metadata": {},
   "source": [
    "Q04.65 Create a dictionary ```colors = {'red':'\t#FF0000', 'green':'#008000', 'blue':'#0000FF'}```. Pull out all the items from the dictionary and add them to a list called ```color_items``` with the ```.items()``` method."
   ]
  },
  {
   "cell_type": "code",
   "execution_count": 51,
   "metadata": {},
   "outputs": [
    {
     "name": "stdout",
     "output_type": "stream",
     "text": [
      "[('red', '#FF0000'), ('green', '#008000'), ('blue', '#0000FF')]\n"
     ]
    }
   ],
   "source": [
    "colors = {'red':'#FF0000', 'green':'#008000', 'blue':'#0000FF'}\n",
    "color_items = list(colors.items())\n",
    "print(color_items)"
   ]
  },
  {
   "cell_type": "markdown",
   "metadata": {},
   "source": [
    "Q04.66 Create a dictionary ```groups = {'solo':1, 'duo':2}```. Add the key ```'trio'``` and the corresponding value ```3```."
   ]
  },
  {
   "cell_type": "code",
   "execution_count": 52,
   "metadata": {},
   "outputs": [
    {
     "name": "stdout",
     "output_type": "stream",
     "text": [
      "{'solo': 1, 'duo': 2, 'trio': 3}\n"
     ]
    }
   ],
   "source": [
    "groups = {'solo':1, 'duo':2}\n",
    "groups['trio']=3\n",
    "print(groups)"
   ]
  },
  {
   "cell_type": "markdown",
   "metadata": {},
   "source": [
    "Q04.67 Create a dictionary ```groups = {'solo':1, 'duo':2}```. Then remove the key ```'duo'``` and the value ```2``` so that only ```'solo':1``` remains."
   ]
  },
  {
   "cell_type": "code",
   "execution_count": 53,
   "metadata": {},
   "outputs": [
    {
     "name": "stdout",
     "output_type": "stream",
     "text": [
      "{'solo': 1}\n"
     ]
    }
   ],
   "source": [
    "groups = {'solo':1, 'duo':2}\n",
    "groups.pop('duo')\n",
    "print(groups)"
   ]
  },
  {
   "cell_type": "markdown",
   "metadata": {},
   "source": [
    "Q04.68 Create a dictionary ```college = {'name': 'University of Oregon'}```. Add the following two keys: $abbreviation$, $mascot$ and the corresponding two values: $UofO$, $ducks$."
   ]
  },
  {
   "cell_type": "code",
   "execution_count": 54,
   "metadata": {},
   "outputs": [
    {
     "name": "stdout",
     "output_type": "stream",
     "text": [
      "{'name': 'University of Oregon', 'abbreviation': 'UofO', 'mascot': 'ducks'}\n"
     ]
    }
   ],
   "source": [
    "college = {'name': 'University of Oregon'}\n",
    "college['abbreviation'] = 'UofO'\n",
    "college['mascot'] = 'ducks'\n",
    "print(college)"
   ]
  },
  {
   "cell_type": "markdown",
   "metadata": {},
   "source": [
    "#### Tuples"
   ]
  },
  {
   "cell_type": "markdown",
   "metadata": {},
   "source": [
    "Q04.70 Create a tuple with the numbers $8$, $9$, and $10$. "
   ]
  },
  {
   "cell_type": "code",
   "execution_count": 55,
   "metadata": {},
   "outputs": [],
   "source": [
    "t = (8,9,10)"
   ]
  },
  {
   "cell_type": "markdown",
   "metadata": {},
   "source": [
    "Q04.71 Create a tuple that has a single entry, the number $10$."
   ]
  },
  {
   "cell_type": "code",
   "execution_count": 56,
   "metadata": {},
   "outputs": [],
   "source": [
    "t = (10,)"
   ]
  },
  {
   "cell_type": "markdown",
   "metadata": {},
   "source": [
    "Q04.72 Create a list and a tuple that both contain the strings: $one$, $two$, and $three$.   Pull the word $two$ out of both the list and the tuple."
   ]
  },
  {
   "cell_type": "code",
   "execution_count": 57,
   "metadata": {},
   "outputs": [
    {
     "name": "stdout",
     "output_type": "stream",
     "text": [
      "two\n",
      "two\n"
     ]
    }
   ],
   "source": [
    "l = ['one','two','three']\n",
    "t = ('one','two','three')\n",
    "\n",
    "print(l[1])\n",
    "print(t[1])"
   ]
  },
  {
   "cell_type": "markdown",
   "metadata": {},
   "source": [
    "Q04.73 Create a list and a tuple that both contain the strings: $one$, $two$, and $three$. Try to substitute the number $2$ for the word $two$ in both the list and tuple using indexing (square brackets)."
   ]
  },
  {
   "cell_type": "code",
   "execution_count": 58,
   "metadata": {},
   "outputs": [
    {
     "name": "stdout",
     "output_type": "stream",
     "text": [
      "['one', 2, 'three']\n",
      "'tuple' object does not support item assignment\n",
      "Can not index into a tuple. A tuple is an immutable data structure\n"
     ]
    }
   ],
   "source": [
    "l = ['one','two','three']\n",
    "t = ('one','two','three')\n",
    "\n",
    "l[1]=2\n",
    "print(l)\n",
    "\n",
    "try:\n",
    "    t[1]=2\n",
    "except TypeError as e:\n",
    "    print(e)\n",
    "    print(\"Can not index into a tuple. A tuple is an immutable data structure\")"
   ]
  },
  {
   "cell_type": "markdown",
   "metadata": {},
   "source": [
    "Q04.74 Code the following lines:\n",
    "\n",
    "```python\n",
    "t1 = (9)\n",
    "t2 = (9,)\n",
    "t3 = ('9')\n",
    "```\n",
    "\n",
    "Use Python's ```type()``` function to find the object type of each variable."
   ]
  },
  {
   "cell_type": "code",
   "execution_count": 59,
   "metadata": {},
   "outputs": [
    {
     "name": "stdout",
     "output_type": "stream",
     "text": [
      "<class 'int'>\n",
      "<class 'tuple'>\n",
      "<class 'str'>\n"
     ]
    }
   ],
   "source": [
    "t1 = (9)\n",
    "t2 = (9,)\n",
    "t3 = ('9')\n",
    "\n",
    "print(type(t1)) # int\n",
    "print(type(t2)) # tuple\n",
    "print(type(t3)) # str"
   ]
  },
  {
   "cell_type": "markdown",
   "metadata": {},
   "source": [
    "Q04.75 Create a tuple that returns ```True``` when converted to a boolean. Use the ```bool()``` function to demonstrate your tuple converts to ```True```."
   ]
  },
  {
   "cell_type": "code",
   "execution_count": 60,
   "metadata": {},
   "outputs": [
    {
     "name": "stdout",
     "output_type": "stream",
     "text": [
      "True\n"
     ]
    }
   ],
   "source": [
    "t = (1,)\n",
    "bool_t = bool(t)\n",
    "print(bool_t)"
   ]
  },
  {
   "cell_type": "markdown",
   "metadata": {},
   "source": [
    "Q04.76 Create a tuple that returns ```False``` when converted to a boolean. Use the ```bool()``` function to demonstrate your tuple converts to ```False```."
   ]
  },
  {
   "cell_type": "code",
   "execution_count": 61,
   "metadata": {},
   "outputs": [
    {
     "name": "stdout",
     "output_type": "stream",
     "text": [
      "<class 'tuple'>\n",
      "False\n"
     ]
    }
   ],
   "source": [
    "t = ()\n",
    "print(type(t))\n",
    "bool_t = bool(t)\n",
    "print(bool_t)"
   ]
  },
  {
   "cell_type": "markdown",
   "metadata": {
    "latex": {
     "environment": "problems"
    }
   },
   "source": [
    "#### Errors, Explanations, and Solutions"
   ]
  },
  {
   "cell_type": "markdown",
   "metadata": {
    "latex": {
     "environment": "problems"
    }
   },
   "source": [
    "Q04.80 Run the following lines of code and explain the error in your own words. Then rewrite the lines of code to run error free:\n",
    "\n",
    "```python\n",
    "n = 503\n",
    "n[2]\n",
    "```"
   ]
  },
  {
   "cell_type": "code",
   "execution_count": 62,
   "metadata": {},
   "outputs": [
    {
     "ename": "TypeError",
     "evalue": "'int' object is not subscriptable",
     "output_type": "error",
     "traceback": [
      "\u001b[1;31m---------------------------------------------------------------------------\u001b[0m",
      "\u001b[1;31mTypeError\u001b[0m                                 Traceback (most recent call last)",
      "\u001b[1;32m<ipython-input-62-75d15c2f0101>\u001b[0m in \u001b[0;36m<module>\u001b[1;34m\u001b[0m\n\u001b[0;32m      1\u001b[0m \u001b[0mn\u001b[0m \u001b[1;33m=\u001b[0m \u001b[1;36m503\u001b[0m\u001b[1;33m\u001b[0m\u001b[1;33m\u001b[0m\u001b[0m\n\u001b[1;32m----> 2\u001b[1;33m \u001b[0mn\u001b[0m\u001b[1;33m[\u001b[0m\u001b[1;36m2\u001b[0m\u001b[1;33m]\u001b[0m\u001b[1;33m\u001b[0m\u001b[1;33m\u001b[0m\u001b[0m\n\u001b[0m",
      "\u001b[1;31mTypeError\u001b[0m: 'int' object is not subscriptable"
     ]
    }
   ],
   "source": [
    "n = 503\n",
    "n[2]"
   ]
  },
  {
   "cell_type": "markdown",
   "metadata": {},
   "source": [
    "503 is an integer. Can't index or slice integers"
   ]
  },
  {
   "cell_type": "code",
   "execution_count": 63,
   "metadata": {},
   "outputs": [
    {
     "data": {
      "text/plain": [
       "'3'"
      ]
     },
     "execution_count": 63,
     "metadata": {},
     "output_type": "execute_result"
    }
   ],
   "source": [
    "n = '503'\n",
    "n[2]"
   ]
  },
  {
   "cell_type": "markdown",
   "metadata": {
    "latex": {
     "environment": "problems"
    }
   },
   "source": [
    "Q04.81 Run the following lines of code and explain the error in your own words. Then rewrite the lines of code to run error free:\n",
    "\n",
    "```python\n",
    "a = 321\n",
    "b = 'go!'\n",
    "c = a + b\n",
    "```"
   ]
  },
  {
   "cell_type": "code",
   "execution_count": 64,
   "metadata": {},
   "outputs": [
    {
     "ename": "TypeError",
     "evalue": "unsupported operand type(s) for +: 'int' and 'str'",
     "output_type": "error",
     "traceback": [
      "\u001b[1;31m---------------------------------------------------------------------------\u001b[0m",
      "\u001b[1;31mTypeError\u001b[0m                                 Traceback (most recent call last)",
      "\u001b[1;32m<ipython-input-64-0d4e5aceff9a>\u001b[0m in \u001b[0;36m<module>\u001b[1;34m\u001b[0m\n\u001b[0;32m      1\u001b[0m \u001b[0ma\u001b[0m \u001b[1;33m=\u001b[0m \u001b[1;36m321\u001b[0m\u001b[1;33m\u001b[0m\u001b[1;33m\u001b[0m\u001b[0m\n\u001b[0;32m      2\u001b[0m \u001b[0mb\u001b[0m \u001b[1;33m=\u001b[0m \u001b[1;34m'go!'\u001b[0m\u001b[1;33m\u001b[0m\u001b[1;33m\u001b[0m\u001b[0m\n\u001b[1;32m----> 3\u001b[1;33m \u001b[0mc\u001b[0m \u001b[1;33m=\u001b[0m \u001b[0ma\u001b[0m \u001b[1;33m+\u001b[0m \u001b[0mb\u001b[0m\u001b[1;33m\u001b[0m\u001b[1;33m\u001b[0m\u001b[0m\n\u001b[0m",
      "\u001b[1;31mTypeError\u001b[0m: unsupported operand type(s) for +: 'int' and 'str'"
     ]
    }
   ],
   "source": [
    "a = 321\n",
    "b = 'go!'\n",
    "c = a + b"
   ]
  },
  {
   "cell_type": "markdown",
   "metadata": {},
   "source": [
    "Can't add the interger 321 to the string 'go!'. "
   ]
  },
  {
   "cell_type": "code",
   "execution_count": 65,
   "metadata": {},
   "outputs": [],
   "source": [
    "a = '321'\n",
    "b = 'go!'\n",
    "c = a + b"
   ]
  },
  {
   "cell_type": "markdown",
   "metadata": {
    "latex": {
     "environment": "problems"
    }
   },
   "source": [
    "Q04.82 Run the following lines of code and explain the error in your own words. Then rewrite the lines of code to run error free:\n",
    "\n",
    "```python\n",
    "d = {one:1, two:2, three:3}\n",
    "d[one]\n",
    "```"
   ]
  },
  {
   "cell_type": "code",
   "execution_count": 66,
   "metadata": {},
   "outputs": [
    {
     "ename": "NameError",
     "evalue": "name 'one' is not defined",
     "output_type": "error",
     "traceback": [
      "\u001b[1;31m---------------------------------------------------------------------------\u001b[0m",
      "\u001b[1;31mNameError\u001b[0m                                 Traceback (most recent call last)",
      "\u001b[1;32m<ipython-input-66-eecefeef49ff>\u001b[0m in \u001b[0;36m<module>\u001b[1;34m\u001b[0m\n\u001b[1;32m----> 1\u001b[1;33m \u001b[0md\u001b[0m \u001b[1;33m=\u001b[0m \u001b[1;33m{\u001b[0m\u001b[0mone\u001b[0m\u001b[1;33m:\u001b[0m\u001b[1;36m1\u001b[0m\u001b[1;33m,\u001b[0m \u001b[0mtwo\u001b[0m\u001b[1;33m:\u001b[0m\u001b[1;36m2\u001b[0m\u001b[1;33m,\u001b[0m \u001b[0mthree\u001b[0m\u001b[1;33m:\u001b[0m\u001b[1;36m3\u001b[0m\u001b[1;33m}\u001b[0m\u001b[1;33m\u001b[0m\u001b[1;33m\u001b[0m\u001b[0m\n\u001b[0m\u001b[0;32m      2\u001b[0m \u001b[0md\u001b[0m\u001b[1;33m[\u001b[0m\u001b[0mone\u001b[0m\u001b[1;33m]\u001b[0m\u001b[1;33m\u001b[0m\u001b[1;33m\u001b[0m\u001b[0m\n",
      "\u001b[1;31mNameError\u001b[0m: name 'one' is not defined"
     ]
    }
   ],
   "source": [
    "d = {one:1, two:2, three:3}\n",
    "d[one]"
   ]
  },
  {
   "cell_type": "markdown",
   "metadata": {},
   "source": [
    "The key one has not been defined as a variable. The keys in the dictionary could be defined as strings to fix this error."
   ]
  },
  {
   "cell_type": "code",
   "execution_count": 67,
   "metadata": {},
   "outputs": [
    {
     "data": {
      "text/plain": [
       "1"
      ]
     },
     "execution_count": 67,
     "metadata": {},
     "output_type": "execute_result"
    }
   ],
   "source": [
    "d = {'one':1, 'two':2, 'three':3}\n",
    "d['one']"
   ]
  },
  {
   "cell_type": "markdown",
   "metadata": {
    "latex": {
     "environment": "problems"
    }
   },
   "source": [
    "Q04.83 Run the following lines of code and explain the error in your own words. Then rewrite the lines of code to run error free:\n",
    "\n",
    "```python\n",
    "f = false\n",
    "not f\n",
    "```"
   ]
  },
  {
   "cell_type": "code",
   "execution_count": 68,
   "metadata": {},
   "outputs": [
    {
     "ename": "NameError",
     "evalue": "name 'false' is not defined",
     "output_type": "error",
     "traceback": [
      "\u001b[1;31m---------------------------------------------------------------------------\u001b[0m",
      "\u001b[1;31mNameError\u001b[0m                                 Traceback (most recent call last)",
      "\u001b[1;32m<ipython-input-68-4551edad9e7a>\u001b[0m in \u001b[0;36m<module>\u001b[1;34m\u001b[0m\n\u001b[1;32m----> 1\u001b[1;33m \u001b[0mf\u001b[0m \u001b[1;33m=\u001b[0m \u001b[0mfalse\u001b[0m\u001b[1;33m\u001b[0m\u001b[1;33m\u001b[0m\u001b[0m\n\u001b[0m\u001b[0;32m      2\u001b[0m \u001b[1;32mnot\u001b[0m \u001b[0mf\u001b[0m\u001b[1;33m\u001b[0m\u001b[1;33m\u001b[0m\u001b[0m\n",
      "\u001b[1;31mNameError\u001b[0m: name 'false' is not defined"
     ]
    }
   ],
   "source": [
    "f = false\n",
    "not f"
   ]
  },
  {
   "cell_type": "code",
   "execution_count": 69,
   "metadata": {},
   "outputs": [
    {
     "ename": "SyntaxError",
     "evalue": "invalid syntax (<ipython-input-69-c076e4a1329d>, line 1)",
     "output_type": "error",
     "traceback": [
      "\u001b[1;36m  File \u001b[1;32m\"<ipython-input-69-c076e4a1329d>\"\u001b[1;36m, line \u001b[1;32m1\u001b[0m\n\u001b[1;33m    Keyword False must have a capital first letter. In the code above, false has a lowercase letter\u001b[0m\n\u001b[1;37m            ^\u001b[0m\n\u001b[1;31mSyntaxError\u001b[0m\u001b[1;31m:\u001b[0m invalid syntax\n"
     ]
    }
   ],
   "source": [
    "Keyword False must have a capital first letter. In the code above, false has a lowercase letter"
   ]
  },
  {
   "cell_type": "code",
   "execution_count": 70,
   "metadata": {},
   "outputs": [
    {
     "data": {
      "text/plain": [
       "True"
      ]
     },
     "execution_count": 70,
     "metadata": {},
     "output_type": "execute_result"
    }
   ],
   "source": [
    "f = False\n",
    "not f"
   ]
  },
  {
   "cell_type": "markdown",
   "metadata": {
    "latex": {
     "environment": "problems"
    }
   },
   "source": [
    "Q04.84 Run the following lines of code and explain the error in your own words. Then rewrite the lines of code to run error free:\n",
    "\n",
    "```python\n",
    "comp = 0.1 - 4.3i\n",
    "comp + 5\n",
    "```"
   ]
  },
  {
   "cell_type": "code",
   "execution_count": 71,
   "metadata": {},
   "outputs": [
    {
     "ename": "SyntaxError",
     "evalue": "invalid syntax (<ipython-input-71-65ee42c5c47e>, line 1)",
     "output_type": "error",
     "traceback": [
      "\u001b[1;36m  File \u001b[1;32m\"<ipython-input-71-65ee42c5c47e>\"\u001b[1;36m, line \u001b[1;32m1\u001b[0m\n\u001b[1;33m    comp = 0.1 - 4.3i\u001b[0m\n\u001b[1;37m                    ^\u001b[0m\n\u001b[1;31mSyntaxError\u001b[0m\u001b[1;31m:\u001b[0m invalid syntax\n"
     ]
    }
   ],
   "source": [
    "comp = 0.1 - 4.3i\n",
    "comp + 5"
   ]
  },
  {
   "cell_type": "markdown",
   "metadata": {},
   "source": [
    "Complex numbers in Python are defined using the letter j to indicate the imaginary term. The letter i was used to define a complex number in the code above."
   ]
  },
  {
   "cell_type": "code",
   "execution_count": 72,
   "metadata": {},
   "outputs": [
    {
     "data": {
      "text/plain": [
       "(5.1-4.3j)"
      ]
     },
     "execution_count": 72,
     "metadata": {},
     "output_type": "execute_result"
    }
   ],
   "source": [
    "comp = 0.1 - 4.3j\n",
    "comp + 5"
   ]
  },
  {
   "cell_type": "markdown",
   "metadata": {
    "latex": {
     "environment": "problems"
    }
   },
   "source": [
    "Q04.85 Run the following lines of code and explain the error in your own words. Then rewrite the lines of code to run error free:\n",
    "\n",
    "```python\n",
    "tpl = (1,2,3)\n",
    "tpl[1] = 20\n",
    "```"
   ]
  },
  {
   "cell_type": "code",
   "execution_count": 73,
   "metadata": {},
   "outputs": [
    {
     "ename": "TypeError",
     "evalue": "'tuple' object does not support item assignment",
     "output_type": "error",
     "traceback": [
      "\u001b[1;31m---------------------------------------------------------------------------\u001b[0m",
      "\u001b[1;31mTypeError\u001b[0m                                 Traceback (most recent call last)",
      "\u001b[1;32m<ipython-input-73-055c1ce53e07>\u001b[0m in \u001b[0;36m<module>\u001b[1;34m\u001b[0m\n\u001b[0;32m      1\u001b[0m \u001b[0mtpl\u001b[0m \u001b[1;33m=\u001b[0m \u001b[1;33m(\u001b[0m\u001b[1;36m1\u001b[0m\u001b[1;33m,\u001b[0m\u001b[1;36m2\u001b[0m\u001b[1;33m,\u001b[0m\u001b[1;36m3\u001b[0m\u001b[1;33m)\u001b[0m\u001b[1;33m\u001b[0m\u001b[1;33m\u001b[0m\u001b[0m\n\u001b[1;32m----> 2\u001b[1;33m \u001b[0mtpl\u001b[0m\u001b[1;33m[\u001b[0m\u001b[1;36m1\u001b[0m\u001b[1;33m]\u001b[0m \u001b[1;33m=\u001b[0m \u001b[1;36m20\u001b[0m\u001b[1;33m\u001b[0m\u001b[1;33m\u001b[0m\u001b[0m\n\u001b[0m",
      "\u001b[1;31mTypeError\u001b[0m: 'tuple' object does not support item assignment"
     ]
    }
   ],
   "source": [
    "tpl = (1,2,3)\n",
    "tpl[1] = 20"
   ]
  },
  {
   "cell_type": "markdown",
   "metadata": {},
   "source": [
    "A tuple is an immutable data structure. You can not change one of the elements in a tuple once it is defined. Changing the data type to a list fixes the error."
   ]
  },
  {
   "cell_type": "code",
   "execution_count": 74,
   "metadata": {},
   "outputs": [],
   "source": [
    "tpl = [1,2,3]\n",
    "tpl[1] = 20"
   ]
  },
  {
   "cell_type": "markdown",
   "metadata": {
    "latex": {
     "environment": "problems"
    }
   },
   "source": [
    "Q04.86 Run the following lines of code and explain the error in your own words. Then rewrite the lines of code to run error free:\n",
    "\n",
    "```python\n",
    "lst = [1,3,5]\n",
    "lst[3]\n",
    "```"
   ]
  },
  {
   "cell_type": "code",
   "execution_count": 75,
   "metadata": {},
   "outputs": [
    {
     "ename": "IndexError",
     "evalue": "list index out of range",
     "output_type": "error",
     "traceback": [
      "\u001b[1;31m---------------------------------------------------------------------------\u001b[0m",
      "\u001b[1;31mIndexError\u001b[0m                                Traceback (most recent call last)",
      "\u001b[1;32m<ipython-input-75-85210071202e>\u001b[0m in \u001b[0;36m<module>\u001b[1;34m\u001b[0m\n\u001b[0;32m      1\u001b[0m \u001b[0mlst\u001b[0m \u001b[1;33m=\u001b[0m \u001b[1;33m[\u001b[0m\u001b[1;36m1\u001b[0m\u001b[1;33m,\u001b[0m\u001b[1;36m3\u001b[0m\u001b[1;33m,\u001b[0m\u001b[1;36m5\u001b[0m\u001b[1;33m]\u001b[0m\u001b[1;33m\u001b[0m\u001b[1;33m\u001b[0m\u001b[0m\n\u001b[1;32m----> 2\u001b[1;33m \u001b[0mlst\u001b[0m\u001b[1;33m[\u001b[0m\u001b[1;36m3\u001b[0m\u001b[1;33m]\u001b[0m\u001b[1;33m\u001b[0m\u001b[1;33m\u001b[0m\u001b[0m\n\u001b[0m",
      "\u001b[1;31mIndexError\u001b[0m: list index out of range"
     ]
    }
   ],
   "source": [
    "lst = [1,3,5]\n",
    "lst[3]"
   ]
  },
  {
   "cell_type": "markdown",
   "metadata": {},
   "source": [
    "Python indexing starts at 0 and ends at n-1. The list lst only contains 3 numbers, so the last index is 2."
   ]
  },
  {
   "cell_type": "code",
   "execution_count": 76,
   "metadata": {},
   "outputs": [
    {
     "data": {
      "text/plain": [
       "5"
      ]
     },
     "execution_count": 76,
     "metadata": {},
     "output_type": "execute_result"
    }
   ],
   "source": [
    "lst = [1,3,5]\n",
    "lst[2]"
   ]
  },
  {
   "cell_type": "markdown",
   "metadata": {
    "latex": {
     "environment": "problems"
    }
   },
   "source": [
    "Q04.87 Run the following lines of code and explain the error in your own words. Then rewrite the lines of code to run error free:\n",
    "\n",
    "```python\n",
    "dict = ['key': 8, 'pair': 9]\n",
    "dict['key']\n",
    "```"
   ]
  },
  {
   "cell_type": "code",
   "execution_count": 77,
   "metadata": {},
   "outputs": [
    {
     "ename": "SyntaxError",
     "evalue": "invalid syntax (<ipython-input-77-5be67b24ee20>, line 1)",
     "output_type": "error",
     "traceback": [
      "\u001b[1;36m  File \u001b[1;32m\"<ipython-input-77-5be67b24ee20>\"\u001b[1;36m, line \u001b[1;32m1\u001b[0m\n\u001b[1;33m    dict = ['key': 8, 'pair': 9]\u001b[0m\n\u001b[1;37m                 ^\u001b[0m\n\u001b[1;31mSyntaxError\u001b[0m\u001b[1;31m:\u001b[0m invalid syntax\n"
     ]
    }
   ],
   "source": [
    "dict = ['key': 8, 'pair': 9]\n",
    "dict['key']"
   ]
  },
  {
   "cell_type": "markdown",
   "metadata": {},
   "source": [
    "Variable dict is defined in the code above using the syntax to define a list, combined with the syntax used to define a dictionary. Defining dict as a dictionary fixes the error."
   ]
  },
  {
   "cell_type": "code",
   "execution_count": 78,
   "metadata": {},
   "outputs": [
    {
     "data": {
      "text/plain": [
       "8"
      ]
     },
     "execution_count": 78,
     "metadata": {},
     "output_type": "execute_result"
    }
   ],
   "source": [
    "dict = {'key': 8, 'pair': 9}\n",
    "dict['key']"
   ]
  },
  {
   "cell_type": "markdown",
   "metadata": {
    "latex": {
     "environment": "problems"
    }
   },
   "source": [
    "Q04.88 Run the following lines of code and explain the error in your own words. Then rewrite the lines of code to run error free:\n",
    "\n",
    "```python\n",
    "s = ['Problem Solving']\n",
    "s[8:]\n",
    "```"
   ]
  },
  {
   "cell_type": "code",
   "execution_count": 79,
   "metadata": {},
   "outputs": [
    {
     "data": {
      "text/plain": [
       "[]"
      ]
     },
     "execution_count": 79,
     "metadata": {},
     "output_type": "execute_result"
    }
   ],
   "source": [
    "s = ['Problem Solving']\n",
    "s[8:]"
   ]
  },
  {
   "cell_type": "markdown",
   "metadata": {},
   "source": [
    "The code runs error free and returns an empty list. Variable s is a list that only contains one value. Calling the index 0 will return the string 'Problem Solving'], all other indicies will return an empty list."
   ]
  },
  {
   "cell_type": "code",
   "execution_count": 80,
   "metadata": {},
   "outputs": [
    {
     "data": {
      "text/plain": [
       "'Problem Solving'"
      ]
     },
     "execution_count": 80,
     "metadata": {},
     "output_type": "execute_result"
    }
   ],
   "source": [
    "s = ['Problem Solving']\n",
    "s[0]"
   ]
  }
 ],
 "metadata": {
  "kernelspec": {
   "display_name": "Python 3",
   "language": "python",
   "name": "python3"
  },
  "language_info": {
   "codemirror_mode": {
    "name": "ipython",
    "version": 3
   },
   "file_extension": ".py",
   "mimetype": "text/x-python",
   "name": "python",
   "nbconvert_exporter": "python",
   "pygments_lexer": "ipython3",
   "version": "3.8.5"
  }
 },
 "nbformat": 4,
 "nbformat_minor": 2
}
