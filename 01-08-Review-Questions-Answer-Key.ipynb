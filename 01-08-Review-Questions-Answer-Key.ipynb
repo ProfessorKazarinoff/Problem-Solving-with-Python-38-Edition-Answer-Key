{
 "cells": [
  {
   "cell_type": "markdown",
   "metadata": {},
   "source": [
    "## Review Questions"
   ]
  },
  {
   "cell_type": "markdown",
   "metadata": {
    "latex": {
     "environment": "problems"
    }
   },
   "source": [
    "Q01.01 What is Python? How is the Python language different than the Python Interpreter?"
   ]
  },
  {
   "cell_type": "markdown",
   "metadata": {},
   "source": [
    "Python is a computer programming language. Python an interpreted language and is weakly typed. Python is free and open source. The Python language is the specification that determines what constitutes valid Python code. The Python language includes the use of indentation and the dot syntax as well as the use of the hash symbol ```#``` to denote commas. The Python interpreter is a program on your computer that runs or exectutes Python code. In order to run Python code you need a Python interpreter. In order to write valid Python code, you need to know about the Python language."
   ]
  },
  {
   "cell_type": "markdown",
   "metadata": {
    "latex": {
     "environment": "problems"
    }
   },
   "source": [
    "Q01.02 What is the difference between the version of Python at python.org and the version of Python at Anaconda.com?"
   ]
  },
  {
   "cell_type": "markdown",
   "metadata": {},
   "source": [
    "THe difference between the version of Python at python.org and the version of Python at Anaconda.com is that When you download Python from Python.org, you get the Python Interpreter, a little text editing program called IDLE and all of the Python Standard Library modules. When you download and install Python at Anaconda.com you get a Python Interpreter, the Anaconda Prompt (a command line program), Spyder (a code editor) and about 600 extra Python modules that aren't included in the Python Standard Library."
   ]
  },
  {
   "cell_type": "markdown",
   "metadata": {
    "latex": {
     "environment": "problems"
    }
   },
   "source": [
    "Q01.03 What are the advantages and disadvantages of using the Anaconda distribution of Python compared to using the version of Python at python.org?"
   ]
  },
  {
   "cell_type": "markdown",
   "metadata": {},
   "source": [
    "Advantages - The Anconda distribtuion of Python comes with about 300 aditional packages besides just Python. Anaconda comes with the Anaconda prompt which can be used to install packages, manage virtual environments and run Python programs. \n",
    "\n",
    "Disadvantages - The Anaconda distribtuion of Python is a larger download than the version of Python you get from Python.org. Anaconda also comes with additional programs that you might not want or need such as Anaconda Navigator and Spyder"
   ]
  },
  {
   "cell_type": "markdown",
   "metadata": {
    "latex": {
     "environment": "problems"
    }
   },
   "source": [
    "Q01.04 There are many different applications to edit Python code. Some examples include: JupyterLab, Sublime Text, Visual Studio Code, and PyCharm. Pick two Python code editors and explain a feature of each code editor."
   ]
  },
  {
   "cell_type": "markdown",
   "metadata": {},
   "source": [
    "Two applications that can be used to edit Python code are Jupyter notebooks and Visual Studio Code, sometimes called VS Code. \n",
    "\n",
    "Jupyter notebooks - Jupyter notebooks can contain Python code in code cells, the output of that code in output cells and explainations about what the code does in markdown cells. Jupyter notebooks are free and they can be rendered on sites like GitHub.com and NbViewer.\n",
    "\n",
    "Visual Studio Code - Visual Studio Code (VS Code) is free to download and install. You can use VS Code to write Python code, but you can also write other types code in VS Code such as javascript, css, and html. VS Code has an extensive Extension system that allows to to add additional functionality. For instance the Python extension for VS is usefull for Python programmers. VS Code is a professional code editor and is used by developers across the world to write and edit computer code."
   ]
  },
  {
   "cell_type": "markdown",
   "metadata": {
    "latex": {
     "environment": "problems"
    }
   },
   "source": [
    "Q01.05 What are some advantages of Python compared to other computer programming languages?"
   ]
  },
  {
   "cell_type": "markdown",
   "metadata": {},
   "source": [
    "Some advantages of Python compard to other computer programming languages is that Python defines the type of objects in your code for you. Python also contains an extensive Standard Library and there are over 300,000 packages on PyPI that you can download and install to use in your Python code. Python can be installed on all the major desktop operating systems. Python is free and open source. Compared to other languages, Python is relatively easy to use and relatively powerful. Python is sometimes called a \"full spectrum\" language which means it can be used to in many different problem domains such as web development, machine learning, data science and dev ops."
   ]
  },
  {
   "cell_type": "markdown",
   "metadata": {
    "latex": {
     "environment": "problems"
    }
   },
   "source": [
    "Q01.06 What is PyPI? How many packages are currently available for download on PyPI?"
   ]
  },
  {
   "cell_type": "markdown",
   "metadata": {},
   "source": [
    "PyPI is the Python Package Index. It is the place that Python packages are housed that you can install on your compter. At the time of writing, there are over 300,000 packages on PyPI."
   ]
  },
  {
   "cell_type": "markdown",
   "metadata": {
    "latex": {
     "environment": "problems"
    }
   },
   "source": [
    "Q01.07 Find three modules that are part of the Python Standard Library. Write a short description of what each of the modules you choose is used for."
   ]
  },
  {
   "cell_type": "markdown",
   "metadata": {},
   "source": [
    "Three modules that are part of the Python Standard Library are ```math```, ```statistics``` and ```random```.\n",
    "\n",
    "```math``` - The math module contains math functions such as sin, cos, tan and square root.\n",
    "\n",
    "```statistics``` - The statistics module contains statistics functions such as mean, median, mode and standard deviation.\n",
    "\n",
    "```random``` — The random module has functions to generate random numbers."
   ]
  },
  {
   "cell_type": "markdown",
   "metadata": {
    "latex": {
     "environment": "problems"
    }
   },
   "source": [
    "Q01.08 Which computer operating systems can Python be installed on?"
   ]
  },
  {
   "cell_type": "markdown",
   "metadata": {},
   "source": [
    "Python can be installed on Windows, MacOS and Linux."
   ]
  },
  {
   "cell_type": "markdown",
   "metadata": {
    "latex": {
     "environment": "problems"
    }
   },
   "source": [
    "Q01.09 How much does Python cost to download and install?"
   ]
  },
  {
   "cell_type": "markdown",
   "metadata": {},
   "source": [
    "Python is free to download and install. Python is free to use."
   ]
  },
  {
   "cell_type": "markdown",
   "metadata": {
    "latex": {
     "environment": "problems"
    }
   },
   "source": [
    "Q01.10 What are three subject areas that have seen a growth in the use of Python?"
   ]
  },
  {
   "cell_type": "markdown",
   "metadata": {},
   "source": [
    "Three subject areas that have seen growth in the use of Python are data science and in use with GIS systems, physical modeling, machine learning and computer vision."
   ]
  },
  {
   "cell_type": "markdown",
   "metadata": {
    "latex": {
     "environment": "problems"
    }
   },
   "source": [
    "Q01.11 Besides PyPI.org where else can problem solvers go to find Python packages, scripts, and utilities?"
   ]
  },
  {
   "cell_type": "markdown",
   "metadata": {},
   "source": [
    "Besides PyPI.org other places problem solvers can go to find Python packages, scripts and utilities is conda-forge and GitHub.com"
   ]
  },
  {
   "cell_type": "markdown",
   "metadata": {
    "latex": {
     "environment": "problems"
    }
   },
   "source": [
    "Q01.12 Name three packages that come pre-installed with the Anaconda distribution of Python"
   ]
  },
  {
   "cell_type": "markdown",
   "metadata": {},
   "source": [
    "Three packages the come pre-installed with the Anaconda distribtuion of Python are NumPy, Matplotlib, and SymPy."
   ]
  },
  {
   "cell_type": "markdown",
   "metadata": {
    "latex": {
     "environment": "problems"
    }
   },
   "source": [
    "Q01.13 How much does the Anaconda distribution of Python cost to download and install?"
   ]
  },
  {
   "cell_type": "markdown",
   "metadata": {},
   "source": [
    "The Anaconda distribtuion of Python is free to download and install."
   ]
  },
  {
   "cell_type": "markdown",
   "metadata": {
    "latex": {
     "environment": "problems"
    }
   },
   "source": [
    "Q01.14 Which operating systems can the Anaconda distribution of Python be installed on?"
   ]
  },
  {
   "cell_type": "markdown",
   "metadata": {},
   "source": [
    "The Anaconda distribution of Python can be installed on Windows, MacOS and Linux."
   ]
  },
  {
   "cell_type": "markdown",
   "metadata": {
    "latex": {
     "environment": "problems"
    }
   },
   "source": [
    "Q01.15 What type of program is the Anaconda Prompt?"
   ]
  },
  {
   "cell_type": "markdown",
   "metadata": {},
   "source": [
    "The Anaconda Prompt is a command-line program also called a CLI utility."
   ]
  },
  {
   "cell_type": "markdown",
   "metadata": {
    "latex": {
     "environment": "problems"
    }
   },
   "source": [
    "Q01.16 What is another name for the Python interpreter?"
   ]
  },
  {
   "cell_type": "markdown",
   "metadata": {},
   "source": [
    "Another name for the Python interpreter is the Python REPL for Read, Evaluate, Print Loop."
   ]
  },
  {
   "cell_type": "markdown",
   "metadata": {
    "latex": {
     "environment": "problems"
    }
   },
   "source": [
    "Q01.17 How can you bring up the Python interpreter (the Python REPL) using the Anaconda Prompt?"
   ]
  },
  {
   "cell_type": "markdown",
   "metadata": {},
   "source": [
    "You can bring up the Python interpreter (the Python REPL) using the Anaconda Prompt by typing the command below:\n",
    "    \n",
    "```text\n",
    "> python\n",
    "```"
   ]
  },
  {
   "cell_type": "markdown",
   "metadata": {
    "latex": {
     "environment": "problems"
    }
   },
   "source": [
    "Q01.18 What prompt is shown in the Python interpreter (the Python REPL)?"
   ]
  },
  {
   "cell_type": "markdown",
   "metadata": {},
   "source": [
    "The prompt shown in the Python interpreter (the Python REPL) is shown below:\n",
    "\n",
    "```text\n",
    ">>>\n",
    "```\n"
   ]
  },
  {
   "cell_type": "markdown",
   "metadata": {
    "latex": {
     "environment": "problems"
    }
   },
   "source": [
    "Q01.19 What command do you type to close the Python interpreter (the Python REPL)?"
   ]
  },
  {
   "cell_type": "markdown",
   "metadata": {},
   "source": [
    "The command to type to close the Python interpreter (the Python REPL) is below:\n",
    "\n",
    "```text\n",
    "exit()\n",
    "```\n"
   ]
  },
  {
   "cell_type": "markdown",
   "metadata": {
    "latex": {
     "environment": "problems"
    }
   },
   "source": [
    "Q01.20 What are the first three lines in _The Zen of Python_ by Tim Peters?"
   ]
  },
  {
   "cell_type": "markdown",
   "metadata": {},
   "source": [
    "The first three lins of _The Zen of Python_ by Tim Peter is\n",
    "\n",
    "```text\n",
    "Beautiful is better than ugly.\n",
    "Explicit is better than implicit.\n",
    "Simple is better than complex.\n",
    "```\n"
   ]
  },
  {
   "cell_type": "markdown",
   "metadata": {
    "latex": {
     "environment": "problems"
    }
   },
   "source": [
    "Q01.21 How do you open the Anaconda Prompt?"
   ]
  },
  {
   "cell_type": "markdown",
   "metadata": {},
   "source": [
    "You can open the Anaconda Prompt by going to the Windows Start Menu and searching for ```Anaconda``` then select [Anaconda Prompt (Anaconda3)]. You can also click the Windows Start Menu, look in the list for Anaconda3 (64-bit), open the folder and select [Anaconda Prompt (Anaconda3)]."
   ]
  },
  {
   "cell_type": "markdown",
   "metadata": {},
   "source": [
    "#### Installing Python on MacOS"
   ]
  },
  {
   "cell_type": "markdown",
   "metadata": {
    "latex": {
     "environment": "problems"
    }
   },
   "source": [
    "Q01.30 What web address do you go to download the Anaconda distribution of Python for MacOS?"
   ]
  },
  {
   "cell_type": "markdown",
   "metadata": {},
   "source": [
    "To download the Anaconda distribution of Python for MacOS, go to\n",
    "\n",
    "```text\n",
    "https://www.anaconda.com/products/individual\n",
    "```\n"
   ]
  },
  {
   "cell_type": "markdown",
   "metadata": {
    "latex": {
     "environment": "problems"
    }
   },
   "source": [
    "Q01.31 What file extension does the installer for MacOS of the Anaconda distribution of Python use?"
   ]
  },
  {
   "cell_type": "markdown",
   "metadata": {},
   "source": [
    "The file extension the installer for MacOS of the Anconda distribution of Python is a .pkg file."
   ]
  },
  {
   "cell_type": "markdown",
   "metadata": {
    "latex": {
     "environment": "problems"
    }
   },
   "source": [
    "Q01.32 When you install the Anaconda distribution of Python on MacOS, what is advised to do for the installation options?"
   ]
  },
  {
   "cell_type": "markdown",
   "metadata": {},
   "source": [
    "When you install the Anaconda distribution of Python on MacOS, it is advised that you install Anaconda for the current user and select the option for Anaconda to be added added to your PATH."
   ]
  },
  {
   "cell_type": "markdown",
   "metadata": {
    "latex": {
     "environment": "problems"
    }
   },
   "source": [
    "Q01.33 Why do you need to ```source``` the **_.bashrc_** file after you install the Anaconda distribution of Python for MacOS?"
   ]
  },
  {
   "cell_type": "markdown",
   "metadata": {},
   "source": [
    "In order to put the Anaconda distribution of Python on a terminal's path, the terminal either needs to be closed and then re-opened or the ```source``` command can be typed to load the information from ```.bashrc``` into the current terminal session."
   ]
  },
  {
   "cell_type": "markdown",
   "metadata": {
    "latex": {
     "environment": "problems"
    }
   },
   "source": [
    "Q01.34 How can you bring up the Python interpreter (the Python REPL) using the MacOS terminal?"
   ]
  },
  {
   "cell_type": "markdown",
   "metadata": {},
   "source": [
    "You can bring up the Python interpreter, also called the Python REPL, by typing the command below:\n",
    "    \n",
    "```text\n",
    "$ python\n",
    "```\n"
   ]
  },
  {
   "cell_type": "markdown",
   "metadata": {
    "latex": {
     "environment": "problems"
    }
   },
   "source": [
    "Q01.35 Which version of Python is it advisable to download and install on MacOS?"
   ]
  },
  {
   "cell_type": "markdown",
   "metadata": {},
   "source": [
    "According to the text, the newest Anaconda distribution of Python is the version of Python that you should download and install on MacOS."
   ]
  },
  {
   "cell_type": "markdown",
   "metadata": {
    "latex": {
     "environment": "problems"
    }
   },
   "source": [
    "Q01.36 Python can be installed on MacOS using a terminal program called **Homebrew**. What command is issued to the MacOS terminal to install Python using **Homebrew**?"
   ]
  },
  {
   "cell_type": "markdown",
   "metadata": {},
   "source": [
    "The command to install Python on MacOS with the terminal program Homebrew is below.\n",
    "\n",
    "```\n",
    "$ brew install python\n",
    "```\n"
   ]
  },
  {
   "cell_type": "markdown",
   "metadata": {
    "latex": {
     "environment": "problems"
    }
   },
   "source": [
    "Q01.37 What version of Python comes pre-installed on MacOS?"
   ]
  },
  {
   "cell_type": "markdown",
   "metadata": {},
   "source": [
    "According to the text, the version of Python that comes pre-installed on MacOS is Python 2.7."
   ]
  },
  {
   "cell_type": "markdown",
   "metadata": {},
   "source": [
    "#### Installing Python on Linux"
   ]
  },
  {
   "cell_type": "markdown",
   "metadata": {
    "latex": {
     "environment": "problems"
    }
   },
   "source": [
    "Q01.40 What version(s) of Python comes pre-installed on most Linux distributions?"
   ]
  },
  {
   "cell_type": "markdown",
   "metadata": {},
   "source": [
    "According to the text, the version of Python that comes pre-installed on most Linux distributions is Python 2.7"
   ]
  },
  {
   "cell_type": "markdown",
   "metadata": {
    "latex": {
     "environment": "problems"
    }
   },
   "source": [
    "Q01.41 In Linux, what happens when you type ```python``` at the terminal compared to when you type ```python3``` at the terminal?"
   ]
  },
  {
   "cell_type": "markdown",
   "metadata": {},
   "source": [
    "According to the text, when ```python``` is entered into a Linux terminal, the result could be a Python version 2.7 REPL. According to the text, when ```python``` is entered into a Linux terminal, the result could be a Python version 3.6 REPL."
   ]
  },
  {
   "cell_type": "markdown",
   "metadata": {
    "latex": {
     "environment": "problems"
    }
   },
   "source": [
    "Q01.42 If you use the system version of Python 3 installed on Linux, what command must you enter to install Python packages to the Python 3 version that comes pre-installed?"
   ]
  },
  {
   "cell_type": "markdown",
   "metadata": {},
   "source": [
    "You need to use the command below:\n",
    "    \n",
    "```text\n",
    "$ pip3\n",
    "```\n",
    "\n",
    "For example to install NumPy on the system version of Python, run the command below:\n",
    "    \n",
    "```text\n",
    "$ pip3 install numpy\n",
    "```"
   ]
  },
  {
   "cell_type": "markdown",
   "metadata": {
    "latex": {
     "environment": "problems"
    }
   },
   "source": [
    "Q01.43 What kind of file type (what is the file extension) is downloaded from Anaconda.com to install the Anaconda distribution of Python on Linux?"
   ]
  },
  {
   "cell_type": "markdown",
   "metadata": {},
   "source": [
    "The type of file that is downloaded from Anaconda.com to install the Anaconda distribution of Python on Linux is a ```.sh``` file, a bash file."
   ]
  },
  {
   "cell_type": "markdown",
   "metadata": {
    "latex": {
     "environment": "problems"
    }
   },
   "source": [
    "Q01.44 Why do you need to ```source``` the **_.bashrc_** file after you install the Anaconda distribution of Python for Linux?"
   ]
  },
  {
   "cell_type": "markdown",
   "metadata": {},
   "source": [
    "In order to put the Anaconda distribution of Python on a terminal's path, the terminal either needs to be closed and then re-opened or the ```source``` command can be typed to load the information from ```.bashrc``` into the current terminal session."
   ]
  },
  {
   "cell_type": "markdown",
   "metadata": {
    "latex": {
     "environment": "problems"
    }
   },
   "source": [
    "Q01.45 How can you bring up the Python interpreter (the Python REPL) using a Linux terminal?"
   ]
  },
  {
   "cell_type": "markdown",
   "metadata": {},
   "source": [
    "You can bring up the Python interpreter, also called the Python REPL, using a Linux termial by typing the command below into a terminal.\n",
    "\n",
    "```text\n",
    "$ python3\n",
    "```\n"
   ]
  },
  {
   "cell_type": "markdown",
   "metadata": {
    "latex": {
     "environment": "problems"
    }
   },
   "source": [
    "Q01.46 Which version of Python is it advisable to download and install on Linux?"
   ]
  },
  {
   "cell_type": "markdown",
   "metadata": {},
   "source": [
    "According to the text, the Anaconda distribution of Python is the Python version you should install on your Linux computer."
   ]
  },
  {
   "cell_type": "markdown",
   "metadata": {
    "latex": {
     "environment": "problems"
    }
   },
   "source": [
    "Q01.47 What is a disadvantage of using the version of Python that comes pre-installed on Linux, compared to using the Anaconda distribution of Python on Linux?"
   ]
  },
  {
   "cell_type": "markdown",
   "metadata": {},
   "source": [
    "A disadvantage of using the version of Python that comes pre-installed on Linux, compared to using the Anaconda distribution of Python is that the version of Python installed on Linux could be older than the most up to date Python version. Another disadvantage of using the system version of Python on Linux is that packages installed could conflict depending on versioning and package dependancies."
   ]
  },
  {
   "cell_type": "markdown",
   "metadata": {
    "latex": {
     "environment": "problems"
    }
   },
   "source": [
    "Q01.48 Before you install the Anaconda distribution of Python on Linux, what version of Python are you most likely to see when you enter the command ```$ python``` in a Linux terminal?"
   ]
  },
  {
   "cell_type": "markdown",
   "metadata": {},
   "source": [
    "According to the text, you are most likely to see Python version 2.7 when you type ```$ python3``` in a Linux terminal. However, it depends on which Linux distribution is installed and which version of that distribution. Newer Linux distributions will show Python version 3.8 or above."
   ]
  },
  {
   "cell_type": "markdown",
   "metadata": {
    "latex": {
     "environment": "problems"
    }
   },
   "source": [
    "Q01.49 Before you install the Anaconda distribution of Python on Linux, what version of Python are you most likely to see when you enter the command ```$ python3``` in a Linux terminal?"
   ]
  },
  {
   "cell_type": "markdown",
   "metadata": {},
   "source": [
    "According to the text, you are most likely to see Python version 3.6 when you type ```$ python3``` in a Linux terminal. However, it depends on which Linux distribution is installed and which version of that distribution. Newer Linux distributions will show Python version 3.8 or above."
   ]
  },
  {
   "cell_type": "markdown",
   "metadata": {},
   "source": [
    "#### Installing Python from Python.org"
   ]
  },
  {
   "cell_type": "markdown",
   "metadata": {
    "latex": {
     "environment": "problems"
    }
   },
   "source": [
    "Q01.50 What web address do you go to download Python from Python.org?"
   ]
  },
  {
   "cell_type": "markdown",
   "metadata": {},
   "source": [
    "To download Python from Python.org, go to:\n",
    "    \n",
    "[https://www.python.org/downloads/](https://www.python.org/downloads/)\n"
   ]
  },
  {
   "cell_type": "markdown",
   "metadata": {
    "latex": {
     "environment": "problems"
    }
   },
   "source": [
    "Q01.51 What option is advised to select when downloading and installing Python from Python.org on Windows?"
   ]
  },
  {
   "cell_type": "markdown",
   "metadata": {},
   "source": [
    "When Python is downloaded and installed from Python.org, it's advised to select the box [add Python to my path] during the installation."
   ]
  },
  {
   "cell_type": "markdown",
   "metadata": {
    "latex": {
     "environment": "problems"
    }
   },
   "source": [
    "Q01.52 If Python 3 is not available on Linux, what package repository can Python 3.6 be downloaded from?"
   ]
  },
  {
   "cell_type": "markdown",
   "metadata": {},
   "source": [
    "If Python 3 is not availble on Linux, the apt package reposity can be used to install Python 3.6 or a newer version of Python. In addition, the deadsnakes repository can be used to install versions of Python that are current as well as older versions of python. The commands below can be used on Linux to install Python 3.6.\n",
    "\n",
    "```text\n",
    "$ sudo apt-get install software-properties-common\n",
    "$ sudo add-apt-repository ppa:deadsnakes/ppa\n",
    "$ sudo apt-get update\n",
    "$ sudo apt-get install python3.6\n",
    "```\n"
   ]
  },
  {
   "cell_type": "markdown",
   "metadata": {
    "latex": {
     "environment": "problems"
    }
   },
   "source": [
    "Q01.53 Go to Python.org. What is the current version of Python available for download?"
   ]
  },
  {
   "cell_type": "markdown",
   "metadata": {},
   "source": [
    "At the time of writing, the current version of Python is Python 3.9.5\n",
    "\n",
    "![Python.org](images/python_dot_org.png)"
   ]
  },
  {
   "cell_type": "markdown",
   "metadata": {},
   "source": [
    "#### Errors, Explanations, and Solutions"
   ]
  },
  {
   "cell_type": "markdown",
   "metadata": {
    "latex": {
     "environment": "problems"
    }
   },
   "source": [
    "For each of the problems below, run the line of code. Copy the output, then suggest and run a line of code that fixes the error."
   ]
  },
  {
   "cell_type": "markdown",
   "metadata": {
    "latex": {
     "environment": "problems"
    }
   },
   "source": [
    "Q01.91 Open the Python Interpreter (the Python REPL). Try to close the Python Interpreter with the command:\n",
    "\n",
    "```\n",
    ">>> exit\n",
    "```"
   ]
  },
  {
   "cell_type": "markdown",
   "metadata": {},
   "source": [
    "![Python REPL exit](images/anaconda_prompt_exit.jpg)"
   ]
  },
  {
   "cell_type": "markdown",
   "metadata": {},
   "source": [
    "![python REPL exit()](images/anaconda_prompt_exit_right.jpg)"
   ]
  },
  {
   "cell_type": "markdown",
   "metadata": {
    "latex": {
     "environment": "problems"
    }
   },
   "source": [
    "Q02.92 Open the Python Interpreter (the Python REPL). Try to view _The Zen of Python_ by Tim Peters with the command:\n",
    "```\n",
    ">>> Zen of Python\n",
    "```"
   ]
  },
  {
   "cell_type": "markdown",
   "metadata": {},
   "source": [
    "![anaconda prompt zen of python](images/anaconda_prompt_zen_of_python.jpg)"
   ]
  },
  {
   "cell_type": "code",
   "execution_count": 1,
   "metadata": {},
   "outputs": [
    {
     "name": "stdout",
     "output_type": "stream",
     "text": [
      "The Zen of Python, by Tim Peters\n",
      "\n",
      "Beautiful is better than ugly.\n",
      "Explicit is better than implicit.\n",
      "Simple is better than complex.\n",
      "Complex is better than complicated.\n",
      "Flat is better than nested.\n",
      "Sparse is better than dense.\n",
      "Readability counts.\n",
      "Special cases aren't special enough to break the rules.\n",
      "Although practicality beats purity.\n",
      "Errors should never pass silently.\n",
      "Unless explicitly silenced.\n",
      "In the face of ambiguity, refuse the temptation to guess.\n",
      "There should be one-- and preferably only one --obvious way to do it.\n",
      "Although that way may not be obvious at first unless you're Dutch.\n",
      "Now is better than never.\n",
      "Although never is often better than *right* now.\n",
      "If the implementation is hard to explain, it's a bad idea.\n",
      "If the implementation is easy to explain, it may be a good idea.\n",
      "Namespaces are one honking great idea -- let's do more of those!\n"
     ]
    }
   ],
   "source": [
    ">>> import this"
   ]
  },
  {
   "cell_type": "markdown",
   "metadata": {
    "latex": {
     "environment": "problems"
    }
   },
   "source": [
    "Q01.93 Open the Anaconda Prompt. Try to open the Python Interpreter (the Python REPL) with the command:\n",
    "\n",
    "```\n",
    "> python3\n",
    "```"
   ]
  },
  {
   "cell_type": "markdown",
   "metadata": {},
   "source": [
    "![anaconda prompt python3](images/anaconda_prompt_python3.jpg)"
   ]
  },
  {
   "cell_type": "markdown",
   "metadata": {
    "latex": {
     "environment": "problems"
    }
   },
   "source": [
    "Q01.94 Open the Anaconda Prompt. Try to open the Python Interpreter (the Python REPL) with the command:\n",
    "\n",
    "```\n",
    "> Python\n",
    "```"
   ]
  },
  {
   "cell_type": "markdown",
   "metadata": {},
   "source": [
    "![anaconda prompt python](images/anaconda_prompt_python.jpg)"
   ]
  },
  {
   "cell_type": "markdown",
   "metadata": {
    "latex": {
     "environment": "problems"
    }
   },
   "source": [
    "Q02.95 Open the Python Interpreter (the Python REPL). Try to view _The Zen of Python_ by Tim Peters with the command:\n",
    "\n",
    "```\n",
    ">>> import this()\n",
    "```"
   ]
  },
  {
   "cell_type": "code",
   "execution_count": 2,
   "metadata": {},
   "outputs": [
    {
     "ename": "SyntaxError",
     "evalue": "invalid syntax (<ipython-input-2-1087fbed7db5>, line 1)",
     "output_type": "error",
     "traceback": [
      "\u001b[1;36m  File \u001b[1;32m\"<ipython-input-2-1087fbed7db5>\"\u001b[1;36m, line \u001b[1;32m1\u001b[0m\n\u001b[1;33m    import this()\u001b[0m\n\u001b[1;37m               ^\u001b[0m\n\u001b[1;31mSyntaxError\u001b[0m\u001b[1;31m:\u001b[0m invalid syntax\n"
     ]
    }
   ],
   "source": [
    ">>> import this()"
   ]
  },
  {
   "cell_type": "markdown",
   "metadata": {},
   "source": [
    "When you run ```import this()``` at the Python Interpreter (the Python REPL), an error is returned. To fix the error, remove the parenthesis in the command, and type ```import this``` instead."
   ]
  },
  {
   "cell_type": "code",
   "execution_count": 3,
   "metadata": {},
   "outputs": [],
   "source": [
    ">>> import this"
   ]
  }
 ],
 "metadata": {
  "celltoolbar": "Edit Metadata",
  "kernelspec": {
   "display_name": "Python 3",
   "language": "python",
   "name": "python3"
  },
  "language_info": {
   "codemirror_mode": {
    "name": "ipython",
    "version": 3
   },
   "file_extension": ".py",
   "mimetype": "text/x-python",
   "name": "python",
   "nbconvert_exporter": "python",
   "pygments_lexer": "ipython3",
   "version": "3.8.5"
  }
 },
 "nbformat": 4,
 "nbformat_minor": 2
}
